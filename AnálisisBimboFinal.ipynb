{
 "cells": [
  {
   "cell_type": "code",
   "execution_count": 459,
   "metadata": {
    "id": "h4uo9UVgWlNz"
   },
   "outputs": [],
   "source": [
    "import pandas as pd\n",
    "import re\n",
    "import seaborn as sns\n",
    "import numpy as np\n",
    "import random as rd\n",
    "import matplotlib.pyplot as plt\n",
    "import scipy.cluster.hierarchy as shc\n",
    "import warnings\n",
    "warnings.filterwarnings('ignore')\n",
    "from sklearn.metrics import pairwise_distances,silhouette_score\n",
    "from sklearn.cluster import KMeans\n",
    "from yellowbrick.cluster import KElbowVisualizer\n",
    "from kmodes.kprototypes import KPrototypes"
   ]
  },
  {
   "cell_type": "code",
   "execution_count": 312,
   "metadata": {
    "id": "GIirYBW1LWgf"
   },
   "outputs": [],
   "source": [
    "df = pd.read_csv(\"/Users/fernandohernandezesquivel/Desktop/Trabajo final/BM_DF_2022.csv\",skiprows=12, encoding=\"latin\",engine='python')\n",
    "#Colab\n",
    "#df = pd.read_csv(\"/content/BM_DF_2022.csv\",skiprows=12, encoding=\"latin\",engine='python')"
   ]
  },
  {
   "cell_type": "markdown",
   "metadata": {
    "id": "e4bX-IfMwzJY"
   },
   "source": [
    "## EXPLORACIÓN DE DATOS"
   ]
  },
  {
   "cell_type": "code",
   "execution_count": 313,
   "metadata": {
    "colab": {
     "base_uri": "https://localhost:8080/"
    },
    "id": "qO1bGrLve-NL",
    "outputId": "c1df0d02-5098-47f9-a314-ba18a3cb7f3f"
   },
   "outputs": [
    {
     "name": "stdout",
     "output_type": "stream",
     "text": [
      "<class 'pandas.core.frame.DataFrame'>\n",
      "RangeIndex: 206531 entries, 0 to 206530\n",
      "Data columns (total 20 columns):\n",
      " #   Column                         Non-Null Count   Dtype \n",
      "---  ------                         --------------   ----- \n",
      " 0   Dispositivo                    206531 non-null  object\n",
      " 1   Grupo de dispositivos          206531 non-null  object\n",
      " 2   Nombre                         95047 non-null   object\n",
      " 3   Device ID                      206531 non-null  object\n",
      " 4   User ID                        95047 non-null   object\n",
      " 5   Apellido                       95047 non-null   object\n",
      " 6   Conductor                      95047 non-null   object\n",
      " 7   Grupo de conductores           95042 non-null   object\n",
      " 8   Depart Date                    206531 non-null  object\n",
      " 9   Fecha de inicio                206531 non-null  object\n",
      " 10  Iniciar en horas de servicios  206531 non-null  object\n",
      " 11  Duración de conducción         206531 non-null  object\n",
      " 12  Fecha de parada                206531 non-null  object\n",
      " 13  Parada en horas de servicio    206531 non-null  object\n",
      " 14  Distancia                      206531 non-null  int64 \n",
      " 15  Duración de la parada          206531 non-null  object\n",
      " 16  Ubicación                      206531 non-null  object\n",
      " 17  Tipos de zonas de parada       195469 non-null  object\n",
      " 18  Tiempo en ralentí              206531 non-null  object\n",
      " 19  Velocidad máxima               206531 non-null  int64 \n",
      "dtypes: int64(2), object(18)\n",
      "memory usage: 31.5+ MB\n"
     ]
    }
   ],
   "source": [
    "df.info()"
   ]
  },
  {
   "cell_type": "code",
   "execution_count": 314,
   "metadata": {
    "colab": {
     "base_uri": "https://localhost:8080/"
    },
    "id": "3mIp-PfdedYt",
    "outputId": "7160c0f7-2e1e-43d8-f225-e3bc87aedcfa"
   },
   "outputs": [
    {
     "data": {
      "text/plain": [
       "Dispositivo                                                               FV040849\n",
       "Grupo de dispositivos                                             | MEXICO - BMA |\n",
       "Nombre                                                                         NaN\n",
       "Device ID                                                                      b33\n",
       "User ID                                                                        NaN\n",
       "Apellido                                                                       NaN\n",
       "Conductor                                                                      NaN\n",
       "Grupo de conductores                                                           NaN\n",
       "Depart Date                                                       febrero 22, 2020\n",
       "Fecha de inicio                                           feb. 22, 2020 1:03:07 PM\n",
       "Iniciar en horas de servicios                                                FALSO\n",
       "Duración de conducción                                                        0:06\n",
       "Fecha de parada                                           feb. 22, 2020 1:09:23 PM\n",
       "Parada en horas de servicio                                                  FALSO\n",
       "Distancia                                                                        0\n",
       "Duración de la parada                                                         0:08\n",
       "Ubicación                        VOLVO: 290 Autopista Querétaro - Méxic, Autopi...\n",
       "Tipos de zonas de parada                                            TALLER EXTERNO\n",
       "Tiempo en ralentí                                                             0:00\n",
       "Velocidad máxima                                                                 2\n",
       "Name: 0, dtype: object"
      ]
     },
     "execution_count": 314,
     "metadata": {},
     "output_type": "execute_result"
    }
   ],
   "source": [
    "df.iloc[0]"
   ]
  },
  {
   "cell_type": "code",
   "execution_count": 315,
   "metadata": {
    "colab": {
     "base_uri": "https://localhost:8080/"
    },
    "id": "kMEzrtH0bRFT",
    "outputId": "8b46c2b9-9974-4565-84f0-174a581d57d9"
   },
   "outputs": [
    {
     "data": {
      "text/plain": [
       "Dispositivo                           0\n",
       "Grupo de dispositivos                 0\n",
       "Nombre                           111484\n",
       "Device ID                             0\n",
       "User ID                          111484\n",
       "Apellido                         111484\n",
       "Conductor                        111484\n",
       "Grupo de conductores             111489\n",
       "Depart Date                           0\n",
       "Fecha de inicio                       0\n",
       "Iniciar en horas de servicios         0\n",
       "Duración de conducción                0\n",
       "Fecha de parada                       0\n",
       "Parada en horas de servicio           0\n",
       "Distancia                             0\n",
       "Duración de la parada                 0\n",
       "Ubicación                             0\n",
       "Tipos de zonas de parada          11062\n",
       "Tiempo en ralentí                     0\n",
       "Velocidad máxima                      0\n",
       "dtype: int64"
      ]
     },
     "execution_count": 315,
     "metadata": {},
     "output_type": "execute_result"
    }
   ],
   "source": [
    "df.isna().sum()"
   ]
  },
  {
   "cell_type": "code",
   "execution_count": 316,
   "metadata": {
    "colab": {
     "base_uri": "https://localhost:8080/",
     "height": 738
    },
    "id": "cU5F8EMuL876",
    "outputId": "0b54dc12-6c26-408e-f64d-6e8dcc6dd317"
   },
   "outputs": [
    {
     "data": {
      "text/html": [
       "<div>\n",
       "<style scoped>\n",
       "    .dataframe tbody tr th:only-of-type {\n",
       "        vertical-align: middle;\n",
       "    }\n",
       "\n",
       "    .dataframe tbody tr th {\n",
       "        vertical-align: top;\n",
       "    }\n",
       "\n",
       "    .dataframe thead th {\n",
       "        text-align: right;\n",
       "    }\n",
       "</style>\n",
       "<table border=\"1\" class=\"dataframe\">\n",
       "  <thead>\n",
       "    <tr style=\"text-align: right;\">\n",
       "      <th></th>\n",
       "      <th>Dispositivo</th>\n",
       "      <th>Grupo de dispositivos</th>\n",
       "      <th>Nombre</th>\n",
       "      <th>Device ID</th>\n",
       "      <th>User ID</th>\n",
       "      <th>Apellido</th>\n",
       "      <th>Conductor</th>\n",
       "      <th>Grupo de conductores</th>\n",
       "      <th>Depart Date</th>\n",
       "      <th>Fecha de inicio</th>\n",
       "      <th>Iniciar en horas de servicios</th>\n",
       "      <th>Duración de conducción</th>\n",
       "      <th>Fecha de parada</th>\n",
       "      <th>Parada en horas de servicio</th>\n",
       "      <th>Distancia</th>\n",
       "      <th>Duración de la parada</th>\n",
       "      <th>Ubicación</th>\n",
       "      <th>Tipos de zonas de parada</th>\n",
       "      <th>Tiempo en ralentí</th>\n",
       "      <th>Velocidad máxima</th>\n",
       "    </tr>\n",
       "  </thead>\n",
       "  <tbody>\n",
       "    <tr>\n",
       "      <th>0</th>\n",
       "      <td>FV040849</td>\n",
       "      <td>| MEXICO - BMA |</td>\n",
       "      <td>NaN</td>\n",
       "      <td>b33</td>\n",
       "      <td>NaN</td>\n",
       "      <td>NaN</td>\n",
       "      <td>NaN</td>\n",
       "      <td>NaN</td>\n",
       "      <td>febrero 22, 2020</td>\n",
       "      <td>feb. 22, 2020 1:03:07 PM</td>\n",
       "      <td>FALSO</td>\n",
       "      <td>0:06</td>\n",
       "      <td>feb. 22, 2020 1:09:23 PM</td>\n",
       "      <td>FALSO</td>\n",
       "      <td>0</td>\n",
       "      <td>0:08</td>\n",
       "      <td>VOLVO: 290 Autopista Querétaro - Méxic, Autopi...</td>\n",
       "      <td>TALLER EXTERNO</td>\n",
       "      <td>0:00</td>\n",
       "      <td>2</td>\n",
       "    </tr>\n",
       "    <tr>\n",
       "      <th>1</th>\n",
       "      <td>FV040849</td>\n",
       "      <td>| MEXICO - BMA |</td>\n",
       "      <td>NaN</td>\n",
       "      <td>b33</td>\n",
       "      <td>NaN</td>\n",
       "      <td>NaN</td>\n",
       "      <td>NaN</td>\n",
       "      <td>NaN</td>\n",
       "      <td>febrero 22, 2020</td>\n",
       "      <td>feb. 22, 2020 1:17:30 PM</td>\n",
       "      <td>FALSO</td>\n",
       "      <td>0:04</td>\n",
       "      <td>feb. 22, 2020 1:21:39 PM</td>\n",
       "      <td>FALSO</td>\n",
       "      <td>0</td>\n",
       "      <td>0:05</td>\n",
       "      <td>VOLVO: 290 Autopista Querétaro - Méxic, Autopi...</td>\n",
       "      <td>TALLER EXTERNO</td>\n",
       "      <td>0:00</td>\n",
       "      <td>3</td>\n",
       "    </tr>\n",
       "    <tr>\n",
       "      <th>2</th>\n",
       "      <td>FV040849</td>\n",
       "      <td>| MEXICO - BMA |</td>\n",
       "      <td>NaN</td>\n",
       "      <td>b33</td>\n",
       "      <td>NaN</td>\n",
       "      <td>NaN</td>\n",
       "      <td>NaN</td>\n",
       "      <td>NaN</td>\n",
       "      <td>febrero 22, 2020</td>\n",
       "      <td>feb. 22, 2020 1:27:29 PM</td>\n",
       "      <td>FALSO</td>\n",
       "      <td>0:10</td>\n",
       "      <td>feb. 22, 2020 1:38:09 PM</td>\n",
       "      <td>FALSO</td>\n",
       "      <td>0</td>\n",
       "      <td>46:19</td>\n",
       "      <td>VOLVO: 290 Autopista Querétaro - Méxic, Autopi...</td>\n",
       "      <td>TALLER EXTERNO</td>\n",
       "      <td>0:00</td>\n",
       "      <td>2</td>\n",
       "    </tr>\n",
       "    <tr>\n",
       "      <th>3</th>\n",
       "      <td>FV040849</td>\n",
       "      <td>| MEXICO - BMA |</td>\n",
       "      <td>NaN</td>\n",
       "      <td>b33</td>\n",
       "      <td>NaN</td>\n",
       "      <td>NaN</td>\n",
       "      <td>NaN</td>\n",
       "      <td>NaN</td>\n",
       "      <td>febrero 24, 2020</td>\n",
       "      <td>feb. 24, 2020 11:57:17 AM</td>\n",
       "      <td>VERDADERO</td>\n",
       "      <td>0:02</td>\n",
       "      <td>feb. 24, 2020 11:59:43 AM</td>\n",
       "      <td>VERDADERO</td>\n",
       "      <td>0</td>\n",
       "      <td>21:03</td>\n",
       "      <td>VOLVO: 290 Autopista Querétaro - Méxic, Autopi...</td>\n",
       "      <td>TALLER EXTERNO</td>\n",
       "      <td>0:01</td>\n",
       "      <td>2</td>\n",
       "    </tr>\n",
       "    <tr>\n",
       "      <th>4</th>\n",
       "      <td>FV040849</td>\n",
       "      <td>| MEXICO - BMA |</td>\n",
       "      <td>NaN</td>\n",
       "      <td>b33</td>\n",
       "      <td>NaN</td>\n",
       "      <td>NaN</td>\n",
       "      <td>NaN</td>\n",
       "      <td>NaN</td>\n",
       "      <td>febrero 25, 2020</td>\n",
       "      <td>feb. 25, 2020 9:03:26 AM</td>\n",
       "      <td>VERDADERO</td>\n",
       "      <td>1:03</td>\n",
       "      <td>feb. 25, 2020 10:07:08 AM</td>\n",
       "      <td>VERDADERO</td>\n",
       "      <td>1</td>\n",
       "      <td>2:39</td>\n",
       "      <td>VOLVO: 290 Autopista Querétaro - Méxic, Autopi...</td>\n",
       "      <td>TALLER EXTERNO</td>\n",
       "      <td>2:36</td>\n",
       "      <td>2</td>\n",
       "    </tr>\n",
       "  </tbody>\n",
       "</table>\n",
       "</div>"
      ],
      "text/plain": [
       "  Dispositivo Grupo de dispositivos Nombre Device ID User ID Apellido  \\\n",
       "0    FV040849      | MEXICO - BMA |    NaN       b33     NaN      NaN   \n",
       "1    FV040849      | MEXICO - BMA |    NaN       b33     NaN      NaN   \n",
       "2    FV040849      | MEXICO - BMA |    NaN       b33     NaN      NaN   \n",
       "3    FV040849      | MEXICO - BMA |    NaN       b33     NaN      NaN   \n",
       "4    FV040849      | MEXICO - BMA |    NaN       b33     NaN      NaN   \n",
       "\n",
       "  Conductor Grupo de conductores       Depart Date            Fecha de inicio  \\\n",
       "0       NaN                  NaN  febrero 22, 2020   feb. 22, 2020 1:03:07 PM   \n",
       "1       NaN                  NaN  febrero 22, 2020   feb. 22, 2020 1:17:30 PM   \n",
       "2       NaN                  NaN  febrero 22, 2020   feb. 22, 2020 1:27:29 PM   \n",
       "3       NaN                  NaN  febrero 24, 2020  feb. 24, 2020 11:57:17 AM   \n",
       "4       NaN                  NaN  febrero 25, 2020   feb. 25, 2020 9:03:26 AM   \n",
       "\n",
       "  Iniciar en horas de servicios Duración de conducción  \\\n",
       "0                         FALSO                   0:06   \n",
       "1                         FALSO                   0:04   \n",
       "2                         FALSO                   0:10   \n",
       "3                     VERDADERO                   0:02   \n",
       "4                     VERDADERO                   1:03   \n",
       "\n",
       "             Fecha de parada Parada en horas de servicio  Distancia  \\\n",
       "0   feb. 22, 2020 1:09:23 PM                       FALSO          0   \n",
       "1   feb. 22, 2020 1:21:39 PM                       FALSO          0   \n",
       "2   feb. 22, 2020 1:38:09 PM                       FALSO          0   \n",
       "3  feb. 24, 2020 11:59:43 AM                   VERDADERO          0   \n",
       "4  feb. 25, 2020 10:07:08 AM                   VERDADERO          1   \n",
       "\n",
       "  Duración de la parada                                          Ubicación  \\\n",
       "0                  0:08  VOLVO: 290 Autopista Querétaro - Méxic, Autopi...   \n",
       "1                  0:05  VOLVO: 290 Autopista Querétaro - Méxic, Autopi...   \n",
       "2                 46:19  VOLVO: 290 Autopista Querétaro - Méxic, Autopi...   \n",
       "3                 21:03  VOLVO: 290 Autopista Querétaro - Méxic, Autopi...   \n",
       "4                  2:39  VOLVO: 290 Autopista Querétaro - Méxic, Autopi...   \n",
       "\n",
       "  Tipos de zonas de parada Tiempo en ralentí  Velocidad máxima  \n",
       "0           TALLER EXTERNO              0:00                 2  \n",
       "1           TALLER EXTERNO              0:00                 3  \n",
       "2           TALLER EXTERNO              0:00                 2  \n",
       "3           TALLER EXTERNO              0:01                 2  \n",
       "4           TALLER EXTERNO              2:36                 2  "
      ]
     },
     "execution_count": 316,
     "metadata": {},
     "output_type": "execute_result"
    }
   ],
   "source": [
    "df.head()"
   ]
  },
  {
   "cell_type": "code",
   "execution_count": 317,
   "metadata": {
    "colab": {
     "base_uri": "https://localhost:8080/",
     "height": 565
    },
    "id": "KOFEJ2YSGwte",
    "outputId": "d10ee749-f88b-4b98-c87f-38553152fb83"
   },
   "outputs": [
    {
     "data": {
      "text/html": [
       "<div>\n",
       "<style scoped>\n",
       "    .dataframe tbody tr th:only-of-type {\n",
       "        vertical-align: middle;\n",
       "    }\n",
       "\n",
       "    .dataframe tbody tr th {\n",
       "        vertical-align: top;\n",
       "    }\n",
       "\n",
       "    .dataframe thead th {\n",
       "        text-align: right;\n",
       "    }\n",
       "</style>\n",
       "<table border=\"1\" class=\"dataframe\">\n",
       "  <thead>\n",
       "    <tr style=\"text-align: right;\">\n",
       "      <th></th>\n",
       "      <th>Dispositivo</th>\n",
       "      <th>Grupo de dispositivos</th>\n",
       "      <th>Nombre</th>\n",
       "      <th>Device ID</th>\n",
       "      <th>User ID</th>\n",
       "      <th>Apellido</th>\n",
       "      <th>Conductor</th>\n",
       "      <th>Grupo de conductores</th>\n",
       "      <th>Depart Date</th>\n",
       "      <th>Fecha de inicio</th>\n",
       "      <th>Iniciar en horas de servicios</th>\n",
       "      <th>Duración de conducción</th>\n",
       "      <th>Fecha de parada</th>\n",
       "      <th>Parada en horas de servicio</th>\n",
       "      <th>Distancia</th>\n",
       "      <th>Duración de la parada</th>\n",
       "      <th>Ubicación</th>\n",
       "      <th>Tipos de zonas de parada</th>\n",
       "      <th>Tiempo en ralentí</th>\n",
       "      <th>Velocidad máxima</th>\n",
       "    </tr>\n",
       "  </thead>\n",
       "  <tbody>\n",
       "    <tr>\n",
       "      <th>206526</th>\n",
       "      <td>FVX00416</td>\n",
       "      <td>| MEXICO - BMA |</td>\n",
       "      <td>NaN</td>\n",
       "      <td>b1F4</td>\n",
       "      <td>NaN</td>\n",
       "      <td>NaN</td>\n",
       "      <td>NaN</td>\n",
       "      <td>NaN</td>\n",
       "      <td>febrero 18, 2022</td>\n",
       "      <td>feb. 18, 2022 6:06:34 AM</td>\n",
       "      <td>VERDADERO</td>\n",
       "      <td>0:06</td>\n",
       "      <td>feb. 18, 2022 6:12:36 AM</td>\n",
       "      <td>VERDADERO</td>\n",
       "      <td>1</td>\n",
       "      <td>0:00</td>\n",
       "      <td>BMA_PTA_AZCAPOTZALCO_|BMA|_#100_1002#: Calle 5...</td>\n",
       "      <td>PLANTAS y CEDIS</td>\n",
       "      <td>0:00</td>\n",
       "      <td>20</td>\n",
       "    </tr>\n",
       "    <tr>\n",
       "      <th>206527</th>\n",
       "      <td>FVX00416</td>\n",
       "      <td>| MEXICO - BMA |</td>\n",
       "      <td>NaN</td>\n",
       "      <td>b1F4</td>\n",
       "      <td>NaN</td>\n",
       "      <td>NaN</td>\n",
       "      <td>NaN</td>\n",
       "      <td>NaN</td>\n",
       "      <td>febrero 18, 2022</td>\n",
       "      <td>feb. 18, 2022 6:13:24 AM</td>\n",
       "      <td>VERDADERO</td>\n",
       "      <td>1:00</td>\n",
       "      <td>feb. 18, 2022 7:14:18 AM</td>\n",
       "      <td>VERDADERO</td>\n",
       "      <td>24</td>\n",
       "      <td>1:05</td>\n",
       "      <td>CEVE_ROJO_GOMEZ_#100_2015#: Hermenegildo Galea...</td>\n",
       "      <td>CeVe</td>\n",
       "      <td>0:00</td>\n",
       "      <td>63</td>\n",
       "    </tr>\n",
       "    <tr>\n",
       "      <th>206528</th>\n",
       "      <td>FVX00416</td>\n",
       "      <td>| MEXICO - BMA |</td>\n",
       "      <td>NaN</td>\n",
       "      <td>b1F4</td>\n",
       "      <td>NaN</td>\n",
       "      <td>NaN</td>\n",
       "      <td>NaN</td>\n",
       "      <td>NaN</td>\n",
       "      <td>febrero 18, 2022</td>\n",
       "      <td>feb. 18, 2022 8:19:35 AM</td>\n",
       "      <td>VERDADERO</td>\n",
       "      <td>1:32</td>\n",
       "      <td>feb. 18, 2022 9:52:00 AM</td>\n",
       "      <td>VERDADERO</td>\n",
       "      <td>27</td>\n",
       "      <td>3:25</td>\n",
       "      <td>TALLER_BMA, BMA_PTA_AZCAPOTZALCO_|BMA|_#100_10...</td>\n",
       "      <td>TALLER INTERNO, PLANTAS y CEDIS</td>\n",
       "      <td>0:00</td>\n",
       "      <td>68</td>\n",
       "    </tr>\n",
       "    <tr>\n",
       "      <th>206529</th>\n",
       "      <td>FVX00416</td>\n",
       "      <td>| MEXICO - BMA |</td>\n",
       "      <td>NaN</td>\n",
       "      <td>b1F4</td>\n",
       "      <td>NaN</td>\n",
       "      <td>NaN</td>\n",
       "      <td>NaN</td>\n",
       "      <td>NaN</td>\n",
       "      <td>febrero 18, 2022</td>\n",
       "      <td>feb. 18, 2022 1:17:26 PM</td>\n",
       "      <td>FALSO</td>\n",
       "      <td>0:05</td>\n",
       "      <td>feb. 18, 2022 1:22:54 PM</td>\n",
       "      <td>FALSO</td>\n",
       "      <td>1</td>\n",
       "      <td>20:14</td>\n",
       "      <td>BMA_PTA_AZCAPOTZALCO_|BMA|_#100_1002#: Calle 5...</td>\n",
       "      <td>PLANTAS y CEDIS</td>\n",
       "      <td>0:00</td>\n",
       "      <td>15</td>\n",
       "    </tr>\n",
       "    <tr>\n",
       "      <th>206530</th>\n",
       "      <td>FVX00416</td>\n",
       "      <td>| MEXICO - BMA |</td>\n",
       "      <td>NaN</td>\n",
       "      <td>b1F4</td>\n",
       "      <td>NaN</td>\n",
       "      <td>NaN</td>\n",
       "      <td>NaN</td>\n",
       "      <td>NaN</td>\n",
       "      <td>febrero 19, 2022</td>\n",
       "      <td>feb. 19, 2022 9:37:40 AM</td>\n",
       "      <td>FALSO</td>\n",
       "      <td>0:04</td>\n",
       "      <td>feb. 19, 2022 9:42:24 AM</td>\n",
       "      <td>FALSO</td>\n",
       "      <td>1</td>\n",
       "      <td>21:57</td>\n",
       "      <td>BMA_PTA_AZCAPOTZALCO_|BMA|_#100_1002#: Calle 5...</td>\n",
       "      <td>PLANTAS y CEDIS</td>\n",
       "      <td>0:00</td>\n",
       "      <td>31</td>\n",
       "    </tr>\n",
       "  </tbody>\n",
       "</table>\n",
       "</div>"
      ],
      "text/plain": [
       "       Dispositivo Grupo de dispositivos Nombre Device ID User ID Apellido  \\\n",
       "206526    FVX00416      | MEXICO - BMA |    NaN      b1F4     NaN      NaN   \n",
       "206527    FVX00416      | MEXICO - BMA |    NaN      b1F4     NaN      NaN   \n",
       "206528    FVX00416      | MEXICO - BMA |    NaN      b1F4     NaN      NaN   \n",
       "206529    FVX00416      | MEXICO - BMA |    NaN      b1F4     NaN      NaN   \n",
       "206530    FVX00416      | MEXICO - BMA |    NaN      b1F4     NaN      NaN   \n",
       "\n",
       "       Conductor Grupo de conductores       Depart Date  \\\n",
       "206526       NaN                  NaN  febrero 18, 2022   \n",
       "206527       NaN                  NaN  febrero 18, 2022   \n",
       "206528       NaN                  NaN  febrero 18, 2022   \n",
       "206529       NaN                  NaN  febrero 18, 2022   \n",
       "206530       NaN                  NaN  febrero 19, 2022   \n",
       "\n",
       "                 Fecha de inicio Iniciar en horas de servicios  \\\n",
       "206526  feb. 18, 2022 6:06:34 AM                     VERDADERO   \n",
       "206527  feb. 18, 2022 6:13:24 AM                     VERDADERO   \n",
       "206528  feb. 18, 2022 8:19:35 AM                     VERDADERO   \n",
       "206529  feb. 18, 2022 1:17:26 PM                         FALSO   \n",
       "206530  feb. 19, 2022 9:37:40 AM                         FALSO   \n",
       "\n",
       "       Duración de conducción           Fecha de parada  \\\n",
       "206526                   0:06  feb. 18, 2022 6:12:36 AM   \n",
       "206527                   1:00  feb. 18, 2022 7:14:18 AM   \n",
       "206528                   1:32  feb. 18, 2022 9:52:00 AM   \n",
       "206529                   0:05  feb. 18, 2022 1:22:54 PM   \n",
       "206530                   0:04  feb. 19, 2022 9:42:24 AM   \n",
       "\n",
       "       Parada en horas de servicio  Distancia Duración de la parada  \\\n",
       "206526                   VERDADERO          1                  0:00   \n",
       "206527                   VERDADERO         24                  1:05   \n",
       "206528                   VERDADERO         27                  3:25   \n",
       "206529                       FALSO          1                 20:14   \n",
       "206530                       FALSO          1                 21:57   \n",
       "\n",
       "                                                Ubicación  \\\n",
       "206526  BMA_PTA_AZCAPOTZALCO_|BMA|_#100_1002#: Calle 5...   \n",
       "206527  CEVE_ROJO_GOMEZ_#100_2015#: Hermenegildo Galea...   \n",
       "206528  TALLER_BMA, BMA_PTA_AZCAPOTZALCO_|BMA|_#100_10...   \n",
       "206529  BMA_PTA_AZCAPOTZALCO_|BMA|_#100_1002#: Calle 5...   \n",
       "206530  BMA_PTA_AZCAPOTZALCO_|BMA|_#100_1002#: Calle 5...   \n",
       "\n",
       "               Tipos de zonas de parada Tiempo en ralentí  Velocidad máxima  \n",
       "206526                  PLANTAS y CEDIS              0:00                20  \n",
       "206527                             CeVe              0:00                63  \n",
       "206528  TALLER INTERNO, PLANTAS y CEDIS              0:00                68  \n",
       "206529                  PLANTAS y CEDIS              0:00                15  \n",
       "206530                  PLANTAS y CEDIS              0:00                31  "
      ]
     },
     "execution_count": 317,
     "metadata": {},
     "output_type": "execute_result"
    }
   ],
   "source": [
    "df.tail()"
   ]
  },
  {
   "cell_type": "markdown",
   "metadata": {
    "id": "ztPcOZCRwzJa"
   },
   "source": [
    "## LIMPIEZA DE DATOS"
   ]
  },
  {
   "cell_type": "code",
   "execution_count": 318,
   "metadata": {
    "id": "SitaeitPMZ-f"
   },
   "outputs": [],
   "source": [
    "filtro = ['Dispositivo','Nombre','Apellido','Duración de conducción','Duración de la parada',\n",
    "          'Ubicación','Tipos de zonas de parada','Distancia','Velocidad máxima']\n",
    "df = df.filter(items = filtro)"
   ]
  },
  {
   "cell_type": "code",
   "execution_count": 319,
   "metadata": {
    "colab": {
     "base_uri": "https://localhost:8080/",
     "height": 354
    },
    "id": "ZoMEm_HJOLlv",
    "outputId": "12909b06-5707-4add-96a6-b008224adcb5"
   },
   "outputs": [
    {
     "data": {
      "text/html": [
       "<div>\n",
       "<style scoped>\n",
       "    .dataframe tbody tr th:only-of-type {\n",
       "        vertical-align: middle;\n",
       "    }\n",
       "\n",
       "    .dataframe tbody tr th {\n",
       "        vertical-align: top;\n",
       "    }\n",
       "\n",
       "    .dataframe thead th {\n",
       "        text-align: right;\n",
       "    }\n",
       "</style>\n",
       "<table border=\"1\" class=\"dataframe\">\n",
       "  <thead>\n",
       "    <tr style=\"text-align: right;\">\n",
       "      <th></th>\n",
       "      <th>Dispositivo</th>\n",
       "      <th>Nombre</th>\n",
       "      <th>Apellido</th>\n",
       "      <th>Duración de conducción</th>\n",
       "      <th>Duración de la parada</th>\n",
       "      <th>Ubicación</th>\n",
       "      <th>Tipos de zonas de parada</th>\n",
       "      <th>Distancia</th>\n",
       "      <th>Velocidad máxima</th>\n",
       "    </tr>\n",
       "  </thead>\n",
       "  <tbody>\n",
       "    <tr>\n",
       "      <th>0</th>\n",
       "      <td>FV040849</td>\n",
       "      <td>NaN</td>\n",
       "      <td>NaN</td>\n",
       "      <td>0:06</td>\n",
       "      <td>0:08</td>\n",
       "      <td>VOLVO: 290 Autopista Querétaro - Méxic, Autopi...</td>\n",
       "      <td>TALLER EXTERNO</td>\n",
       "      <td>0</td>\n",
       "      <td>2</td>\n",
       "    </tr>\n",
       "    <tr>\n",
       "      <th>1</th>\n",
       "      <td>FV040849</td>\n",
       "      <td>NaN</td>\n",
       "      <td>NaN</td>\n",
       "      <td>0:04</td>\n",
       "      <td>0:05</td>\n",
       "      <td>VOLVO: 290 Autopista Querétaro - Méxic, Autopi...</td>\n",
       "      <td>TALLER EXTERNO</td>\n",
       "      <td>0</td>\n",
       "      <td>3</td>\n",
       "    </tr>\n",
       "    <tr>\n",
       "      <th>2</th>\n",
       "      <td>FV040849</td>\n",
       "      <td>NaN</td>\n",
       "      <td>NaN</td>\n",
       "      <td>0:10</td>\n",
       "      <td>46:19</td>\n",
       "      <td>VOLVO: 290 Autopista Querétaro - Méxic, Autopi...</td>\n",
       "      <td>TALLER EXTERNO</td>\n",
       "      <td>0</td>\n",
       "      <td>2</td>\n",
       "    </tr>\n",
       "    <tr>\n",
       "      <th>3</th>\n",
       "      <td>FV040849</td>\n",
       "      <td>NaN</td>\n",
       "      <td>NaN</td>\n",
       "      <td>0:02</td>\n",
       "      <td>21:03</td>\n",
       "      <td>VOLVO: 290 Autopista Querétaro - Méxic, Autopi...</td>\n",
       "      <td>TALLER EXTERNO</td>\n",
       "      <td>0</td>\n",
       "      <td>2</td>\n",
       "    </tr>\n",
       "    <tr>\n",
       "      <th>4</th>\n",
       "      <td>FV040849</td>\n",
       "      <td>NaN</td>\n",
       "      <td>NaN</td>\n",
       "      <td>1:03</td>\n",
       "      <td>2:39</td>\n",
       "      <td>VOLVO: 290 Autopista Querétaro - Méxic, Autopi...</td>\n",
       "      <td>TALLER EXTERNO</td>\n",
       "      <td>1</td>\n",
       "      <td>2</td>\n",
       "    </tr>\n",
       "  </tbody>\n",
       "</table>\n",
       "</div>"
      ],
      "text/plain": [
       "  Dispositivo Nombre Apellido Duración de conducción Duración de la parada  \\\n",
       "0    FV040849    NaN      NaN                   0:06                  0:08   \n",
       "1    FV040849    NaN      NaN                   0:04                  0:05   \n",
       "2    FV040849    NaN      NaN                   0:10                 46:19   \n",
       "3    FV040849    NaN      NaN                   0:02                 21:03   \n",
       "4    FV040849    NaN      NaN                   1:03                  2:39   \n",
       "\n",
       "                                           Ubicación Tipos de zonas de parada  \\\n",
       "0  VOLVO: 290 Autopista Querétaro - Méxic, Autopi...           TALLER EXTERNO   \n",
       "1  VOLVO: 290 Autopista Querétaro - Méxic, Autopi...           TALLER EXTERNO   \n",
       "2  VOLVO: 290 Autopista Querétaro - Méxic, Autopi...           TALLER EXTERNO   \n",
       "3  VOLVO: 290 Autopista Querétaro - Méxic, Autopi...           TALLER EXTERNO   \n",
       "4  VOLVO: 290 Autopista Querétaro - Méxic, Autopi...           TALLER EXTERNO   \n",
       "\n",
       "   Distancia  Velocidad máxima  \n",
       "0          0                 2  \n",
       "1          0                 3  \n",
       "2          0                 2  \n",
       "3          0                 2  \n",
       "4          1                 2  "
      ]
     },
     "execution_count": 319,
     "metadata": {},
     "output_type": "execute_result"
    }
   ],
   "source": [
    "df.head()"
   ]
  },
  {
   "cell_type": "code",
   "execution_count": 320,
   "metadata": {
    "colab": {
     "base_uri": "https://localhost:8080/",
     "height": 354
    },
    "id": "MkchQrMNVjA0",
    "outputId": "6b66b794-f5dc-45b3-c368-a522e2b321f3"
   },
   "outputs": [
    {
     "data": {
      "text/html": [
       "<div>\n",
       "<style scoped>\n",
       "    .dataframe tbody tr th:only-of-type {\n",
       "        vertical-align: middle;\n",
       "    }\n",
       "\n",
       "    .dataframe tbody tr th {\n",
       "        vertical-align: top;\n",
       "    }\n",
       "\n",
       "    .dataframe thead th {\n",
       "        text-align: right;\n",
       "    }\n",
       "</style>\n",
       "<table border=\"1\" class=\"dataframe\">\n",
       "  <thead>\n",
       "    <tr style=\"text-align: right;\">\n",
       "      <th></th>\n",
       "      <th>Dispositivo</th>\n",
       "      <th>Nombre</th>\n",
       "      <th>Apellido</th>\n",
       "      <th>Duración de conducción</th>\n",
       "      <th>Duración de la parada</th>\n",
       "      <th>Ubicación</th>\n",
       "      <th>Tipos de zonas de parada</th>\n",
       "      <th>Distancia</th>\n",
       "      <th>Velocidad máxima</th>\n",
       "    </tr>\n",
       "  </thead>\n",
       "  <tbody>\n",
       "    <tr>\n",
       "      <th>206526</th>\n",
       "      <td>FVX00416</td>\n",
       "      <td>NaN</td>\n",
       "      <td>NaN</td>\n",
       "      <td>0:06</td>\n",
       "      <td>0:00</td>\n",
       "      <td>BMA_PTA_AZCAPOTZALCO_|BMA|_#100_1002#: Calle 5...</td>\n",
       "      <td>PLANTAS y CEDIS</td>\n",
       "      <td>1</td>\n",
       "      <td>20</td>\n",
       "    </tr>\n",
       "    <tr>\n",
       "      <th>206527</th>\n",
       "      <td>FVX00416</td>\n",
       "      <td>NaN</td>\n",
       "      <td>NaN</td>\n",
       "      <td>1:00</td>\n",
       "      <td>1:05</td>\n",
       "      <td>CEVE_ROJO_GOMEZ_#100_2015#: Hermenegildo Galea...</td>\n",
       "      <td>CeVe</td>\n",
       "      <td>24</td>\n",
       "      <td>63</td>\n",
       "    </tr>\n",
       "    <tr>\n",
       "      <th>206528</th>\n",
       "      <td>FVX00416</td>\n",
       "      <td>NaN</td>\n",
       "      <td>NaN</td>\n",
       "      <td>1:32</td>\n",
       "      <td>3:25</td>\n",
       "      <td>TALLER_BMA, BMA_PTA_AZCAPOTZALCO_|BMA|_#100_10...</td>\n",
       "      <td>TALLER INTERNO, PLANTAS y CEDIS</td>\n",
       "      <td>27</td>\n",
       "      <td>68</td>\n",
       "    </tr>\n",
       "    <tr>\n",
       "      <th>206529</th>\n",
       "      <td>FVX00416</td>\n",
       "      <td>NaN</td>\n",
       "      <td>NaN</td>\n",
       "      <td>0:05</td>\n",
       "      <td>20:14</td>\n",
       "      <td>BMA_PTA_AZCAPOTZALCO_|BMA|_#100_1002#: Calle 5...</td>\n",
       "      <td>PLANTAS y CEDIS</td>\n",
       "      <td>1</td>\n",
       "      <td>15</td>\n",
       "    </tr>\n",
       "    <tr>\n",
       "      <th>206530</th>\n",
       "      <td>FVX00416</td>\n",
       "      <td>NaN</td>\n",
       "      <td>NaN</td>\n",
       "      <td>0:04</td>\n",
       "      <td>21:57</td>\n",
       "      <td>BMA_PTA_AZCAPOTZALCO_|BMA|_#100_1002#: Calle 5...</td>\n",
       "      <td>PLANTAS y CEDIS</td>\n",
       "      <td>1</td>\n",
       "      <td>31</td>\n",
       "    </tr>\n",
       "  </tbody>\n",
       "</table>\n",
       "</div>"
      ],
      "text/plain": [
       "       Dispositivo Nombre Apellido Duración de conducción  \\\n",
       "206526    FVX00416    NaN      NaN                   0:06   \n",
       "206527    FVX00416    NaN      NaN                   1:00   \n",
       "206528    FVX00416    NaN      NaN                   1:32   \n",
       "206529    FVX00416    NaN      NaN                   0:05   \n",
       "206530    FVX00416    NaN      NaN                   0:04   \n",
       "\n",
       "       Duración de la parada  \\\n",
       "206526                  0:00   \n",
       "206527                  1:05   \n",
       "206528                  3:25   \n",
       "206529                 20:14   \n",
       "206530                 21:57   \n",
       "\n",
       "                                                Ubicación  \\\n",
       "206526  BMA_PTA_AZCAPOTZALCO_|BMA|_#100_1002#: Calle 5...   \n",
       "206527  CEVE_ROJO_GOMEZ_#100_2015#: Hermenegildo Galea...   \n",
       "206528  TALLER_BMA, BMA_PTA_AZCAPOTZALCO_|BMA|_#100_10...   \n",
       "206529  BMA_PTA_AZCAPOTZALCO_|BMA|_#100_1002#: Calle 5...   \n",
       "206530  BMA_PTA_AZCAPOTZALCO_|BMA|_#100_1002#: Calle 5...   \n",
       "\n",
       "               Tipos de zonas de parada  Distancia  Velocidad máxima  \n",
       "206526                  PLANTAS y CEDIS          1                20  \n",
       "206527                             CeVe         24                63  \n",
       "206528  TALLER INTERNO, PLANTAS y CEDIS         27                68  \n",
       "206529                  PLANTAS y CEDIS          1                15  \n",
       "206530                  PLANTAS y CEDIS          1                31  "
      ]
     },
     "execution_count": 320,
     "metadata": {},
     "output_type": "execute_result"
    }
   ],
   "source": [
    "df.tail()"
   ]
  },
  {
   "cell_type": "code",
   "execution_count": 321,
   "metadata": {
    "colab": {
     "base_uri": "https://localhost:8080/",
     "height": 472
    },
    "id": "B3xE6GdGiA6B",
    "outputId": "479d7365-2304-4ad9-c1ea-cf34622e3d81"
   },
   "outputs": [
    {
     "data": {
      "text/html": [
       "<div>\n",
       "<style scoped>\n",
       "    .dataframe tbody tr th:only-of-type {\n",
       "        vertical-align: middle;\n",
       "    }\n",
       "\n",
       "    .dataframe tbody tr th {\n",
       "        vertical-align: top;\n",
       "    }\n",
       "\n",
       "    .dataframe thead th {\n",
       "        text-align: right;\n",
       "    }\n",
       "</style>\n",
       "<table border=\"1\" class=\"dataframe\">\n",
       "  <thead>\n",
       "    <tr style=\"text-align: right;\">\n",
       "      <th></th>\n",
       "      <th>Dispositivo</th>\n",
       "      <th>Nombre</th>\n",
       "      <th>Apellido</th>\n",
       "      <th>Duración de conducción</th>\n",
       "      <th>Duración de la parada</th>\n",
       "      <th>Ubicación</th>\n",
       "      <th>Tipos de zonas de parada</th>\n",
       "      <th>Distancia</th>\n",
       "      <th>Velocidad máxima</th>\n",
       "    </tr>\n",
       "  </thead>\n",
       "  <tbody>\n",
       "    <tr>\n",
       "      <th>count</th>\n",
       "      <td>206531</td>\n",
       "      <td>95047</td>\n",
       "      <td>95047</td>\n",
       "      <td>206531</td>\n",
       "      <td>206531</td>\n",
       "      <td>206531</td>\n",
       "      <td>195469</td>\n",
       "      <td>206531.000000</td>\n",
       "      <td>206531.000000</td>\n",
       "    </tr>\n",
       "    <tr>\n",
       "      <th>unique</th>\n",
       "      <td>81</td>\n",
       "      <td>119</td>\n",
       "      <td>107</td>\n",
       "      <td>361</td>\n",
       "      <td>2348</td>\n",
       "      <td>4522</td>\n",
       "      <td>54</td>\n",
       "      <td>NaN</td>\n",
       "      <td>NaN</td>\n",
       "    </tr>\n",
       "    <tr>\n",
       "      <th>top</th>\n",
       "      <td>FV040859</td>\n",
       "      <td>Solano_Lopez</td>\n",
       "      <td>_Jorge_Alberto</td>\n",
       "      <td>0:01</td>\n",
       "      <td>0:03</td>\n",
       "      <td>BMS_PTA_STA_MARIA_|BSM|#100_1001#: Chopo 146, ...</td>\n",
       "      <td>PLANTAS y CEDIS</td>\n",
       "      <td>NaN</td>\n",
       "      <td>NaN</td>\n",
       "    </tr>\n",
       "    <tr>\n",
       "      <th>freq</th>\n",
       "      <td>12718</td>\n",
       "      <td>3733</td>\n",
       "      <td>5202</td>\n",
       "      <td>21724</td>\n",
       "      <td>26222</td>\n",
       "      <td>16906</td>\n",
       "      <td>141821</td>\n",
       "      <td>NaN</td>\n",
       "      <td>NaN</td>\n",
       "    </tr>\n",
       "    <tr>\n",
       "      <th>mean</th>\n",
       "      <td>NaN</td>\n",
       "      <td>NaN</td>\n",
       "      <td>NaN</td>\n",
       "      <td>NaN</td>\n",
       "      <td>NaN</td>\n",
       "      <td>NaN</td>\n",
       "      <td>NaN</td>\n",
       "      <td>6.313943</td>\n",
       "      <td>25.452300</td>\n",
       "    </tr>\n",
       "    <tr>\n",
       "      <th>std</th>\n",
       "      <td>NaN</td>\n",
       "      <td>NaN</td>\n",
       "      <td>NaN</td>\n",
       "      <td>NaN</td>\n",
       "      <td>NaN</td>\n",
       "      <td>NaN</td>\n",
       "      <td>NaN</td>\n",
       "      <td>18.710555</td>\n",
       "      <td>24.591846</td>\n",
       "    </tr>\n",
       "    <tr>\n",
       "      <th>min</th>\n",
       "      <td>NaN</td>\n",
       "      <td>NaN</td>\n",
       "      <td>NaN</td>\n",
       "      <td>NaN</td>\n",
       "      <td>NaN</td>\n",
       "      <td>NaN</td>\n",
       "      <td>NaN</td>\n",
       "      <td>0.000000</td>\n",
       "      <td>0.000000</td>\n",
       "    </tr>\n",
       "    <tr>\n",
       "      <th>25%</th>\n",
       "      <td>NaN</td>\n",
       "      <td>NaN</td>\n",
       "      <td>NaN</td>\n",
       "      <td>NaN</td>\n",
       "      <td>NaN</td>\n",
       "      <td>NaN</td>\n",
       "      <td>NaN</td>\n",
       "      <td>0.000000</td>\n",
       "      <td>9.000000</td>\n",
       "    </tr>\n",
       "    <tr>\n",
       "      <th>50%</th>\n",
       "      <td>NaN</td>\n",
       "      <td>NaN</td>\n",
       "      <td>NaN</td>\n",
       "      <td>NaN</td>\n",
       "      <td>NaN</td>\n",
       "      <td>NaN</td>\n",
       "      <td>NaN</td>\n",
       "      <td>0.000000</td>\n",
       "      <td>14.000000</td>\n",
       "    </tr>\n",
       "    <tr>\n",
       "      <th>75%</th>\n",
       "      <td>NaN</td>\n",
       "      <td>NaN</td>\n",
       "      <td>NaN</td>\n",
       "      <td>NaN</td>\n",
       "      <td>NaN</td>\n",
       "      <td>NaN</td>\n",
       "      <td>NaN</td>\n",
       "      <td>4.000000</td>\n",
       "      <td>44.000000</td>\n",
       "    </tr>\n",
       "    <tr>\n",
       "      <th>max</th>\n",
       "      <td>NaN</td>\n",
       "      <td>NaN</td>\n",
       "      <td>NaN</td>\n",
       "      <td>NaN</td>\n",
       "      <td>NaN</td>\n",
       "      <td>NaN</td>\n",
       "      <td>NaN</td>\n",
       "      <td>914.000000</td>\n",
       "      <td>140.000000</td>\n",
       "    </tr>\n",
       "  </tbody>\n",
       "</table>\n",
       "</div>"
      ],
      "text/plain": [
       "       Dispositivo        Nombre        Apellido Duración de conducción  \\\n",
       "count       206531         95047           95047                 206531   \n",
       "unique          81           119             107                    361   \n",
       "top       FV040859  Solano_Lopez  _Jorge_Alberto                   0:01   \n",
       "freq         12718          3733            5202                  21724   \n",
       "mean           NaN           NaN             NaN                    NaN   \n",
       "std            NaN           NaN             NaN                    NaN   \n",
       "min            NaN           NaN             NaN                    NaN   \n",
       "25%            NaN           NaN             NaN                    NaN   \n",
       "50%            NaN           NaN             NaN                    NaN   \n",
       "75%            NaN           NaN             NaN                    NaN   \n",
       "max            NaN           NaN             NaN                    NaN   \n",
       "\n",
       "       Duración de la parada  \\\n",
       "count                 206531   \n",
       "unique                  2348   \n",
       "top                     0:03   \n",
       "freq                   26222   \n",
       "mean                     NaN   \n",
       "std                      NaN   \n",
       "min                      NaN   \n",
       "25%                      NaN   \n",
       "50%                      NaN   \n",
       "75%                      NaN   \n",
       "max                      NaN   \n",
       "\n",
       "                                                Ubicación  \\\n",
       "count                                              206531   \n",
       "unique                                               4522   \n",
       "top     BMS_PTA_STA_MARIA_|BSM|#100_1001#: Chopo 146, ...   \n",
       "freq                                                16906   \n",
       "mean                                                  NaN   \n",
       "std                                                   NaN   \n",
       "min                                                   NaN   \n",
       "25%                                                   NaN   \n",
       "50%                                                   NaN   \n",
       "75%                                                   NaN   \n",
       "max                                                   NaN   \n",
       "\n",
       "       Tipos de zonas de parada      Distancia  Velocidad máxima  \n",
       "count                    195469  206531.000000     206531.000000  \n",
       "unique                       54            NaN               NaN  \n",
       "top             PLANTAS y CEDIS            NaN               NaN  \n",
       "freq                     141821            NaN               NaN  \n",
       "mean                        NaN       6.313943         25.452300  \n",
       "std                         NaN      18.710555         24.591846  \n",
       "min                         NaN       0.000000          0.000000  \n",
       "25%                         NaN       0.000000          9.000000  \n",
       "50%                         NaN       0.000000         14.000000  \n",
       "75%                         NaN       4.000000         44.000000  \n",
       "max                         NaN     914.000000        140.000000  "
      ]
     },
     "execution_count": 321,
     "metadata": {},
     "output_type": "execute_result"
    }
   ],
   "source": [
    "df.describe(include='all')"
   ]
  },
  {
   "cell_type": "code",
   "execution_count": 322,
   "metadata": {
    "id": "kP-4IFxCkgnx"
   },
   "outputs": [],
   "source": [
    "df = df.dropna(axis=0)"
   ]
  },
  {
   "cell_type": "code",
   "execution_count": 323,
   "metadata": {
    "colab": {
     "base_uri": "https://localhost:8080/"
    },
    "id": "WGPE-LqgFTis",
    "outputId": "11f28d19-c97a-41e5-fc51-22fdca4e4a08"
   },
   "outputs": [
    {
     "name": "stdout",
     "output_type": "stream",
     "text": [
      "<class 'pandas.core.frame.DataFrame'>\n",
      "Int64Index: 88818 entries, 22 to 206519\n",
      "Data columns (total 9 columns):\n",
      " #   Column                    Non-Null Count  Dtype \n",
      "---  ------                    --------------  ----- \n",
      " 0   Dispositivo               88818 non-null  object\n",
      " 1   Nombre                    88818 non-null  object\n",
      " 2   Apellido                  88818 non-null  object\n",
      " 3   Duración de conducción    88818 non-null  object\n",
      " 4   Duración de la parada     88818 non-null  object\n",
      " 5   Ubicación                 88818 non-null  object\n",
      " 6   Tipos de zonas de parada  88818 non-null  object\n",
      " 7   Distancia                 88818 non-null  int64 \n",
      " 8   Velocidad máxima          88818 non-null  int64 \n",
      "dtypes: int64(2), object(7)\n",
      "memory usage: 6.8+ MB\n"
     ]
    }
   ],
   "source": [
    "df.info()"
   ]
  },
  {
   "cell_type": "code",
   "execution_count": 324,
   "metadata": {
    "colab": {
     "base_uri": "https://localhost:8080/",
     "height": 354
    },
    "id": "R8JOzNPNFXSK",
    "outputId": "c183a38f-8e4a-408b-b955-74252c85effe"
   },
   "outputs": [
    {
     "data": {
      "text/html": [
       "<div>\n",
       "<style scoped>\n",
       "    .dataframe tbody tr th:only-of-type {\n",
       "        vertical-align: middle;\n",
       "    }\n",
       "\n",
       "    .dataframe tbody tr th {\n",
       "        vertical-align: top;\n",
       "    }\n",
       "\n",
       "    .dataframe thead th {\n",
       "        text-align: right;\n",
       "    }\n",
       "</style>\n",
       "<table border=\"1\" class=\"dataframe\">\n",
       "  <thead>\n",
       "    <tr style=\"text-align: right;\">\n",
       "      <th></th>\n",
       "      <th>Dispositivo</th>\n",
       "      <th>Nombre</th>\n",
       "      <th>Apellido</th>\n",
       "      <th>Duración de conducción</th>\n",
       "      <th>Duración de la parada</th>\n",
       "      <th>Ubicación</th>\n",
       "      <th>Tipos de zonas de parada</th>\n",
       "      <th>Distancia</th>\n",
       "      <th>Velocidad máxima</th>\n",
       "    </tr>\n",
       "  </thead>\n",
       "  <tbody>\n",
       "    <tr>\n",
       "      <th>22</th>\n",
       "      <td>FV040849</td>\n",
       "      <td>Aranda_Morales</td>\n",
       "      <td>_Alejandro</td>\n",
       "      <td>0:13</td>\n",
       "      <td>0:03</td>\n",
       "      <td>BMS_PTA_STA_MARIA_|BSM|#100_1001#: Chopo 146, ...</td>\n",
       "      <td>PLANTAS y CEDIS</td>\n",
       "      <td>3</td>\n",
       "      <td>70</td>\n",
       "    </tr>\n",
       "    <tr>\n",
       "      <th>23</th>\n",
       "      <td>FV040849</td>\n",
       "      <td>Aranda_Morales</td>\n",
       "      <td>_Alejandro</td>\n",
       "      <td>0:02</td>\n",
       "      <td>0:03</td>\n",
       "      <td>BMS_PTA_STA_MARIA_|BSM|#100_1001#: Abedules 12...</td>\n",
       "      <td>PLANTAS y CEDIS</td>\n",
       "      <td>0</td>\n",
       "      <td>14</td>\n",
       "    </tr>\n",
       "    <tr>\n",
       "      <th>24</th>\n",
       "      <td>FV040849</td>\n",
       "      <td>Aranda_Morales</td>\n",
       "      <td>_Alejandro</td>\n",
       "      <td>0:02</td>\n",
       "      <td>0:03</td>\n",
       "      <td>BMS_PTA_STA_MARIA_|BSM|#100_1001#: Chopo 48, S...</td>\n",
       "      <td>PLANTAS y CEDIS</td>\n",
       "      <td>0</td>\n",
       "      <td>12</td>\n",
       "    </tr>\n",
       "    <tr>\n",
       "      <th>25</th>\n",
       "      <td>FV040849</td>\n",
       "      <td>Aranda_Morales</td>\n",
       "      <td>_Alejandro</td>\n",
       "      <td>0:53</td>\n",
       "      <td>0:03</td>\n",
       "      <td>CEVE_IZTAPALAPA_II_#100_2029-100_2202-101_2663...</td>\n",
       "      <td>CeVe</td>\n",
       "      <td>22</td>\n",
       "      <td>72</td>\n",
       "    </tr>\n",
       "    <tr>\n",
       "      <th>26</th>\n",
       "      <td>FV040849</td>\n",
       "      <td>Aranda_Morales</td>\n",
       "      <td>_Alejandro</td>\n",
       "      <td>0:37</td>\n",
       "      <td>0:47</td>\n",
       "      <td>CEVE_XOCHIMILCO_#100_2070-100_2021#: Santiago ...</td>\n",
       "      <td>CeVe</td>\n",
       "      <td>20</td>\n",
       "      <td>77</td>\n",
       "    </tr>\n",
       "  </tbody>\n",
       "</table>\n",
       "</div>"
      ],
      "text/plain": [
       "   Dispositivo          Nombre    Apellido Duración de conducción  \\\n",
       "22    FV040849  Aranda_Morales  _Alejandro                   0:13   \n",
       "23    FV040849  Aranda_Morales  _Alejandro                   0:02   \n",
       "24    FV040849  Aranda_Morales  _Alejandro                   0:02   \n",
       "25    FV040849  Aranda_Morales  _Alejandro                   0:53   \n",
       "26    FV040849  Aranda_Morales  _Alejandro                   0:37   \n",
       "\n",
       "   Duración de la parada                                          Ubicación  \\\n",
       "22                  0:03  BMS_PTA_STA_MARIA_|BSM|#100_1001#: Chopo 146, ...   \n",
       "23                  0:03  BMS_PTA_STA_MARIA_|BSM|#100_1001#: Abedules 12...   \n",
       "24                  0:03  BMS_PTA_STA_MARIA_|BSM|#100_1001#: Chopo 48, S...   \n",
       "25                  0:03  CEVE_IZTAPALAPA_II_#100_2029-100_2202-101_2663...   \n",
       "26                  0:47  CEVE_XOCHIMILCO_#100_2070-100_2021#: Santiago ...   \n",
       "\n",
       "   Tipos de zonas de parada  Distancia  Velocidad máxima  \n",
       "22          PLANTAS y CEDIS          3                70  \n",
       "23          PLANTAS y CEDIS          0                14  \n",
       "24          PLANTAS y CEDIS          0                12  \n",
       "25                     CeVe         22                72  \n",
       "26                     CeVe         20                77  "
      ]
     },
     "execution_count": 324,
     "metadata": {},
     "output_type": "execute_result"
    }
   ],
   "source": [
    "df.head()"
   ]
  },
  {
   "cell_type": "code",
   "execution_count": 325,
   "metadata": {
    "colab": {
     "base_uri": "https://localhost:8080/",
     "height": 354
    },
    "id": "GUhylFNFEvXu",
    "outputId": "8d7a1025-09ec-465e-d05d-0f631b852fdd"
   },
   "outputs": [
    {
     "data": {
      "text/html": [
       "<div>\n",
       "<style scoped>\n",
       "    .dataframe tbody tr th:only-of-type {\n",
       "        vertical-align: middle;\n",
       "    }\n",
       "\n",
       "    .dataframe tbody tr th {\n",
       "        vertical-align: top;\n",
       "    }\n",
       "\n",
       "    .dataframe thead th {\n",
       "        text-align: right;\n",
       "    }\n",
       "</style>\n",
       "<table border=\"1\" class=\"dataframe\">\n",
       "  <thead>\n",
       "    <tr style=\"text-align: right;\">\n",
       "      <th></th>\n",
       "      <th>Dispositivo</th>\n",
       "      <th>Nombre</th>\n",
       "      <th>Apellido</th>\n",
       "      <th>Duración de conducción</th>\n",
       "      <th>Duración de la parada</th>\n",
       "      <th>Ubicación</th>\n",
       "      <th>Tipos de zonas de parada</th>\n",
       "      <th>Distancia</th>\n",
       "      <th>Velocidad máxima</th>\n",
       "    </tr>\n",
       "  </thead>\n",
       "  <tbody>\n",
       "    <tr>\n",
       "      <th>206511</th>\n",
       "      <td>FV055559</td>\n",
       "      <td>Becerril_Mendoza</td>\n",
       "      <td>_Jose_Alfredo</td>\n",
       "      <td>0:07</td>\n",
       "      <td>0:03</td>\n",
       "      <td>CDS_STA_CLARA_#100_2092-101_2736-257_9693#: Gu...</td>\n",
       "      <td>PLANTAS y CEDIS</td>\n",
       "      <td>1</td>\n",
       "      <td>26</td>\n",
       "    </tr>\n",
       "    <tr>\n",
       "      <th>206516</th>\n",
       "      <td>FV055559</td>\n",
       "      <td>Becerril_Mendoza</td>\n",
       "      <td>_Jose_Alfredo</td>\n",
       "      <td>0:48</td>\n",
       "      <td>0:02</td>\n",
       "      <td>BMA_PTA_AZCAPOTZALCO_|BMA|_#100_1002#: Calle 5...</td>\n",
       "      <td>PLANTAS y CEDIS</td>\n",
       "      <td>19</td>\n",
       "      <td>53</td>\n",
       "    </tr>\n",
       "    <tr>\n",
       "      <th>206517</th>\n",
       "      <td>FV055559</td>\n",
       "      <td>Becerril_Mendoza</td>\n",
       "      <td>_Jose_Alfredo</td>\n",
       "      <td>0:03</td>\n",
       "      <td>0:04</td>\n",
       "      <td>BMA_PTA_AZCAPOTZALCO_|BMA|_#100_1002#: Calle 5...</td>\n",
       "      <td>PLANTAS y CEDIS</td>\n",
       "      <td>1</td>\n",
       "      <td>16</td>\n",
       "    </tr>\n",
       "    <tr>\n",
       "      <th>206518</th>\n",
       "      <td>FV055559</td>\n",
       "      <td>Becerril_Mendoza</td>\n",
       "      <td>_Jose_Alfredo</td>\n",
       "      <td>0:01</td>\n",
       "      <td>0:09</td>\n",
       "      <td>BMA_PTA_AZCAPOTZALCO_|BMA|_#100_1002#: Calle 5...</td>\n",
       "      <td>PLANTAS y CEDIS</td>\n",
       "      <td>0</td>\n",
       "      <td>16</td>\n",
       "    </tr>\n",
       "    <tr>\n",
       "      <th>206519</th>\n",
       "      <td>FV055559</td>\n",
       "      <td>Becerril_Mendoza</td>\n",
       "      <td>_Jose_Alfredo</td>\n",
       "      <td>0:00</td>\n",
       "      <td>4:52</td>\n",
       "      <td>BMA_PTA_AZCAPOTZALCO_|BMA|_#100_1002#: Calle 5...</td>\n",
       "      <td>PLANTAS y CEDIS</td>\n",
       "      <td>0</td>\n",
       "      <td>16</td>\n",
       "    </tr>\n",
       "  </tbody>\n",
       "</table>\n",
       "</div>"
      ],
      "text/plain": [
       "       Dispositivo            Nombre       Apellido Duración de conducción  \\\n",
       "206511    FV055559  Becerril_Mendoza  _Jose_Alfredo                   0:07   \n",
       "206516    FV055559  Becerril_Mendoza  _Jose_Alfredo                   0:48   \n",
       "206517    FV055559  Becerril_Mendoza  _Jose_Alfredo                   0:03   \n",
       "206518    FV055559  Becerril_Mendoza  _Jose_Alfredo                   0:01   \n",
       "206519    FV055559  Becerril_Mendoza  _Jose_Alfredo                   0:00   \n",
       "\n",
       "       Duración de la parada  \\\n",
       "206511                  0:03   \n",
       "206516                  0:02   \n",
       "206517                  0:04   \n",
       "206518                  0:09   \n",
       "206519                  4:52   \n",
       "\n",
       "                                                Ubicación  \\\n",
       "206511  CDS_STA_CLARA_#100_2092-101_2736-257_9693#: Gu...   \n",
       "206516  BMA_PTA_AZCAPOTZALCO_|BMA|_#100_1002#: Calle 5...   \n",
       "206517  BMA_PTA_AZCAPOTZALCO_|BMA|_#100_1002#: Calle 5...   \n",
       "206518  BMA_PTA_AZCAPOTZALCO_|BMA|_#100_1002#: Calle 5...   \n",
       "206519  BMA_PTA_AZCAPOTZALCO_|BMA|_#100_1002#: Calle 5...   \n",
       "\n",
       "       Tipos de zonas de parada  Distancia  Velocidad máxima  \n",
       "206511          PLANTAS y CEDIS          1                26  \n",
       "206516          PLANTAS y CEDIS         19                53  \n",
       "206517          PLANTAS y CEDIS          1                16  \n",
       "206518          PLANTAS y CEDIS          0                16  \n",
       "206519          PLANTAS y CEDIS          0                16  "
      ]
     },
     "execution_count": 325,
     "metadata": {},
     "output_type": "execute_result"
    }
   ],
   "source": [
    "df.tail()"
   ]
  },
  {
   "cell_type": "code",
   "execution_count": 326,
   "metadata": {
    "colab": {
     "base_uri": "https://localhost:8080/",
     "height": 490
    },
    "id": "4n75mCpOFNNu",
    "outputId": "0a4590c8-ab59-49c5-b9b9-8e5e61d855da"
   },
   "outputs": [
    {
     "data": {
      "text/html": [
       "<div>\n",
       "<style scoped>\n",
       "    .dataframe tbody tr th:only-of-type {\n",
       "        vertical-align: middle;\n",
       "    }\n",
       "\n",
       "    .dataframe tbody tr th {\n",
       "        vertical-align: top;\n",
       "    }\n",
       "\n",
       "    .dataframe thead th {\n",
       "        text-align: right;\n",
       "    }\n",
       "</style>\n",
       "<table border=\"1\" class=\"dataframe\">\n",
       "  <thead>\n",
       "    <tr style=\"text-align: right;\">\n",
       "      <th></th>\n",
       "      <th>Dispositivo</th>\n",
       "      <th>Nombre</th>\n",
       "      <th>Apellido</th>\n",
       "      <th>Duración de conducción</th>\n",
       "      <th>Duración de la parada</th>\n",
       "      <th>Ubicación</th>\n",
       "      <th>Tipos de zonas de parada</th>\n",
       "      <th>Distancia</th>\n",
       "      <th>Velocidad máxima</th>\n",
       "    </tr>\n",
       "  </thead>\n",
       "  <tbody>\n",
       "    <tr>\n",
       "      <th>count</th>\n",
       "      <td>88818</td>\n",
       "      <td>88818</td>\n",
       "      <td>88818</td>\n",
       "      <td>88818</td>\n",
       "      <td>88818</td>\n",
       "      <td>88818</td>\n",
       "      <td>88818</td>\n",
       "      <td>88818.000000</td>\n",
       "      <td>88818.000000</td>\n",
       "    </tr>\n",
       "    <tr>\n",
       "      <th>unique</th>\n",
       "      <td>74</td>\n",
       "      <td>119</td>\n",
       "      <td>107</td>\n",
       "      <td>287</td>\n",
       "      <td>1453</td>\n",
       "      <td>997</td>\n",
       "      <td>39</td>\n",
       "      <td>NaN</td>\n",
       "      <td>NaN</td>\n",
       "    </tr>\n",
       "    <tr>\n",
       "      <th>top</th>\n",
       "      <td>FV040860</td>\n",
       "      <td>Solano_Lopez</td>\n",
       "      <td>_Jorge_Alberto</td>\n",
       "      <td>0:01</td>\n",
       "      <td>0:03</td>\n",
       "      <td>BMA_PTA_AZCAPOTZALCO_|BMA|_#100_1002#: Calle 5...</td>\n",
       "      <td>PLANTAS y CEDIS</td>\n",
       "      <td>NaN</td>\n",
       "      <td>NaN</td>\n",
       "    </tr>\n",
       "    <tr>\n",
       "      <th>freq</th>\n",
       "      <td>4527</td>\n",
       "      <td>3480</td>\n",
       "      <td>4843</td>\n",
       "      <td>6972</td>\n",
       "      <td>10509</td>\n",
       "      <td>8096</td>\n",
       "      <td>59724</td>\n",
       "      <td>NaN</td>\n",
       "      <td>NaN</td>\n",
       "    </tr>\n",
       "    <tr>\n",
       "      <th>mean</th>\n",
       "      <td>NaN</td>\n",
       "      <td>NaN</td>\n",
       "      <td>NaN</td>\n",
       "      <td>NaN</td>\n",
       "      <td>NaN</td>\n",
       "      <td>NaN</td>\n",
       "      <td>NaN</td>\n",
       "      <td>9.801268</td>\n",
       "      <td>34.837420</td>\n",
       "    </tr>\n",
       "    <tr>\n",
       "      <th>std</th>\n",
       "      <td>NaN</td>\n",
       "      <td>NaN</td>\n",
       "      <td>NaN</td>\n",
       "      <td>NaN</td>\n",
       "      <td>NaN</td>\n",
       "      <td>NaN</td>\n",
       "      <td>NaN</td>\n",
       "      <td>18.725452</td>\n",
       "      <td>27.512115</td>\n",
       "    </tr>\n",
       "    <tr>\n",
       "      <th>min</th>\n",
       "      <td>NaN</td>\n",
       "      <td>NaN</td>\n",
       "      <td>NaN</td>\n",
       "      <td>NaN</td>\n",
       "      <td>NaN</td>\n",
       "      <td>NaN</td>\n",
       "      <td>NaN</td>\n",
       "      <td>0.000000</td>\n",
       "      <td>0.000000</td>\n",
       "    </tr>\n",
       "    <tr>\n",
       "      <th>25%</th>\n",
       "      <td>NaN</td>\n",
       "      <td>NaN</td>\n",
       "      <td>NaN</td>\n",
       "      <td>NaN</td>\n",
       "      <td>NaN</td>\n",
       "      <td>NaN</td>\n",
       "      <td>NaN</td>\n",
       "      <td>0.000000</td>\n",
       "      <td>11.000000</td>\n",
       "    </tr>\n",
       "    <tr>\n",
       "      <th>50%</th>\n",
       "      <td>NaN</td>\n",
       "      <td>NaN</td>\n",
       "      <td>NaN</td>\n",
       "      <td>NaN</td>\n",
       "      <td>NaN</td>\n",
       "      <td>NaN</td>\n",
       "      <td>NaN</td>\n",
       "      <td>1.000000</td>\n",
       "      <td>20.000000</td>\n",
       "    </tr>\n",
       "    <tr>\n",
       "      <th>75%</th>\n",
       "      <td>NaN</td>\n",
       "      <td>NaN</td>\n",
       "      <td>NaN</td>\n",
       "      <td>NaN</td>\n",
       "      <td>NaN</td>\n",
       "      <td>NaN</td>\n",
       "      <td>NaN</td>\n",
       "      <td>13.000000</td>\n",
       "      <td>61.000000</td>\n",
       "    </tr>\n",
       "    <tr>\n",
       "      <th>max</th>\n",
       "      <td>NaN</td>\n",
       "      <td>NaN</td>\n",
       "      <td>NaN</td>\n",
       "      <td>NaN</td>\n",
       "      <td>NaN</td>\n",
       "      <td>NaN</td>\n",
       "      <td>NaN</td>\n",
       "      <td>914.000000</td>\n",
       "      <td>116.000000</td>\n",
       "    </tr>\n",
       "  </tbody>\n",
       "</table>\n",
       "</div>"
      ],
      "text/plain": [
       "       Dispositivo        Nombre        Apellido Duración de conducción  \\\n",
       "count        88818         88818           88818                  88818   \n",
       "unique          74           119             107                    287   \n",
       "top       FV040860  Solano_Lopez  _Jorge_Alberto                   0:01   \n",
       "freq          4527          3480            4843                   6972   \n",
       "mean           NaN           NaN             NaN                    NaN   \n",
       "std            NaN           NaN             NaN                    NaN   \n",
       "min            NaN           NaN             NaN                    NaN   \n",
       "25%            NaN           NaN             NaN                    NaN   \n",
       "50%            NaN           NaN             NaN                    NaN   \n",
       "75%            NaN           NaN             NaN                    NaN   \n",
       "max            NaN           NaN             NaN                    NaN   \n",
       "\n",
       "       Duración de la parada  \\\n",
       "count                  88818   \n",
       "unique                  1453   \n",
       "top                     0:03   \n",
       "freq                   10509   \n",
       "mean                     NaN   \n",
       "std                      NaN   \n",
       "min                      NaN   \n",
       "25%                      NaN   \n",
       "50%                      NaN   \n",
       "75%                      NaN   \n",
       "max                      NaN   \n",
       "\n",
       "                                                Ubicación  \\\n",
       "count                                               88818   \n",
       "unique                                                997   \n",
       "top     BMA_PTA_AZCAPOTZALCO_|BMA|_#100_1002#: Calle 5...   \n",
       "freq                                                 8096   \n",
       "mean                                                  NaN   \n",
       "std                                                   NaN   \n",
       "min                                                   NaN   \n",
       "25%                                                   NaN   \n",
       "50%                                                   NaN   \n",
       "75%                                                   NaN   \n",
       "max                                                   NaN   \n",
       "\n",
       "       Tipos de zonas de parada     Distancia  Velocidad máxima  \n",
       "count                     88818  88818.000000      88818.000000  \n",
       "unique                       39           NaN               NaN  \n",
       "top             PLANTAS y CEDIS           NaN               NaN  \n",
       "freq                      59724           NaN               NaN  \n",
       "mean                        NaN      9.801268         34.837420  \n",
       "std                         NaN     18.725452         27.512115  \n",
       "min                         NaN      0.000000          0.000000  \n",
       "25%                         NaN      0.000000         11.000000  \n",
       "50%                         NaN      1.000000         20.000000  \n",
       "75%                         NaN     13.000000         61.000000  \n",
       "max                         NaN    914.000000        116.000000  "
      ]
     },
     "execution_count": 326,
     "metadata": {},
     "output_type": "execute_result"
    }
   ],
   "source": [
    "df.describe(include='all')"
   ]
  },
  {
   "cell_type": "code",
   "execution_count": 327,
   "metadata": {
    "colab": {
     "base_uri": "https://localhost:8080/",
     "height": 372
    },
    "id": "h2M5s_sgwzJd",
    "outputId": "4b37bf18-86b2-4031-972d-760c58aefe1f"
   },
   "outputs": [
    {
     "data": {
      "text/html": [
       "<div>\n",
       "<style scoped>\n",
       "    .dataframe tbody tr th:only-of-type {\n",
       "        vertical-align: middle;\n",
       "    }\n",
       "\n",
       "    .dataframe tbody tr th {\n",
       "        vertical-align: top;\n",
       "    }\n",
       "\n",
       "    .dataframe thead th {\n",
       "        text-align: right;\n",
       "    }\n",
       "</style>\n",
       "<table border=\"1\" class=\"dataframe\">\n",
       "  <thead>\n",
       "    <tr style=\"text-align: right;\">\n",
       "      <th></th>\n",
       "      <th>Dispositivo</th>\n",
       "      <th>Nombre</th>\n",
       "      <th>Apellido</th>\n",
       "      <th>Duración de conducción</th>\n",
       "      <th>Duración de la parada</th>\n",
       "      <th>Ubicación</th>\n",
       "      <th>Tipos de zonas de parada</th>\n",
       "      <th>Distancia</th>\n",
       "      <th>Velocidad máxima</th>\n",
       "      <th>Nombre_Comp</th>\n",
       "    </tr>\n",
       "  </thead>\n",
       "  <tbody>\n",
       "    <tr>\n",
       "      <th>22</th>\n",
       "      <td>FV040849</td>\n",
       "      <td>Aranda_Morales</td>\n",
       "      <td>_Alejandro</td>\n",
       "      <td>0:13</td>\n",
       "      <td>0:03</td>\n",
       "      <td>BMS_PTA_STA_MARIA_|BSM|#100_1001#: Chopo 146, ...</td>\n",
       "      <td>PLANTAS y CEDIS</td>\n",
       "      <td>3</td>\n",
       "      <td>70</td>\n",
       "      <td>Aranda_Morales_Alejandro</td>\n",
       "    </tr>\n",
       "    <tr>\n",
       "      <th>23</th>\n",
       "      <td>FV040849</td>\n",
       "      <td>Aranda_Morales</td>\n",
       "      <td>_Alejandro</td>\n",
       "      <td>0:02</td>\n",
       "      <td>0:03</td>\n",
       "      <td>BMS_PTA_STA_MARIA_|BSM|#100_1001#: Abedules 12...</td>\n",
       "      <td>PLANTAS y CEDIS</td>\n",
       "      <td>0</td>\n",
       "      <td>14</td>\n",
       "      <td>Aranda_Morales_Alejandro</td>\n",
       "    </tr>\n",
       "    <tr>\n",
       "      <th>24</th>\n",
       "      <td>FV040849</td>\n",
       "      <td>Aranda_Morales</td>\n",
       "      <td>_Alejandro</td>\n",
       "      <td>0:02</td>\n",
       "      <td>0:03</td>\n",
       "      <td>BMS_PTA_STA_MARIA_|BSM|#100_1001#: Chopo 48, S...</td>\n",
       "      <td>PLANTAS y CEDIS</td>\n",
       "      <td>0</td>\n",
       "      <td>12</td>\n",
       "      <td>Aranda_Morales_Alejandro</td>\n",
       "    </tr>\n",
       "    <tr>\n",
       "      <th>25</th>\n",
       "      <td>FV040849</td>\n",
       "      <td>Aranda_Morales</td>\n",
       "      <td>_Alejandro</td>\n",
       "      <td>0:53</td>\n",
       "      <td>0:03</td>\n",
       "      <td>CEVE_IZTAPALAPA_II_#100_2029-100_2202-101_2663...</td>\n",
       "      <td>CeVe</td>\n",
       "      <td>22</td>\n",
       "      <td>72</td>\n",
       "      <td>Aranda_Morales_Alejandro</td>\n",
       "    </tr>\n",
       "    <tr>\n",
       "      <th>26</th>\n",
       "      <td>FV040849</td>\n",
       "      <td>Aranda_Morales</td>\n",
       "      <td>_Alejandro</td>\n",
       "      <td>0:37</td>\n",
       "      <td>0:47</td>\n",
       "      <td>CEVE_XOCHIMILCO_#100_2070-100_2021#: Santiago ...</td>\n",
       "      <td>CeVe</td>\n",
       "      <td>20</td>\n",
       "      <td>77</td>\n",
       "      <td>Aranda_Morales_Alejandro</td>\n",
       "    </tr>\n",
       "  </tbody>\n",
       "</table>\n",
       "</div>"
      ],
      "text/plain": [
       "   Dispositivo          Nombre    Apellido Duración de conducción  \\\n",
       "22    FV040849  Aranda_Morales  _Alejandro                   0:13   \n",
       "23    FV040849  Aranda_Morales  _Alejandro                   0:02   \n",
       "24    FV040849  Aranda_Morales  _Alejandro                   0:02   \n",
       "25    FV040849  Aranda_Morales  _Alejandro                   0:53   \n",
       "26    FV040849  Aranda_Morales  _Alejandro                   0:37   \n",
       "\n",
       "   Duración de la parada                                          Ubicación  \\\n",
       "22                  0:03  BMS_PTA_STA_MARIA_|BSM|#100_1001#: Chopo 146, ...   \n",
       "23                  0:03  BMS_PTA_STA_MARIA_|BSM|#100_1001#: Abedules 12...   \n",
       "24                  0:03  BMS_PTA_STA_MARIA_|BSM|#100_1001#: Chopo 48, S...   \n",
       "25                  0:03  CEVE_IZTAPALAPA_II_#100_2029-100_2202-101_2663...   \n",
       "26                  0:47  CEVE_XOCHIMILCO_#100_2070-100_2021#: Santiago ...   \n",
       "\n",
       "   Tipos de zonas de parada  Distancia  Velocidad máxima  \\\n",
       "22          PLANTAS y CEDIS          3                70   \n",
       "23          PLANTAS y CEDIS          0                14   \n",
       "24          PLANTAS y CEDIS          0                12   \n",
       "25                     CeVe         22                72   \n",
       "26                     CeVe         20                77   \n",
       "\n",
       "                 Nombre_Comp  \n",
       "22  Aranda_Morales_Alejandro  \n",
       "23  Aranda_Morales_Alejandro  \n",
       "24  Aranda_Morales_Alejandro  \n",
       "25  Aranda_Morales_Alejandro  \n",
       "26  Aranda_Morales_Alejandro  "
      ]
     },
     "execution_count": 327,
     "metadata": {},
     "output_type": "execute_result"
    }
   ],
   "source": [
    "# se une Nombre y Apellido en variable nueva\n",
    "df['Nombre_Comp'] = df.Nombre + df.Apellido\n",
    "df.head()"
   ]
  },
  {
   "cell_type": "code",
   "execution_count": 328,
   "metadata": {
    "id": "Vgz7MmPXwzJd"
   },
   "outputs": [],
   "source": [
    "# se crea un nuevo dataframe\n",
    "filtro1 = ['Dispositivo','Nombre_Comp','Duración de conducción','Duración de la parada',\n",
    "          'Ubicación','Tipos de zonas de parada','Distancia','Velocidad máxima']\n",
    "df = df.filter(items = filtro1)"
   ]
  },
  {
   "cell_type": "code",
   "execution_count": 329,
   "metadata": {
    "colab": {
     "base_uri": "https://localhost:8080/",
     "height": 354
    },
    "id": "E7DDhtsuwzJe",
    "outputId": "00166125-02fc-410b-852c-832d64c87d2d"
   },
   "outputs": [
    {
     "data": {
      "text/html": [
       "<div>\n",
       "<style scoped>\n",
       "    .dataframe tbody tr th:only-of-type {\n",
       "        vertical-align: middle;\n",
       "    }\n",
       "\n",
       "    .dataframe tbody tr th {\n",
       "        vertical-align: top;\n",
       "    }\n",
       "\n",
       "    .dataframe thead th {\n",
       "        text-align: right;\n",
       "    }\n",
       "</style>\n",
       "<table border=\"1\" class=\"dataframe\">\n",
       "  <thead>\n",
       "    <tr style=\"text-align: right;\">\n",
       "      <th></th>\n",
       "      <th>Dispositivo</th>\n",
       "      <th>Nombre_Comp</th>\n",
       "      <th>Duración de conducción</th>\n",
       "      <th>Duración de la parada</th>\n",
       "      <th>Ubicación</th>\n",
       "      <th>Tipos de zonas de parada</th>\n",
       "      <th>Distancia</th>\n",
       "      <th>Velocidad máxima</th>\n",
       "    </tr>\n",
       "  </thead>\n",
       "  <tbody>\n",
       "    <tr>\n",
       "      <th>22</th>\n",
       "      <td>FV040849</td>\n",
       "      <td>Aranda_Morales_Alejandro</td>\n",
       "      <td>0:13</td>\n",
       "      <td>0:03</td>\n",
       "      <td>BMS_PTA_STA_MARIA_|BSM|#100_1001#: Chopo 146, ...</td>\n",
       "      <td>PLANTAS y CEDIS</td>\n",
       "      <td>3</td>\n",
       "      <td>70</td>\n",
       "    </tr>\n",
       "    <tr>\n",
       "      <th>23</th>\n",
       "      <td>FV040849</td>\n",
       "      <td>Aranda_Morales_Alejandro</td>\n",
       "      <td>0:02</td>\n",
       "      <td>0:03</td>\n",
       "      <td>BMS_PTA_STA_MARIA_|BSM|#100_1001#: Abedules 12...</td>\n",
       "      <td>PLANTAS y CEDIS</td>\n",
       "      <td>0</td>\n",
       "      <td>14</td>\n",
       "    </tr>\n",
       "    <tr>\n",
       "      <th>24</th>\n",
       "      <td>FV040849</td>\n",
       "      <td>Aranda_Morales_Alejandro</td>\n",
       "      <td>0:02</td>\n",
       "      <td>0:03</td>\n",
       "      <td>BMS_PTA_STA_MARIA_|BSM|#100_1001#: Chopo 48, S...</td>\n",
       "      <td>PLANTAS y CEDIS</td>\n",
       "      <td>0</td>\n",
       "      <td>12</td>\n",
       "    </tr>\n",
       "    <tr>\n",
       "      <th>25</th>\n",
       "      <td>FV040849</td>\n",
       "      <td>Aranda_Morales_Alejandro</td>\n",
       "      <td>0:53</td>\n",
       "      <td>0:03</td>\n",
       "      <td>CEVE_IZTAPALAPA_II_#100_2029-100_2202-101_2663...</td>\n",
       "      <td>CeVe</td>\n",
       "      <td>22</td>\n",
       "      <td>72</td>\n",
       "    </tr>\n",
       "    <tr>\n",
       "      <th>26</th>\n",
       "      <td>FV040849</td>\n",
       "      <td>Aranda_Morales_Alejandro</td>\n",
       "      <td>0:37</td>\n",
       "      <td>0:47</td>\n",
       "      <td>CEVE_XOCHIMILCO_#100_2070-100_2021#: Santiago ...</td>\n",
       "      <td>CeVe</td>\n",
       "      <td>20</td>\n",
       "      <td>77</td>\n",
       "    </tr>\n",
       "  </tbody>\n",
       "</table>\n",
       "</div>"
      ],
      "text/plain": [
       "   Dispositivo               Nombre_Comp Duración de conducción  \\\n",
       "22    FV040849  Aranda_Morales_Alejandro                   0:13   \n",
       "23    FV040849  Aranda_Morales_Alejandro                   0:02   \n",
       "24    FV040849  Aranda_Morales_Alejandro                   0:02   \n",
       "25    FV040849  Aranda_Morales_Alejandro                   0:53   \n",
       "26    FV040849  Aranda_Morales_Alejandro                   0:37   \n",
       "\n",
       "   Duración de la parada                                          Ubicación  \\\n",
       "22                  0:03  BMS_PTA_STA_MARIA_|BSM|#100_1001#: Chopo 146, ...   \n",
       "23                  0:03  BMS_PTA_STA_MARIA_|BSM|#100_1001#: Abedules 12...   \n",
       "24                  0:03  BMS_PTA_STA_MARIA_|BSM|#100_1001#: Chopo 48, S...   \n",
       "25                  0:03  CEVE_IZTAPALAPA_II_#100_2029-100_2202-101_2663...   \n",
       "26                  0:47  CEVE_XOCHIMILCO_#100_2070-100_2021#: Santiago ...   \n",
       "\n",
       "   Tipos de zonas de parada  Distancia  Velocidad máxima  \n",
       "22          PLANTAS y CEDIS          3                70  \n",
       "23          PLANTAS y CEDIS          0                14  \n",
       "24          PLANTAS y CEDIS          0                12  \n",
       "25                     CeVe         22                72  \n",
       "26                     CeVe         20                77  "
      ]
     },
     "execution_count": 329,
     "metadata": {},
     "output_type": "execute_result"
    }
   ],
   "source": [
    "df.head()"
   ]
  },
  {
   "cell_type": "code",
   "execution_count": 372,
   "metadata": {
    "id": "VG_CGpBVGH8C"
   },
   "outputs": [],
   "source": [
    "# se delimita la distancia con la distancia del trayecto más corto \n",
    "df = df[df['Distancia']>=3.445]"
   ]
  },
  {
   "cell_type": "code",
   "execution_count": 373,
   "metadata": {
    "id": "N6dGr1W-wzJe"
   },
   "outputs": [],
   "source": [
    "# se delimita el timpo de conducción con el tiempo mínimo de trayecto\n",
    "df = df[df['Duración de conducción']>='0:15']"
   ]
  },
  {
   "cell_type": "code",
   "execution_count": 374,
   "metadata": {
    "id": "3EOD3WbxwzJe"
   },
   "outputs": [],
   "source": [
    "# se delimita el tiempo de parada a 10 horas máximas\n",
    "df = df[df['Duración de la parada']<='10:00']"
   ]
  },
  {
   "cell_type": "code",
   "execution_count": 335,
   "metadata": {
    "id": "q2Z2yz6_wzJf"
   },
   "outputs": [],
   "source": [
    "#se convierten los tipos de datos de las variables de tiempo\n",
    "df['Duración de la parada'] = pd.to_datetime(df['Duración de la parada'])\n",
    "df['Duración de conducción'] = pd.to_datetime(df['Duración de conducción'])"
   ]
  },
  {
   "cell_type": "code",
   "execution_count": 375,
   "metadata": {
    "colab": {
     "base_uri": "https://localhost:8080/"
    },
    "id": "DXPLTmdOwzJf",
    "outputId": "7de24702-28f9-4d9c-ef08-40c2ff05351a"
   },
   "outputs": [
    {
     "name": "stdout",
     "output_type": "stream",
     "text": [
      "<class 'pandas.core.frame.DataFrame'>\n",
      "Int64Index: 26282 entries, 25 to 206516\n",
      "Data columns (total 8 columns):\n",
      " #   Column                    Non-Null Count  Dtype         \n",
      "---  ------                    --------------  -----         \n",
      " 0   Dispositivo               26282 non-null  object        \n",
      " 1   Nombre_Comp               26282 non-null  object        \n",
      " 2   Duración de conducción    26282 non-null  datetime64[ns]\n",
      " 3   Duración de la parada     26282 non-null  datetime64[ns]\n",
      " 4   Ubicación                 26282 non-null  object        \n",
      " 5   Tipos de zonas de parada  26282 non-null  object        \n",
      " 6   Distancia                 26282 non-null  int64         \n",
      " 7   Velocidad máxima          26282 non-null  int64         \n",
      "dtypes: datetime64[ns](2), int64(2), object(4)\n",
      "memory usage: 1.8+ MB\n"
     ]
    }
   ],
   "source": [
    "df.info()"
   ]
  },
  {
   "cell_type": "code",
   "execution_count": 337,
   "metadata": {
    "colab": {
     "base_uri": "https://localhost:8080/",
     "height": 507
    },
    "id": "DIMLm5dCwzJf",
    "outputId": "5a78e88c-9e66-4a76-fcd0-fb940d7a87d1"
   },
   "outputs": [
    {
     "data": {
      "text/html": [
       "<div>\n",
       "<style scoped>\n",
       "    .dataframe tbody tr th:only-of-type {\n",
       "        vertical-align: middle;\n",
       "    }\n",
       "\n",
       "    .dataframe tbody tr th {\n",
       "        vertical-align: top;\n",
       "    }\n",
       "\n",
       "    .dataframe thead th {\n",
       "        text-align: right;\n",
       "    }\n",
       "</style>\n",
       "<table border=\"1\" class=\"dataframe\">\n",
       "  <thead>\n",
       "    <tr style=\"text-align: right;\">\n",
       "      <th></th>\n",
       "      <th>Dispositivo</th>\n",
       "      <th>Nombre_Comp</th>\n",
       "      <th>Duración de conducción</th>\n",
       "      <th>Duración de la parada</th>\n",
       "      <th>Ubicación</th>\n",
       "      <th>Tipos de zonas de parada</th>\n",
       "      <th>Distancia</th>\n",
       "      <th>Velocidad máxima</th>\n",
       "    </tr>\n",
       "  </thead>\n",
       "  <tbody>\n",
       "    <tr>\n",
       "      <th>count</th>\n",
       "      <td>27159</td>\n",
       "      <td>27159</td>\n",
       "      <td>27159</td>\n",
       "      <td>27159</td>\n",
       "      <td>27159</td>\n",
       "      <td>27159</td>\n",
       "      <td>27159.000000</td>\n",
       "      <td>27159.000000</td>\n",
       "    </tr>\n",
       "    <tr>\n",
       "      <th>unique</th>\n",
       "      <td>74</td>\n",
       "      <td>113</td>\n",
       "      <td>NaN</td>\n",
       "      <td>NaN</td>\n",
       "      <td>650</td>\n",
       "      <td>30</td>\n",
       "      <td>NaN</td>\n",
       "      <td>NaN</td>\n",
       "    </tr>\n",
       "    <tr>\n",
       "      <th>top</th>\n",
       "      <td>FV040860</td>\n",
       "      <td>Ponce_Serrano_Abraham</td>\n",
       "      <td>NaN</td>\n",
       "      <td>NaN</td>\n",
       "      <td>BMA_PTA_AZCAPOTZALCO_|BMA|_#100_1002#: Calle 5...</td>\n",
       "      <td>PLANTAS y CEDIS</td>\n",
       "      <td>NaN</td>\n",
       "      <td>NaN</td>\n",
       "    </tr>\n",
       "    <tr>\n",
       "      <th>freq</th>\n",
       "      <td>1797</td>\n",
       "      <td>1214</td>\n",
       "      <td>NaN</td>\n",
       "      <td>NaN</td>\n",
       "      <td>2967</td>\n",
       "      <td>17150</td>\n",
       "      <td>NaN</td>\n",
       "      <td>NaN</td>\n",
       "    </tr>\n",
       "    <tr>\n",
       "      <th>mean</th>\n",
       "      <td>NaN</td>\n",
       "      <td>NaN</td>\n",
       "      <td>2022-02-25 00:52:45.445708544</td>\n",
       "      <td>2022-02-25 00:13:15.530763008</td>\n",
       "      <td>NaN</td>\n",
       "      <td>NaN</td>\n",
       "      <td>23.789241</td>\n",
       "      <td>64.513347</td>\n",
       "    </tr>\n",
       "    <tr>\n",
       "      <th>min</th>\n",
       "      <td>NaN</td>\n",
       "      <td>NaN</td>\n",
       "      <td>2022-02-25 00:15:00</td>\n",
       "      <td>2022-02-25 00:00:00</td>\n",
       "      <td>NaN</td>\n",
       "      <td>NaN</td>\n",
       "      <td>7.000000</td>\n",
       "      <td>0.000000</td>\n",
       "    </tr>\n",
       "    <tr>\n",
       "      <th>25%</th>\n",
       "      <td>NaN</td>\n",
       "      <td>NaN</td>\n",
       "      <td>2022-02-25 00:32:00</td>\n",
       "      <td>2022-02-25 00:02:00</td>\n",
       "      <td>NaN</td>\n",
       "      <td>NaN</td>\n",
       "      <td>10.000000</td>\n",
       "      <td>55.000000</td>\n",
       "    </tr>\n",
       "    <tr>\n",
       "      <th>50%</th>\n",
       "      <td>NaN</td>\n",
       "      <td>NaN</td>\n",
       "      <td>2022-02-25 00:44:00</td>\n",
       "      <td>2022-02-25 00:06:00</td>\n",
       "      <td>NaN</td>\n",
       "      <td>NaN</td>\n",
       "      <td>19.000000</td>\n",
       "      <td>63.000000</td>\n",
       "    </tr>\n",
       "    <tr>\n",
       "      <th>75%</th>\n",
       "      <td>NaN</td>\n",
       "      <td>NaN</td>\n",
       "      <td>2022-02-25 01:05:00</td>\n",
       "      <td>2022-02-25 00:20:00</td>\n",
       "      <td>NaN</td>\n",
       "      <td>NaN</td>\n",
       "      <td>27.000000</td>\n",
       "      <td>74.000000</td>\n",
       "    </tr>\n",
       "    <tr>\n",
       "      <th>max</th>\n",
       "      <td>NaN</td>\n",
       "      <td>NaN</td>\n",
       "      <td>2022-02-25 13:58:00</td>\n",
       "      <td>2022-02-25 00:59:00</td>\n",
       "      <td>NaN</td>\n",
       "      <td>NaN</td>\n",
       "      <td>914.000000</td>\n",
       "      <td>116.000000</td>\n",
       "    </tr>\n",
       "    <tr>\n",
       "      <th>std</th>\n",
       "      <td>NaN</td>\n",
       "      <td>NaN</td>\n",
       "      <td>NaN</td>\n",
       "      <td>NaN</td>\n",
       "      <td>NaN</td>\n",
       "      <td>NaN</td>\n",
       "      <td>25.361349</td>\n",
       "      <td>12.335085</td>\n",
       "    </tr>\n",
       "  </tbody>\n",
       "</table>\n",
       "</div>"
      ],
      "text/plain": [
       "       Dispositivo            Nombre_Comp         Duración de conducción  \\\n",
       "count        27159                  27159                          27159   \n",
       "unique          74                    113                            NaN   \n",
       "top       FV040860  Ponce_Serrano_Abraham                            NaN   \n",
       "freq          1797                   1214                            NaN   \n",
       "mean           NaN                    NaN  2022-02-25 00:52:45.445708544   \n",
       "min            NaN                    NaN            2022-02-25 00:15:00   \n",
       "25%            NaN                    NaN            2022-02-25 00:32:00   \n",
       "50%            NaN                    NaN            2022-02-25 00:44:00   \n",
       "75%            NaN                    NaN            2022-02-25 01:05:00   \n",
       "max            NaN                    NaN            2022-02-25 13:58:00   \n",
       "std            NaN                    NaN                            NaN   \n",
       "\n",
       "                Duración de la parada  \\\n",
       "count                           27159   \n",
       "unique                            NaN   \n",
       "top                               NaN   \n",
       "freq                              NaN   \n",
       "mean    2022-02-25 00:13:15.530763008   \n",
       "min               2022-02-25 00:00:00   \n",
       "25%               2022-02-25 00:02:00   \n",
       "50%               2022-02-25 00:06:00   \n",
       "75%               2022-02-25 00:20:00   \n",
       "max               2022-02-25 00:59:00   \n",
       "std                               NaN   \n",
       "\n",
       "                                                Ubicación  \\\n",
       "count                                               27159   \n",
       "unique                                                650   \n",
       "top     BMA_PTA_AZCAPOTZALCO_|BMA|_#100_1002#: Calle 5...   \n",
       "freq                                                 2967   \n",
       "mean                                                  NaN   \n",
       "min                                                   NaN   \n",
       "25%                                                   NaN   \n",
       "50%                                                   NaN   \n",
       "75%                                                   NaN   \n",
       "max                                                   NaN   \n",
       "std                                                   NaN   \n",
       "\n",
       "       Tipos de zonas de parada     Distancia  Velocidad máxima  \n",
       "count                     27159  27159.000000      27159.000000  \n",
       "unique                       30           NaN               NaN  \n",
       "top             PLANTAS y CEDIS           NaN               NaN  \n",
       "freq                      17150           NaN               NaN  \n",
       "mean                        NaN     23.789241         64.513347  \n",
       "min                         NaN      7.000000          0.000000  \n",
       "25%                         NaN     10.000000         55.000000  \n",
       "50%                         NaN     19.000000         63.000000  \n",
       "75%                         NaN     27.000000         74.000000  \n",
       "max                         NaN    914.000000        116.000000  \n",
       "std                         NaN     25.361349         12.335085  "
      ]
     },
     "execution_count": 337,
     "metadata": {},
     "output_type": "execute_result"
    }
   ],
   "source": [
    "df.describe(include='all',datetime_is_numeric=True)"
   ]
  },
  {
   "cell_type": "code",
   "execution_count": 338,
   "metadata": {
    "colab": {
     "base_uri": "https://localhost:8080/"
    },
    "id": "C57_EthgwzJf",
    "outputId": "4df3ef7e-2237-43ac-fb9e-5feeb0b47d9b"
   },
   "outputs": [
    {
     "data": {
      "text/plain": [
       "25    aranda morales alejandro\n",
       "26    aranda morales alejandro\n",
       "27    aranda morales alejandro\n",
       "29    aranda morales alejandro\n",
       "40    aranda morales alejandro\n",
       "Name: Nombre_Comp, dtype: object"
      ]
     },
     "execution_count": 338,
     "metadata": {},
     "output_type": "execute_result"
    }
   ],
   "source": [
    "# se quitan los guiones bajos en los nombres y se cambian a minúsculas todas las letras\n",
    "df[\"Nombre_Comp\"].replace( { r\"[_]+\" : ' ' }, inplace= True, regex = True)\n",
    "df[\"Nombre_Comp\"] = df[\"Nombre_Comp\"].str.lower()\n",
    "df[\"Nombre_Comp\"].head()"
   ]
  },
  {
   "cell_type": "code",
   "execution_count": 339,
   "metadata": {
    "colab": {
     "base_uri": "https://localhost:8080/"
    },
    "id": "YWTq_3qRwzJf",
    "outputId": "823e4772-cdd9-4607-b532-cd3ecf8d7035"
   },
   "outputs": [
    {
     "data": {
      "text/plain": [
       "25             [CEVE, IZTAPALAPA, CDMX]\n",
       "26             [CEVE, XOCHIMILCO, CDMX]\n",
       "27             [CEVE, IZTAPALAPA, CDMX]\n",
       "29    [BMS, PTA, STA, MARIA, BSM, CDMX]\n",
       "40      [CDM, CDS, METROPOLITANO, CDMX]\n",
       "Name: Ubicación, dtype: object"
      ]
     },
     "execution_count": 339,
     "metadata": {},
     "output_type": "execute_result"
    }
   ],
   "source": [
    "# se quitan los guiones bajos en las ubicaciones y se reducen los nombres\n",
    "df[\"Ubicación\"].replace( { r\"[_]+\" : ' ' }, inplace= True, regex = True)\n",
    "pattern1 = r\"[A-Z][A-Z][A-Z]+\"\n",
    "df[\"Ubicación\"] = df[\"Ubicación\"].apply(lambda x: re.findall(pattern1, str(x)))\n",
    "df[\"Ubicación\"].head()"
   ]
  },
  {
   "cell_type": "code",
   "execution_count": 340,
   "metadata": {
    "colab": {
     "base_uri": "https://localhost:8080/"
    },
    "id": "HgJ7xP6fwzJg",
    "outputId": "76c95994-eb69-4de4-ac7d-d42e16fa2cd6"
   },
   "outputs": [
    {
     "data": {
      "text/plain": [
       "PLANTAS y CEDIS                                           17150\n",
       "CeVe                                                       7153\n",
       "CENTROS DE VENTA, CeVe                                     1516\n",
       "CeVe, delincuency                                           463\n",
       "delincuency                                                 271\n",
       "Edenred                                                     225\n",
       "TALLER INTERNO, PLANTAS y CEDIS                              94\n",
       "RIEGO DE ESTACIONAMIENTO                                     70\n",
       "Estación Pemex, PLANTAS y CEDIS                              50\n",
       "Edenred, CeVe                                                43\n",
       "RIESGO VIAL                                                  33\n",
       "CASETA DE PEAJE                                              27\n",
       "ZONAS DE ALIMENTOS, RIEGO DE ESTACIONAMIENTO                 13\n",
       "TALLER EXTERNO                                                9\n",
       "RIESGO VIAL, Edenred                                          9\n",
       "Edenred, Home Zone                                            9\n",
       "RIESGO VIAL, PLANTAS y CEDIS                                  7\n",
       "TALLER EXTERNO, Edenred                                       4\n",
       "delincuency, Edenred                                          2\n",
       "RIEGO DE ESTACIONAMIENTO, RIESGO DE EXTRACCION                1\n",
       "Home Zone, RIESGO VIAL                                        1\n",
       "Customer Zone                                                 1\n",
       "RIEGO DE ESTACIONAMIENTO, RIESGO VIAL, CASETA DE PEAJE        1\n",
       "RIEGO DE ESTACIONAMIENTO, CASETA DE PEAJE                     1\n",
       "RIESGO DE EXTRACCION                                          1\n",
       "Edenred, delincuency                                          1\n",
       "Edenred, TALLER EXTERNO                                       1\n",
       "ZONAS DE ALIMENTOS                                            1\n",
       "Edenred, RIESGO VIAL                                          1\n",
       "ZONA DE CURVAS PENDIENTE DESCENDIENTE                         1\n",
       "Name: Tipos de zonas de parada, dtype: int64"
      ]
     },
     "execution_count": 340,
     "metadata": {},
     "output_type": "execute_result"
    }
   ],
   "source": [
    "# se revisan las observaciones con los valores de ceve, plantas y cedis\n",
    "df['Tipos de zonas de parada'].value_counts()"
   ]
  },
  {
   "cell_type": "code",
   "execution_count": 341,
   "metadata": {
    "id": "M2tG57zWwzJg"
   },
   "outputs": [],
   "source": [
    "df = df.loc[(df.loc[:,'Tipos de zonas de parada']=='PLANTAS y CEDIS')|\n",
    "            (df.loc[:,'Tipos de zonas de parada']=='CeVe')|\n",
    "            (df.loc[:,'Tipos de zonas de parada']=='CENTROS DE VENTA, CeVe')|\n",
    "            (df.loc[:,'Tipos de zonas de parada']=='CeVe, delincuency')]"
   ]
  },
  {
   "cell_type": "code",
   "execution_count": 342,
   "metadata": {
    "colab": {
     "base_uri": "https://localhost:8080/",
     "height": 472
    },
    "id": "Sg0eCxl-wzJg",
    "outputId": "2fd5a4a8-fd23-4705-b1a9-cd48dc92c336"
   },
   "outputs": [
    {
     "data": {
      "text/html": [
       "<div>\n",
       "<style scoped>\n",
       "    .dataframe tbody tr th:only-of-type {\n",
       "        vertical-align: middle;\n",
       "    }\n",
       "\n",
       "    .dataframe tbody tr th {\n",
       "        vertical-align: top;\n",
       "    }\n",
       "\n",
       "    .dataframe thead th {\n",
       "        text-align: right;\n",
       "    }\n",
       "</style>\n",
       "<table border=\"1\" class=\"dataframe\">\n",
       "  <thead>\n",
       "    <tr style=\"text-align: right;\">\n",
       "      <th></th>\n",
       "      <th>Dispositivo</th>\n",
       "      <th>Nombre_Comp</th>\n",
       "      <th>Duración de conducción</th>\n",
       "      <th>Duración de la parada</th>\n",
       "      <th>Ubicación</th>\n",
       "      <th>Tipos de zonas de parada</th>\n",
       "      <th>Distancia</th>\n",
       "      <th>Velocidad máxima</th>\n",
       "    </tr>\n",
       "  </thead>\n",
       "  <tbody>\n",
       "    <tr>\n",
       "      <th>count</th>\n",
       "      <td>26282</td>\n",
       "      <td>26282</td>\n",
       "      <td>26282</td>\n",
       "      <td>26282</td>\n",
       "      <td>26282</td>\n",
       "      <td>26282</td>\n",
       "      <td>26282.000000</td>\n",
       "      <td>26282.000000</td>\n",
       "    </tr>\n",
       "    <tr>\n",
       "      <th>unique</th>\n",
       "      <td>74</td>\n",
       "      <td>113</td>\n",
       "      <td>NaN</td>\n",
       "      <td>NaN</td>\n",
       "      <td>64</td>\n",
       "      <td>4</td>\n",
       "      <td>NaN</td>\n",
       "      <td>NaN</td>\n",
       "    </tr>\n",
       "    <tr>\n",
       "      <th>top</th>\n",
       "      <td>FV040856</td>\n",
       "      <td>ponce serrano abraham</td>\n",
       "      <td>NaN</td>\n",
       "      <td>NaN</td>\n",
       "      <td>[BMA, PTA, AZCAPOTZALCO, BMA, CDMX]</td>\n",
       "      <td>PLANTAS y CEDIS</td>\n",
       "      <td>NaN</td>\n",
       "      <td>NaN</td>\n",
       "    </tr>\n",
       "    <tr>\n",
       "      <th>freq</th>\n",
       "      <td>1782</td>\n",
       "      <td>1166</td>\n",
       "      <td>NaN</td>\n",
       "      <td>NaN</td>\n",
       "      <td>10559</td>\n",
       "      <td>17150</td>\n",
       "      <td>NaN</td>\n",
       "      <td>NaN</td>\n",
       "    </tr>\n",
       "    <tr>\n",
       "      <th>mean</th>\n",
       "      <td>NaN</td>\n",
       "      <td>NaN</td>\n",
       "      <td>2022-02-25 00:52:14.750019328</td>\n",
       "      <td>2022-02-25 00:13:20.818050048</td>\n",
       "      <td>NaN</td>\n",
       "      <td>NaN</td>\n",
       "      <td>23.398257</td>\n",
       "      <td>64.432844</td>\n",
       "    </tr>\n",
       "    <tr>\n",
       "      <th>min</th>\n",
       "      <td>NaN</td>\n",
       "      <td>NaN</td>\n",
       "      <td>2022-02-25 00:15:00</td>\n",
       "      <td>2022-02-25 00:00:00</td>\n",
       "      <td>NaN</td>\n",
       "      <td>NaN</td>\n",
       "      <td>7.000000</td>\n",
       "      <td>0.000000</td>\n",
       "    </tr>\n",
       "    <tr>\n",
       "      <th>25%</th>\n",
       "      <td>NaN</td>\n",
       "      <td>NaN</td>\n",
       "      <td>2022-02-25 00:32:00</td>\n",
       "      <td>2022-02-25 00:02:00</td>\n",
       "      <td>NaN</td>\n",
       "      <td>NaN</td>\n",
       "      <td>10.000000</td>\n",
       "      <td>55.000000</td>\n",
       "    </tr>\n",
       "    <tr>\n",
       "      <th>50%</th>\n",
       "      <td>NaN</td>\n",
       "      <td>NaN</td>\n",
       "      <td>2022-02-25 00:44:00</td>\n",
       "      <td>2022-02-25 00:06:00</td>\n",
       "      <td>NaN</td>\n",
       "      <td>NaN</td>\n",
       "      <td>18.000000</td>\n",
       "      <td>63.000000</td>\n",
       "    </tr>\n",
       "    <tr>\n",
       "      <th>75%</th>\n",
       "      <td>NaN</td>\n",
       "      <td>NaN</td>\n",
       "      <td>2022-02-25 01:04:00</td>\n",
       "      <td>2022-02-25 00:20:00</td>\n",
       "      <td>NaN</td>\n",
       "      <td>NaN</td>\n",
       "      <td>27.000000</td>\n",
       "      <td>74.000000</td>\n",
       "    </tr>\n",
       "    <tr>\n",
       "      <th>max</th>\n",
       "      <td>NaN</td>\n",
       "      <td>NaN</td>\n",
       "      <td>2022-02-25 13:58:00</td>\n",
       "      <td>2022-02-25 00:59:00</td>\n",
       "      <td>NaN</td>\n",
       "      <td>NaN</td>\n",
       "      <td>914.000000</td>\n",
       "      <td>116.000000</td>\n",
       "    </tr>\n",
       "    <tr>\n",
       "      <th>std</th>\n",
       "      <td>NaN</td>\n",
       "      <td>NaN</td>\n",
       "      <td>NaN</td>\n",
       "      <td>NaN</td>\n",
       "      <td>NaN</td>\n",
       "      <td>NaN</td>\n",
       "      <td>24.646829</td>\n",
       "      <td>12.259072</td>\n",
       "    </tr>\n",
       "  </tbody>\n",
       "</table>\n",
       "</div>"
      ],
      "text/plain": [
       "       Dispositivo            Nombre_Comp         Duración de conducción  \\\n",
       "count        26282                  26282                          26282   \n",
       "unique          74                    113                            NaN   \n",
       "top       FV040856  ponce serrano abraham                            NaN   \n",
       "freq          1782                   1166                            NaN   \n",
       "mean           NaN                    NaN  2022-02-25 00:52:14.750019328   \n",
       "min            NaN                    NaN            2022-02-25 00:15:00   \n",
       "25%            NaN                    NaN            2022-02-25 00:32:00   \n",
       "50%            NaN                    NaN            2022-02-25 00:44:00   \n",
       "75%            NaN                    NaN            2022-02-25 01:04:00   \n",
       "max            NaN                    NaN            2022-02-25 13:58:00   \n",
       "std            NaN                    NaN                            NaN   \n",
       "\n",
       "                Duración de la parada                            Ubicación  \\\n",
       "count                           26282                                26282   \n",
       "unique                            NaN                                   64   \n",
       "top                               NaN  [BMA, PTA, AZCAPOTZALCO, BMA, CDMX]   \n",
       "freq                              NaN                                10559   \n",
       "mean    2022-02-25 00:13:20.818050048                                  NaN   \n",
       "min               2022-02-25 00:00:00                                  NaN   \n",
       "25%               2022-02-25 00:02:00                                  NaN   \n",
       "50%               2022-02-25 00:06:00                                  NaN   \n",
       "75%               2022-02-25 00:20:00                                  NaN   \n",
       "max               2022-02-25 00:59:00                                  NaN   \n",
       "std                               NaN                                  NaN   \n",
       "\n",
       "       Tipos de zonas de parada     Distancia  Velocidad máxima  \n",
       "count                     26282  26282.000000      26282.000000  \n",
       "unique                        4           NaN               NaN  \n",
       "top             PLANTAS y CEDIS           NaN               NaN  \n",
       "freq                      17150           NaN               NaN  \n",
       "mean                        NaN     23.398257         64.432844  \n",
       "min                         NaN      7.000000          0.000000  \n",
       "25%                         NaN     10.000000         55.000000  \n",
       "50%                         NaN     18.000000         63.000000  \n",
       "75%                         NaN     27.000000         74.000000  \n",
       "max                         NaN    914.000000        116.000000  \n",
       "std                         NaN     24.646829         12.259072  "
      ]
     },
     "execution_count": 342,
     "metadata": {},
     "output_type": "execute_result"
    }
   ],
   "source": [
    "df.describe(include='all',datetime_is_numeric=True)"
   ]
  },
  {
   "cell_type": "code",
   "execution_count": 343,
   "metadata": {},
   "outputs": [
    {
     "name": "stdout",
     "output_type": "stream",
     "text": [
      "<class 'pandas.core.frame.DataFrame'>\n",
      "Int64Index: 26282 entries, 25 to 206516\n",
      "Data columns (total 8 columns):\n",
      " #   Column                    Non-Null Count  Dtype         \n",
      "---  ------                    --------------  -----         \n",
      " 0   Dispositivo               26282 non-null  object        \n",
      " 1   Nombre_Comp               26282 non-null  object        \n",
      " 2   Duración de conducción    26282 non-null  datetime64[ns]\n",
      " 3   Duración de la parada     26282 non-null  datetime64[ns]\n",
      " 4   Ubicación                 26282 non-null  object        \n",
      " 5   Tipos de zonas de parada  26282 non-null  object        \n",
      " 6   Distancia                 26282 non-null  int64         \n",
      " 7   Velocidad máxima          26282 non-null  int64         \n",
      "dtypes: datetime64[ns](2), int64(2), object(4)\n",
      "memory usage: 1.8+ MB\n"
     ]
    }
   ],
   "source": [
    "df.info()"
   ]
  },
  {
   "cell_type": "markdown",
   "metadata": {
    "id": "gmWRfMZowzJg"
   },
   "source": [
    "## ANÁLISIS DE DATOS"
   ]
  },
  {
   "cell_type": "markdown",
   "metadata": {
    "id": "YbozOCH5wzJg"
   },
   "source": [
    "### DISPOSITIVO"
   ]
  },
  {
   "cell_type": "code",
   "execution_count": 449,
   "metadata": {},
   "outputs": [
    {
     "data": {
      "text/plain": [
       "74"
      ]
     },
     "execution_count": 449,
     "metadata": {},
     "output_type": "execute_result"
    }
   ],
   "source": [
    "len(df['Dispositivo'].unique())"
   ]
  },
  {
   "cell_type": "code",
   "execution_count": 344,
   "metadata": {
    "colab": {
     "base_uri": "https://localhost:8080/"
    },
    "id": "p9S-lw4pwzJg",
    "outputId": "67a13f91-5f50-4b5e-bbec-93c40f72d183"
   },
   "outputs": [
    {
     "data": {
      "text/plain": [
       "FV040856    1782\n",
       "FV040860    1748\n",
       "FV040850    1442\n",
       "FV040849    1428\n",
       "FV040868    1364\n",
       "FV040853    1267\n",
       "FV054993    1090\n",
       "FV040861    1079\n",
       "FV040859    1068\n",
       "FV040854    1026\n",
       "FV054990     641\n",
       "FV040851     605\n",
       "FV054995     585\n",
       "FV054982     548\n",
       "FV054979     507\n",
       "FV054983     504\n",
       "FV054160     463\n",
       "FV054989     440\n",
       "FV054134     434\n",
       "FV054980     431\n",
       "Name: Dispositivo, dtype: int64"
      ]
     },
     "execution_count": 344,
     "metadata": {},
     "output_type": "execute_result"
    }
   ],
   "source": [
    "# los 20 tractores con más registros\n",
    "df['Dispositivo'].value_counts().head(20)"
   ]
  },
  {
   "cell_type": "code",
   "execution_count": 345,
   "metadata": {
    "colab": {
     "base_uri": "https://localhost:8080/",
     "height": 415
    },
    "id": "DSOBTiadwzJh",
    "outputId": "863a45be-965c-4287-8d98-9437e97ee683"
   },
   "outputs": [
    {
     "data": {
      "image/png": "[encoded data removed]",
      "text/plain": [
       "<Figure size 720x432 with 1 Axes>"
      ]
     },
     "metadata": {},
     "output_type": "display_data"
    }
   ],
   "source": [
    "df['Dispositivo'].value_counts().sort_values(ascending=False).head(20).plot.bar(figsize = (10,6));"
   ]
  },
  {
   "cell_type": "code",
   "execution_count": 346,
   "metadata": {
    "colab": {
     "base_uri": "https://localhost:8080/"
    },
    "id": "CFbl7cu0wzJh",
    "outputId": "6073a042-163b-446b-8b67-ef937b45160a"
   },
   "outputs": [
    {
     "data": {
      "text/plain": [
       "FV054997    33\n",
       "FV055547    32\n",
       "FV023819    31\n",
       "FV055556    30\n",
       "FV054991    29\n",
       "FV031119    29\n",
       "FV054162    24\n",
       "FV055549    24\n",
       "FV055553    23\n",
       "FV022837    20\n",
       "FV055558    20\n",
       "FV055541    19\n",
       "FV055559    18\n",
       "FV055548    17\n",
       "FV023795    17\n",
       "FV054998    16\n",
       "FV055542    15\n",
       "FV022051     6\n",
       "FV055545     2\n",
       "FV054135     1\n",
       "Name: Dispositivo, dtype: int64"
      ]
     },
     "execution_count": 346,
     "metadata": {},
     "output_type": "execute_result"
    }
   ],
   "source": [
    "# los 20 tractores con menos registros\n",
    "df['Dispositivo'].value_counts().tail(20)"
   ]
  },
  {
   "cell_type": "code",
   "execution_count": 347,
   "metadata": {
    "colab": {
     "base_uri": "https://localhost:8080/",
     "height": 415
    },
    "id": "qPW-VVVzwzJh",
    "outputId": "aa303b97-ed05-45f7-fe71-500cfc116d0d"
   },
   "outputs": [
    {
     "data": {
      "image/png": "[encoded data removed]",
      "text/plain": [
       "<Figure size 720x432 with 1 Axes>"
      ]
     },
     "metadata": {},
     "output_type": "display_data"
    }
   ],
   "source": [
    "df['Dispositivo'].value_counts().sort_values(ascending=False).tail(20).plot.bar(figsize = (10,6));"
   ]
  },
  {
   "cell_type": "markdown",
   "metadata": {
    "id": "Vsv9cUnmwzJh"
   },
   "source": [
    "### NOMBRE DEL OPERADOR"
   ]
  },
  {
   "cell_type": "code",
   "execution_count": 450,
   "metadata": {},
   "outputs": [
    {
     "data": {
      "text/plain": [
       "113"
      ]
     },
     "execution_count": 450,
     "metadata": {},
     "output_type": "execute_result"
    }
   ],
   "source": [
    "len(df['Nombre_Comp'].unique())"
   ]
  },
  {
   "cell_type": "code",
   "execution_count": 348,
   "metadata": {
    "colab": {
     "base_uri": "https://localhost:8080/"
    },
    "id": "87VVX6ESwzJh",
    "outputId": "95c2a1ff-4503-4b40-939e-1b0c74df9e63"
   },
   "outputs": [
    {
     "data": {
      "text/plain": [
       "ponce serrano abraham               1166\n",
       "pablo adrian ramirez exiga          1130\n",
       "solano lopez jorge alberto           901\n",
       "sanchez andres lucas erasto          884\n",
       "perez hernandez gerardo              824\n",
       "munoz oviedo isaias                  786\n",
       "de la cruz marin vicente dt          781\n",
       "caballero castaneda jesus cirilo     731\n",
       "oscarr luna tapia                    661\n",
       "gonzalez gonzalez jose guadalupe     645\n",
       "ramirez barrera rodrigo              599\n",
       "gonzalez ortega luis angel           591\n",
       "arcos arias armando                  582\n",
       "martinez ramirez rodolfo             543\n",
       "aguilar banuelos jose felix          542\n",
       "angel giovanni hernandez trejo       514\n",
       "lopez sanchez felipe                 489\n",
       "malaga dominguez victor manuel       459\n",
       "hernandez perez alejandro            446\n",
       "adolfo rafael santiago marquina      438\n",
       "Name: Nombre_Comp, dtype: int64"
      ]
     },
     "execution_count": 348,
     "metadata": {},
     "output_type": "execute_result"
    }
   ],
   "source": [
    "# los 20 operadores con más registros\n",
    "df['Nombre_Comp'].value_counts().head(20)"
   ]
  },
  {
   "cell_type": "code",
   "execution_count": 349,
   "metadata": {
    "colab": {
     "base_uri": "https://localhost:8080/",
     "height": 537
    },
    "id": "a15WjreZwzJi",
    "outputId": "e9a8fcfb-b16e-402d-aa54-364f7ea4d67c"
   },
   "outputs": [
    {
     "data": {
      "image/png": "[encoded data removed]",
      "text/plain": [
       "<Figure size 720x432 with 1 Axes>"
      ]
     },
     "metadata": {},
     "output_type": "display_data"
    }
   ],
   "source": [
    "df['Nombre_Comp'].value_counts().sort_values(ascending=False).head(20).plot.bar(figsize = (10,6));"
   ]
  },
  {
   "cell_type": "code",
   "execution_count": 350,
   "metadata": {
    "colab": {
     "base_uri": "https://localhost:8080/"
    },
    "id": "ZpnVuXoZwzJi",
    "outputId": "4a2be16f-3afb-42ef-df15-4dce811054c1"
   },
   "outputs": [
    {
     "data": {
      "text/plain": [
       "tirado morales ulises               16\n",
       "robles figueroa ricardo             14\n",
       "munguia victoria francisco          11\n",
       "guillen rojas samuel                 7\n",
       "santiago salazar miguel              7\n",
       "martinez marcial rafael              5\n",
       "munoz trejo bernardo                 4\n",
       "alvaro tadeoromualdo apolonio        4\n",
       "sanchez vega benito omar             4\n",
       "alvarez cruz guillermo               4\n",
       "gerardobonilla bribiesca             3\n",
       "lopez rosales humberto               3\n",
       "juan baez tellez                     2\n",
       "ramon hernandez muñoz                2\n",
       "becerril rivas marco antonio         1\n",
       "morales zuniga alonso                1\n",
       "gabielgarcia cruz                    1\n",
       "rolandopenagos hernandez             1\n",
       "victor manuelde santiago aguilar     1\n",
       "abraham juarez briceño               1\n",
       "Name: Nombre_Comp, dtype: int64"
      ]
     },
     "execution_count": 350,
     "metadata": {},
     "output_type": "execute_result"
    }
   ],
   "source": [
    "# los 20 operadores con menos registros\n",
    "df['Nombre_Comp'].value_counts().tail(20)"
   ]
  },
  {
   "cell_type": "code",
   "execution_count": 351,
   "metadata": {
    "colab": {
     "base_uri": "https://localhost:8080/",
     "height": 530
    },
    "id": "dxyruHkBwzJi",
    "outputId": "162e00bf-0d7b-41f5-c385-1d843e1ee6db"
   },
   "outputs": [
    {
     "data": {
      "image/png": "[encoded data removed]",
      "text/plain": [
       "<Figure size 720x432 with 1 Axes>"
      ]
     },
     "metadata": {},
     "output_type": "display_data"
    }
   ],
   "source": [
    "df['Nombre_Comp'].value_counts().sort_values(ascending=False).tail(20).plot.bar(figsize = (10,6));"
   ]
  },
  {
   "cell_type": "markdown",
   "metadata": {
    "id": "Zzalt-c5wzJi"
   },
   "source": [
    "### DURACIÓN DE CONDUCCIÓN"
   ]
  },
  {
   "cell_type": "code",
   "execution_count": 352,
   "metadata": {
    "colab": {
     "base_uri": "https://localhost:8080/"
    },
    "id": "fItkurbgwzJi",
    "outputId": "3acb0785-8acf-4d0f-a5a6-4d2dae3597b9"
   },
   "outputs": [
    {
     "data": {
      "text/plain": [
       "count                   26282\n",
       "unique                    254\n",
       "top       2022-02-25 00:29:00\n",
       "freq                      627\n",
       "first     2022-02-25 00:15:00\n",
       "last      2022-02-25 13:58:00\n",
       "Name: Duración de conducción, dtype: object"
      ]
     },
     "execution_count": 352,
     "metadata": {},
     "output_type": "execute_result"
    }
   ],
   "source": [
    "df['Duración de conducción'].describe()"
   ]
  },
  {
   "cell_type": "code",
   "execution_count": 353,
   "metadata": {},
   "outputs": [
    {
     "data": {
      "image/png": "[encoded data removed]",
      "text/plain": [
       "<Figure size 720x432 with 1 Axes>"
      ]
     },
     "metadata": {},
     "output_type": "display_data"
    }
   ],
   "source": [
    "df['Duración de conducción'].plot(figsize=(10,6));"
   ]
  },
  {
   "cell_type": "code",
   "execution_count": 354,
   "metadata": {},
   "outputs": [
    {
     "data": {
      "image/png": "[encoded data removed]",
      "text/plain": [
       "<Figure size 720x432 with 1 Axes>"
      ]
     },
     "metadata": {},
     "output_type": "display_data"
    }
   ],
   "source": [
    "df['Duración de conducción'].hist(figsize=(10,6),bins=45);"
   ]
  },
  {
   "cell_type": "code",
   "execution_count": 355,
   "metadata": {
    "colab": {
     "base_uri": "https://localhost:8080/"
    },
    "id": "RYl-SR3LwzJj",
    "outputId": "8143a362-465c-494f-cf79-6a1544ed9353"
   },
   "outputs": [
    {
     "data": {
      "text/plain": [
       "2022-02-25 00:29:00    627\n",
       "2022-02-25 00:34:00    616\n",
       "2022-02-25 00:32:00    603\n",
       "2022-02-25 00:31:00    598\n",
       "2022-02-25 00:30:00    595\n",
       "2022-02-25 00:33:00    589\n",
       "2022-02-25 00:35:00    575\n",
       "2022-02-25 00:27:00    569\n",
       "2022-02-25 00:38:00    558\n",
       "2022-02-25 00:26:00    552\n",
       "2022-02-25 00:37:00    547\n",
       "2022-02-25 00:28:00    546\n",
       "2022-02-25 00:39:00    538\n",
       "2022-02-25 00:36:00    534\n",
       "2022-02-25 00:42:00    519\n",
       "2022-02-25 00:44:00    518\n",
       "2022-02-25 00:40:00    518\n",
       "2022-02-25 00:41:00    508\n",
       "2022-02-25 00:25:00    471\n",
       "2022-02-25 00:45:00    460\n",
       "Name: Duración de conducción, dtype: int64"
      ]
     },
     "execution_count": 355,
     "metadata": {},
     "output_type": "execute_result"
    }
   ],
   "source": [
    "# las 20 duraciones de tiempo más registradas\n",
    "df['Duración de conducción'].value_counts().head(20)"
   ]
  },
  {
   "cell_type": "code",
   "execution_count": 356,
   "metadata": {
    "colab": {
     "base_uri": "https://localhost:8080/",
     "height": 469
    },
    "id": "yMNfZkA3wzJj",
    "outputId": "d577c0aa-3f99-4496-b958-493fa146c4ef"
   },
   "outputs": [
    {
     "data": {
      "image/png": "[encoded data removed]",
      "text/plain": [
       "<Figure size 720x432 with 1 Axes>"
      ]
     },
     "metadata": {},
     "output_type": "display_data"
    }
   ],
   "source": [
    "df['Duración de conducción'].value_counts().sort_values(ascending=False).head(20).plot.bar(figsize = (10,6));"
   ]
  },
  {
   "cell_type": "code",
   "execution_count": 357,
   "metadata": {
    "colab": {
     "base_uri": "https://localhost:8080/"
    },
    "id": "on8XqVxFwzJj",
    "outputId": "6cfebb53-f179-42fc-d3e3-b7d847a5446d"
   },
   "outputs": [
    {
     "data": {
      "text/plain": [
       "2022-02-25 04:52:00    1\n",
       "2022-02-25 04:21:00    1\n",
       "2022-02-25 04:22:00    1\n",
       "2022-02-25 06:11:00    1\n",
       "2022-02-25 04:10:00    1\n",
       "2022-02-25 08:05:00    1\n",
       "2022-02-25 06:59:00    1\n",
       "2022-02-25 03:08:00    1\n",
       "2022-02-25 08:14:00    1\n",
       "2022-02-25 04:53:00    1\n",
       "2022-02-25 05:54:00    1\n",
       "2022-02-25 03:45:00    1\n",
       "2022-02-25 04:47:00    1\n",
       "2022-02-25 07:26:00    1\n",
       "2022-02-25 02:44:00    1\n",
       "2022-02-25 03:31:00    1\n",
       "2022-02-25 12:56:00    1\n",
       "2022-02-25 13:58:00    1\n",
       "2022-02-25 03:46:00    1\n",
       "2022-02-25 05:43:00    1\n",
       "Name: Duración de conducción, dtype: int64"
      ]
     },
     "execution_count": 357,
     "metadata": {},
     "output_type": "execute_result"
    }
   ],
   "source": [
    "# las 20 duraciones de tiempo menos registradas\n",
    "df['Duración de conducción'].value_counts().tail(20)"
   ]
  },
  {
   "cell_type": "markdown",
   "metadata": {
    "id": "IKJosganwzJj"
   },
   "source": [
    "### DURACIÓN DE LA PARADA"
   ]
  },
  {
   "cell_type": "code",
   "execution_count": 358,
   "metadata": {
    "colab": {
     "base_uri": "https://localhost:8080/"
    },
    "id": "qEAf7YsUwzJk",
    "outputId": "10eb0068-dda7-44dd-89a5-83f1cc3b3189"
   },
   "outputs": [
    {
     "data": {
      "text/plain": [
       "count                   26282\n",
       "unique                     60\n",
       "top       2022-02-25 00:01:00\n",
       "freq                     3526\n",
       "first     2022-02-25 00:00:00\n",
       "last      2022-02-25 00:59:00\n",
       "Name: Duración de la parada, dtype: object"
      ]
     },
     "execution_count": 358,
     "metadata": {},
     "output_type": "execute_result"
    }
   ],
   "source": [
    "df['Duración de la parada'].describe()"
   ]
  },
  {
   "cell_type": "code",
   "execution_count": 359,
   "metadata": {},
   "outputs": [
    {
     "data": {
      "image/png": "[encoded data removed]",
      "text/plain": [
       "<Figure size 720x432 with 1 Axes>"
      ]
     },
     "metadata": {},
     "output_type": "display_data"
    }
   ],
   "source": [
    "df['Duración de la parada'].plot(figsize=(10,6));"
   ]
  },
  {
   "cell_type": "code",
   "execution_count": 360,
   "metadata": {},
   "outputs": [
    {
     "data": {
      "image/png": "[encoded data removed]",
      "text/plain": [
       "<Figure size 720x432 with 1 Axes>"
      ]
     },
     "metadata": {},
     "output_type": "display_data"
    }
   ],
   "source": [
    "df['Duración de la parada'].hist(figsize=(10,6),bins=30);"
   ]
  },
  {
   "cell_type": "code",
   "execution_count": 361,
   "metadata": {
    "colab": {
     "base_uri": "https://localhost:8080/"
    },
    "id": "mTlA3HIOwzJk",
    "outputId": "0b0722a4-0b8b-45ed-93b9-27ba90c37ff0"
   },
   "outputs": [
    {
     "data": {
      "text/plain": [
       "2022-02-25 00:01:00    3526\n",
       "2022-02-25 00:03:00    3074\n",
       "2022-02-25 00:02:00    2812\n",
       "2022-02-25 00:04:00    1675\n",
       "2022-02-25 00:05:00    1149\n",
       "2022-02-25 00:06:00    1018\n",
       "2022-02-25 00:00:00     782\n",
       "2022-02-25 00:07:00     643\n",
       "2022-02-25 00:08:00     631\n",
       "2022-02-25 00:09:00     512\n",
       "2022-02-25 00:10:00     489\n",
       "2022-02-25 00:11:00     453\n",
       "2022-02-25 00:12:00     364\n",
       "2022-02-25 00:16:00     363\n",
       "2022-02-25 00:13:00     354\n",
       "2022-02-25 00:14:00     351\n",
       "2022-02-25 00:15:00     336\n",
       "2022-02-25 00:17:00     316\n",
       "2022-02-25 00:20:00     300\n",
       "2022-02-25 00:18:00     297\n",
       "Name: Duración de la parada, dtype: int64"
      ]
     },
     "execution_count": 361,
     "metadata": {},
     "output_type": "execute_result"
    }
   ],
   "source": [
    "# las 20 duraciones de tiempo más registradas\n",
    "df['Duración de la parada'].value_counts().head(20)"
   ]
  },
  {
   "cell_type": "code",
   "execution_count": 362,
   "metadata": {
    "colab": {
     "base_uri": "https://localhost:8080/",
     "height": 469
    },
    "id": "BG3B-ocewzJk",
    "outputId": "cdd5c5ed-6e27-4028-bd7a-2db85392bd82"
   },
   "outputs": [
    {
     "data": {
      "image/png": "[encoded data removed]",
      "text/plain": [
       "<Figure size 720x432 with 1 Axes>"
      ]
     },
     "metadata": {},
     "output_type": "display_data"
    }
   ],
   "source": [
    "df['Duración de la parada'].value_counts().sort_values(ascending=False).head(20).plot.bar(figsize = (10,6));"
   ]
  },
  {
   "cell_type": "code",
   "execution_count": 363,
   "metadata": {
    "colab": {
     "base_uri": "https://localhost:8080/"
    },
    "id": "4dO3DWIYwzJl",
    "outputId": "8b0fd77b-f9f7-428e-8b56-e6247e2223f8"
   },
   "outputs": [
    {
     "data": {
      "text/plain": [
       "2022-02-25 00:45:00    157\n",
       "2022-02-25 00:41:00    153\n",
       "2022-02-25 00:48:00    153\n",
       "2022-02-25 00:38:00    148\n",
       "2022-02-25 00:47:00    141\n",
       "2022-02-25 00:42:00    139\n",
       "2022-02-25 00:46:00    135\n",
       "2022-02-25 00:44:00    134\n",
       "2022-02-25 00:50:00    133\n",
       "2022-02-25 00:52:00    132\n",
       "2022-02-25 00:51:00    131\n",
       "2022-02-25 00:57:00    125\n",
       "2022-02-25 00:58:00    121\n",
       "2022-02-25 00:49:00    120\n",
       "2022-02-25 00:43:00    119\n",
       "2022-02-25 00:56:00    115\n",
       "2022-02-25 00:53:00    114\n",
       "2022-02-25 00:59:00    111\n",
       "2022-02-25 00:54:00    107\n",
       "2022-02-25 00:55:00    106\n",
       "Name: Duración de la parada, dtype: int64"
      ]
     },
     "execution_count": 363,
     "metadata": {},
     "output_type": "execute_result"
    }
   ],
   "source": [
    "# las 20 duraciones de tiempo menos registradas\n",
    "df['Duración de la parada'].value_counts().tail(20)"
   ]
  },
  {
   "cell_type": "code",
   "execution_count": 364,
   "metadata": {
    "colab": {
     "base_uri": "https://localhost:8080/",
     "height": 469
    },
    "id": "Pbm8Hfn_wzJm",
    "outputId": "70ac7874-4cec-4ee1-bbe6-c8bd6b88a29c"
   },
   "outputs": [
    {
     "data": {
      "image/png": "[encoded data removed]",
      "text/plain": [
       "<Figure size 720x432 with 1 Axes>"
      ]
     },
     "metadata": {},
     "output_type": "display_data"
    }
   ],
   "source": [
    "df['Duración de la parada'].value_counts().sort_values(ascending=False).tail(20).plot.bar(figsize = (10,6));"
   ]
  },
  {
   "cell_type": "markdown",
   "metadata": {
    "id": "o5XzKHovwzJm"
   },
   "source": [
    "### UBICACIÓN"
   ]
  },
  {
   "cell_type": "code",
   "execution_count": 365,
   "metadata": {
    "colab": {
     "base_uri": "https://localhost:8080/",
     "height": 604
    },
    "id": "ZXkxl2BvwzJm",
    "outputId": "baf4871b-802c-4abc-f7dd-5036a22f1a1b"
   },
   "outputs": [
    {
     "ename": "TypeError",
     "evalue": "unhashable type: 'list'",
     "output_type": "error",
     "traceback": [
      "\u001b[0;31m---------------------------------------------------------------------------\u001b[0m",
      "\u001b[0;31mTypeError\u001b[0m                                 Traceback (most recent call last)",
      "\u001b[0;32mpandas/_libs/hashtable_class_helper.pxi\u001b[0m in \u001b[0;36mpandas._libs.hashtable.PyObjectHashTable.map_locations\u001b[0;34m()\u001b[0m\n",
      "\u001b[0;31mTypeError\u001b[0m: unhashable type: 'list'"
     ]
    },
    {
     "name": "stderr",
     "output_type": "stream",
     "text": [
      "Exception ignored in: 'pandas._libs.index.IndexEngine._call_map_locations'\n",
      "Traceback (most recent call last):\n",
      "  File \"pandas/_libs/hashtable_class_helper.pxi\", line 5231, in pandas._libs.hashtable.PyObjectHashTable.map_locations\n",
      "TypeError: unhashable type: 'list'\n"
     ]
    },
    {
     "data": {
      "text/plain": [
       "[BMA, PTA, AZCAPOTZALCO, BMA, CDMX]    10559\n",
       "[BMS, PTA, STA, MARIA, BSM, CDMX]       4893\n",
       "[CEVE, IZTAPALAPA, CDMX]                1010\n",
       "[CEVE, NAUCALPAN]                        909\n",
       "[CDS, SAN, ANTONIO, CDMX]                725\n",
       "[CEVE, TULTITLAN]                        665\n",
       "[CEVE, CENTENARIO, CDMX]                 562\n",
       "[CEVE, XALOSTOC]                         446\n",
       "[CDM, CDS, METROPOLITANO, CDMX]          410\n",
       "[CEVE, SAN, JUAN]                        393\n",
       "[CEVE, ATIZAPAN]                         385\n",
       "[CDS, STA, CLARA]                        371\n",
       "[CEVE, SAN, LORENZO, CDMX]               331\n",
       "[CEVE, TEPOTZOTLAN]                      322\n",
       "[CEVE, CUAUTITLAN]                       272\n",
       "[CEVE, STA, CLARA]                       269\n",
       "[CEVE, COACALCO]                         263\n",
       "[CEVE, VILLA, CDMX]                      257\n",
       "[CEVE, ROJO, GOMEZ, CDMX]                250\n",
       "[CEVE, LOS, REYES]                       247\n",
       "Name: Ubicación, dtype: int64"
      ]
     },
     "execution_count": 365,
     "metadata": {},
     "output_type": "execute_result"
    }
   ],
   "source": [
    "# las 20 ubicaciones más registradas\n",
    "df['Ubicación'].value_counts().head(20)"
   ]
  },
  {
   "cell_type": "code",
   "execution_count": 366,
   "metadata": {
    "colab": {
     "base_uri": "https://localhost:8080/",
     "height": 374
    },
    "id": "UxtM9GxlwzJm",
    "outputId": "abda64a1-f566-4705-e9e5-512d40971c7e"
   },
   "outputs": [
    {
     "data": {
      "image/png": "[encoded data removed]",
      "text/plain": [
       "<Figure size 720x432 with 1 Axes>"
      ]
     },
     "metadata": {},
     "output_type": "display_data"
    }
   ],
   "source": [
    "df['Ubicación'].value_counts().sort_values(ascending=False).head(20).plot.barh(figsize = (10,6));"
   ]
  },
  {
   "cell_type": "code",
   "execution_count": 367,
   "metadata": {
    "colab": {
     "base_uri": "https://localhost:8080/",
     "height": 604
    },
    "id": "35hss521wzJm",
    "outputId": "4569db4a-a389-451b-efef-87184e8cc789"
   },
   "outputs": [
    {
     "ename": "TypeError",
     "evalue": "unhashable type: 'list'",
     "output_type": "error",
     "traceback": [
      "\u001b[0;31m---------------------------------------------------------------------------\u001b[0m",
      "\u001b[0;31mTypeError\u001b[0m                                 Traceback (most recent call last)",
      "\u001b[0;32mpandas/_libs/hashtable_class_helper.pxi\u001b[0m in \u001b[0;36mpandas._libs.hashtable.PyObjectHashTable.map_locations\u001b[0;34m()\u001b[0m\n",
      "\u001b[0;31mTypeError\u001b[0m: unhashable type: 'list'"
     ]
    },
    {
     "name": "stderr",
     "output_type": "stream",
     "text": [
      "Exception ignored in: 'pandas._libs.index.IndexEngine._call_map_locations'\n",
      "Traceback (most recent call last):\n",
      "  File \"pandas/_libs/hashtable_class_helper.pxi\", line 5231, in pandas._libs.hashtable.PyObjectHashTable.map_locations\n",
      "TypeError: unhashable type: 'list'\n"
     ]
    },
    {
     "data": {
      "text/plain": [
       "[PTA, TOLUCA, III, SUANDY]                14\n",
       "[PTA, IRAPUATO]                            6\n",
       "[BLM, PTA, LERMA, BLM]                     5\n",
       "[CDS, TULTIPARK]                           4\n",
       "[CEVE, SAN, JUAN, CDMX]                    3\n",
       "[ABX, CDS, ABASTEX, ABX, CAX]              3\n",
       "[PTA, MONTERREY]                           3\n",
       "[CDC, CDS, CUAUTITLAN, CDC]                3\n",
       "[PTA, GABI]                                3\n",
       "[BMS, PTA, STA, MARIA, BSM, BIS, CDMX]     2\n",
       "[AXIS, AXIOLONG]                           2\n",
       "[CEVE, TULTITLAN, JVR]                     1\n",
       "[CEVE, TULTITLAN, III]                     1\n",
       "[BOII, PTA, GUADALAJARA]                   1\n",
       "[CEVE, TOLUCA, CENTRO]                     1\n",
       "[PTA, MONTERREY, BODEGA]                   1\n",
       "[CDMX]                                     1\n",
       "[PTA, MODERNA]                             1\n",
       "[CEVE, TOLUCA, AEROPUERTO]                 1\n",
       "[PTA, HAZPAN]                              1\n",
       "Name: Ubicación, dtype: int64"
      ]
     },
     "execution_count": 367,
     "metadata": {},
     "output_type": "execute_result"
    }
   ],
   "source": [
    "# las 20 ubicaciones menos registradas\n",
    "df['Ubicación'].value_counts().tail(20)"
   ]
  },
  {
   "cell_type": "code",
   "execution_count": 368,
   "metadata": {
    "colab": {
     "base_uri": "https://localhost:8080/",
     "height": 374
    },
    "id": "93QgQyR3wzJm",
    "outputId": "b1a23bb8-c81d-4f90-83fa-ccf2a657a724"
   },
   "outputs": [
    {
     "data": {
      "image/png": "[encoded data removed]",
      "text/plain": [
       "<Figure size 720x432 with 1 Axes>"
      ]
     },
     "metadata": {},
     "output_type": "display_data"
    }
   ],
   "source": [
    "df['Ubicación'].value_counts().sort_values(ascending=False).tail(20).plot.barh(figsize = (10,6));"
   ]
  },
  {
   "cell_type": "markdown",
   "metadata": {
    "id": "BVxiuCH0wzJn"
   },
   "source": [
    "### TIPOS DE ZONAS DE PARADA"
   ]
  },
  {
   "cell_type": "code",
   "execution_count": 369,
   "metadata": {
    "colab": {
     "base_uri": "https://localhost:8080/"
    },
    "id": "ukUKstavwzJn",
    "outputId": "48040449-5409-4bec-ba0e-97306f11be0c"
   },
   "outputs": [
    {
     "data": {
      "text/plain": [
       "PLANTAS y CEDIS           17150\n",
       "CeVe                       7153\n",
       "CENTROS DE VENTA, CeVe     1516\n",
       "CeVe, delincuency           463\n",
       "Name: Tipos de zonas de parada, dtype: int64"
      ]
     },
     "execution_count": 369,
     "metadata": {},
     "output_type": "execute_result"
    }
   ],
   "source": [
    "# los tipos de zonas registradas\n",
    "df['Tipos de zonas de parada'].value_counts().head()"
   ]
  },
  {
   "cell_type": "code",
   "execution_count": 370,
   "metadata": {
    "colab": {
     "base_uri": "https://localhost:8080/",
     "height": 496
    },
    "id": "So9bPHlzwzJn",
    "outputId": "28e10bd0-7a8c-4a93-f7dd-8e350fb5a53b"
   },
   "outputs": [
    {
     "data": {
      "image/png": "[encoded data removed]",
      "text/plain": [
       "<Figure size 720x432 with 1 Axes>"
      ]
     },
     "metadata": {},
     "output_type": "display_data"
    }
   ],
   "source": [
    "df['Tipos de zonas de parada'].value_counts().sort_values(ascending=False).head(20).plot.bar(figsize = (10,6));"
   ]
  },
  {
   "cell_type": "markdown",
   "metadata": {
    "id": "Z8HgW4mAwzJn"
   },
   "source": [
    "### DISTANCIA"
   ]
  },
  {
   "cell_type": "code",
   "execution_count": 377,
   "metadata": {
    "colab": {
     "base_uri": "https://localhost:8080/"
    },
    "id": "CDbKPFWGwzJn",
    "outputId": "d6de727c-3604-4802-bfb2-e3c51ec09471",
    "scrolled": true
   },
   "outputs": [
    {
     "data": {
      "text/plain": [
       "count    26282.000000\n",
       "mean        23.398257\n",
       "std         24.646829\n",
       "min          7.000000\n",
       "25%         10.000000\n",
       "50%         18.000000\n",
       "75%         27.000000\n",
       "max        914.000000\n",
       "Name: Distancia, dtype: float64"
      ]
     },
     "execution_count": 377,
     "metadata": {},
     "output_type": "execute_result"
    }
   ],
   "source": [
    "df['Distancia'].describe()"
   ]
  },
  {
   "cell_type": "code",
   "execution_count": 378,
   "metadata": {
    "colab": {
     "base_uri": "https://localhost:8080/",
     "height": 374
    },
    "id": "mU_WTpdLwzJn",
    "outputId": "7aa090c3-cb96-4526-9483-eee1243daa84",
    "scrolled": true
   },
   "outputs": [
    {
     "data": {
      "image/png": "[encoded data removed]",
      "text/plain": [
       "<Figure size 720x432 with 1 Axes>"
      ]
     },
     "metadata": {},
     "output_type": "display_data"
    }
   ],
   "source": [
    "df['Distancia'].plot(figsize=(10,6));"
   ]
  },
  {
   "cell_type": "code",
   "execution_count": 379,
   "metadata": {
    "colab": {
     "base_uri": "https://localhost:8080/",
     "height": 374
    },
    "id": "iXPZMjRDwzJn",
    "outputId": "c9638a66-5e80-4611-d502-494429f2d793"
   },
   "outputs": [
    {
     "data": {
      "image/png": "[encoded data removed]",
      "text/plain": [
       "<Figure size 720x432 with 1 Axes>"
      ]
     },
     "metadata": {},
     "output_type": "display_data"
    }
   ],
   "source": [
    "df['Distancia'].hist(figsize=(10,6),bins=100);"
   ]
  },
  {
   "cell_type": "code",
   "execution_count": 380,
   "metadata": {
    "colab": {
     "base_uri": "https://localhost:8080/",
     "height": 395
    },
    "id": "r1fAk7DGwzJn",
    "outputId": "08605b3d-718a-42aa-8f01-3c97e2291db7"
   },
   "outputs": [
    {
     "data": {
      "text/plain": [
       "<AxesSubplot:>"
      ]
     },
     "execution_count": 380,
     "metadata": {},
     "output_type": "execute_result"
    },
    {
     "data": {
      "image/png": "[encoded data removed]",
      "text/plain": [
       "<Figure size 720x432 with 1 Axes>"
      ]
     },
     "metadata": {},
     "output_type": "display_data"
    }
   ],
   "source": [
    "sns.set()\n",
    "df['Distancia'].plot.box(figsize=(10,6))"
   ]
  },
  {
   "cell_type": "code",
   "execution_count": 381,
   "metadata": {
    "colab": {
     "base_uri": "https://localhost:8080/",
     "height": 208
    },
    "id": "uQ0gSwSUwzJo",
    "outputId": "51f3dcb6-8056-4fc3-e645-8df58de8b91d"
   },
   "outputs": [
    {
     "data": {
      "text/html": [
       "<div>\n",
       "<style scoped>\n",
       "    .dataframe tbody tr th:only-of-type {\n",
       "        vertical-align: middle;\n",
       "    }\n",
       "\n",
       "    .dataframe tbody tr th {\n",
       "        vertical-align: top;\n",
       "    }\n",
       "\n",
       "    .dataframe thead th {\n",
       "        text-align: right;\n",
       "    }\n",
       "</style>\n",
       "<table border=\"1\" class=\"dataframe\">\n",
       "  <thead>\n",
       "    <tr style=\"text-align: right;\">\n",
       "      <th></th>\n",
       "      <th>Dispositivo</th>\n",
       "      <th>Nombre_Comp</th>\n",
       "      <th>Duración de conducción</th>\n",
       "      <th>Duración de la parada</th>\n",
       "      <th>Ubicación</th>\n",
       "      <th>Tipos de zonas de parada</th>\n",
       "      <th>Distancia</th>\n",
       "      <th>Velocidad máxima</th>\n",
       "    </tr>\n",
       "  </thead>\n",
       "  <tbody>\n",
       "    <tr>\n",
       "      <th>128219</th>\n",
       "      <td>FV023814</td>\n",
       "      <td>ortiz oropeza omar damian</td>\n",
       "      <td>2022-02-25 12:56:00</td>\n",
       "      <td>2022-02-25 00:17:00</td>\n",
       "      <td>[PTA, MONTERREY]</td>\n",
       "      <td>PLANTAS y CEDIS</td>\n",
       "      <td>914</td>\n",
       "      <td>88</td>\n",
       "    </tr>\n",
       "    <tr>\n",
       "      <th>128229</th>\n",
       "      <td>FV023814</td>\n",
       "      <td>ortiz oropeza omar damian</td>\n",
       "      <td>2022-02-25 13:58:00</td>\n",
       "      <td>2022-02-25 00:02:00</td>\n",
       "      <td>[BMA, PTA, AZCAPOTZALCO, BMA, CDMX]</td>\n",
       "      <td>PLANTAS y CEDIS</td>\n",
       "      <td>911</td>\n",
       "      <td>85</td>\n",
       "    </tr>\n",
       "  </tbody>\n",
       "</table>\n",
       "</div>"
      ],
      "text/plain": [
       "       Dispositivo                Nombre_Comp Duración de conducción  \\\n",
       "128219    FV023814  ortiz oropeza omar damian    2022-02-25 12:56:00   \n",
       "128229    FV023814  ortiz oropeza omar damian    2022-02-25 13:58:00   \n",
       "\n",
       "       Duración de la parada                            Ubicación  \\\n",
       "128219   2022-02-25 00:17:00                     [PTA, MONTERREY]   \n",
       "128229   2022-02-25 00:02:00  [BMA, PTA, AZCAPOTZALCO, BMA, CDMX]   \n",
       "\n",
       "       Tipos de zonas de parada  Distancia  Velocidad máxima  \n",
       "128219          PLANTAS y CEDIS        914                88  \n",
       "128229          PLANTAS y CEDIS        911                85  "
      ]
     },
     "execution_count": 381,
     "metadata": {},
     "output_type": "execute_result"
    }
   ],
   "source": [
    "df.query(\"(Distancia >= 500.0)\")"
   ]
  },
  {
   "cell_type": "markdown",
   "metadata": {
    "id": "MRhvYLyewzJo"
   },
   "source": [
    "### VELOCIDAD MÁXIMA"
   ]
  },
  {
   "cell_type": "code",
   "execution_count": 382,
   "metadata": {
    "colab": {
     "base_uri": "https://localhost:8080/"
    },
    "id": "sOOyGA4FwzJo",
    "outputId": "2e5c6c1d-fe3f-4557-b9f7-ef7007e7e8a3"
   },
   "outputs": [
    {
     "data": {
      "text/plain": [
       "count    26282.000000\n",
       "mean        64.432844\n",
       "std         12.259072\n",
       "min          0.000000\n",
       "25%         55.000000\n",
       "50%         63.000000\n",
       "75%         74.000000\n",
       "max        116.000000\n",
       "Name: Velocidad máxima, dtype: float64"
      ]
     },
     "execution_count": 382,
     "metadata": {},
     "output_type": "execute_result"
    }
   ],
   "source": [
    "df['Velocidad máxima'].describe()"
   ]
  },
  {
   "cell_type": "code",
   "execution_count": 383,
   "metadata": {
    "colab": {
     "base_uri": "https://localhost:8080/",
     "height": 377
    },
    "id": "zRXbTRa6wzJo",
    "outputId": "33401f0f-ac39-44c0-a81a-1a2e508498c0"
   },
   "outputs": [
    {
     "data": {
      "image/png": "[encoded data removed]",
      "text/plain": [
       "<Figure size 720x432 with 1 Axes>"
      ]
     },
     "metadata": {},
     "output_type": "display_data"
    }
   ],
   "source": [
    "df['Velocidad máxima'].plot(figsize=(10,6));"
   ]
  },
  {
   "cell_type": "code",
   "execution_count": 384,
   "metadata": {
    "colab": {
     "base_uri": "https://localhost:8080/",
     "height": 378
    },
    "id": "HvAquL6ewzJo",
    "outputId": "1c879c23-fbb0-421b-92cf-5fffd834ea1d"
   },
   "outputs": [
    {
     "data": {
      "image/png": "[encoded data removed]",
      "text/plain": [
       "<Figure size 720x432 with 1 Axes>"
      ]
     },
     "metadata": {},
     "output_type": "display_data"
    }
   ],
   "source": [
    "df['Velocidad máxima'].hist(figsize=(10,6),bins=62);"
   ]
  },
  {
   "cell_type": "code",
   "execution_count": 385,
   "metadata": {
    "colab": {
     "base_uri": "https://localhost:8080/",
     "height": 395
    },
    "id": "yN3eBbXfwzJo",
    "outputId": "46605030-ee17-4e03-c33b-bafa6bf82ec1"
   },
   "outputs": [
    {
     "data": {
      "text/plain": [
       "<AxesSubplot:>"
      ]
     },
     "execution_count": 385,
     "metadata": {},
     "output_type": "execute_result"
    },
    {
     "data": {
      "image/png": "[encoded data removed]",
      "text/plain": [
       "<Figure size 720x432 with 1 Axes>"
      ]
     },
     "metadata": {},
     "output_type": "display_data"
    }
   ],
   "source": [
    "sns.set()\n",
    "df['Velocidad máxima'].plot.box(figsize=(10,6))"
   ]
  },
  {
   "cell_type": "code",
   "execution_count": 386,
   "metadata": {
    "colab": {
     "base_uri": "https://localhost:8080/",
     "height": 466
    },
    "id": "H3SjeMhTwzJo",
    "outputId": "0c70569d-6388-4ca3-9118-0b77c356ed82"
   },
   "outputs": [
    {
     "data": {
      "text/html": [
       "<div>\n",
       "<style scoped>\n",
       "    .dataframe tbody tr th:only-of-type {\n",
       "        vertical-align: middle;\n",
       "    }\n",
       "\n",
       "    .dataframe tbody tr th {\n",
       "        vertical-align: top;\n",
       "    }\n",
       "\n",
       "    .dataframe thead th {\n",
       "        text-align: right;\n",
       "    }\n",
       "</style>\n",
       "<table border=\"1\" class=\"dataframe\">\n",
       "  <thead>\n",
       "    <tr style=\"text-align: right;\">\n",
       "      <th></th>\n",
       "      <th>Dispositivo</th>\n",
       "      <th>Nombre_Comp</th>\n",
       "      <th>Duración de conducción</th>\n",
       "      <th>Duración de la parada</th>\n",
       "      <th>Ubicación</th>\n",
       "      <th>Tipos de zonas de parada</th>\n",
       "      <th>Distancia</th>\n",
       "      <th>Velocidad máxima</th>\n",
       "    </tr>\n",
       "  </thead>\n",
       "  <tbody>\n",
       "    <tr>\n",
       "      <th>43385</th>\n",
       "      <td>FV040856</td>\n",
       "      <td>hernandez tellez jorge</td>\n",
       "      <td>2022-02-25 00:57:00</td>\n",
       "      <td>2022-02-25 00:39:00</td>\n",
       "      <td>[CEVE, IXTAPALUCA]</td>\n",
       "      <td>CeVe</td>\n",
       "      <td>50</td>\n",
       "      <td>103</td>\n",
       "    </tr>\n",
       "    <tr>\n",
       "      <th>43386</th>\n",
       "      <td>FV040856</td>\n",
       "      <td>hernandez tellez jorge</td>\n",
       "      <td>2022-02-25 00:48:00</td>\n",
       "      <td>2022-02-25 00:22:00</td>\n",
       "      <td>[BMA, PTA, AZCAPOTZALCO, BMA, CDMX]</td>\n",
       "      <td>PLANTAS y CEDIS</td>\n",
       "      <td>48</td>\n",
       "      <td>100</td>\n",
       "    </tr>\n",
       "    <tr>\n",
       "      <th>45908</th>\n",
       "      <td>FV040856</td>\n",
       "      <td>hernandez tellez jorge</td>\n",
       "      <td>2022-02-25 01:06:00</td>\n",
       "      <td>2022-02-25 00:03:00</td>\n",
       "      <td>[BMA, PTA, AZCAPOTZALCO, BMA, CDMX]</td>\n",
       "      <td>PLANTAS y CEDIS</td>\n",
       "      <td>48</td>\n",
       "      <td>100</td>\n",
       "    </tr>\n",
       "    <tr>\n",
       "      <th>46547</th>\n",
       "      <td>FV040856</td>\n",
       "      <td>martinez marcial rafael</td>\n",
       "      <td>2022-02-25 02:58:00</td>\n",
       "      <td>2022-02-25 00:06:00</td>\n",
       "      <td>[CDM, CDS, METROPOLITANO, CDMX]</td>\n",
       "      <td>PLANTAS y CEDIS</td>\n",
       "      <td>187</td>\n",
       "      <td>100</td>\n",
       "    </tr>\n",
       "    <tr>\n",
       "      <th>132953</th>\n",
       "      <td>FV023833</td>\n",
       "      <td>ortiz oropeza omar damian</td>\n",
       "      <td>2022-02-25 01:19:00</td>\n",
       "      <td>2022-02-25 00:02:00</td>\n",
       "      <td>[BMA, PTA, AZCAPOTZALCO, BMA, CDMX]</td>\n",
       "      <td>PLANTAS y CEDIS</td>\n",
       "      <td>65</td>\n",
       "      <td>116</td>\n",
       "    </tr>\n",
       "    <tr>\n",
       "      <th>132976</th>\n",
       "      <td>FV023833</td>\n",
       "      <td>ortiz oropeza omar damian</td>\n",
       "      <td>2022-02-25 01:27:00</td>\n",
       "      <td>2022-02-25 00:01:00</td>\n",
       "      <td>[BMA, PTA, AZCAPOTZALCO, BMA, CDMX]</td>\n",
       "      <td>PLANTAS y CEDIS</td>\n",
       "      <td>65</td>\n",
       "      <td>112</td>\n",
       "    </tr>\n",
       "    <tr>\n",
       "      <th>133125</th>\n",
       "      <td>FV023833</td>\n",
       "      <td>antonio diaz mario</td>\n",
       "      <td>2022-02-25 01:07:00</td>\n",
       "      <td>2022-02-25 00:08:00</td>\n",
       "      <td>[PTA, IRAPUATO]</td>\n",
       "      <td>PLANTAS y CEDIS</td>\n",
       "      <td>80</td>\n",
       "      <td>101</td>\n",
       "    </tr>\n",
       "    <tr>\n",
       "      <th>137423</th>\n",
       "      <td>FV054132</td>\n",
       "      <td>carrillo moreno moises</td>\n",
       "      <td>2022-02-25 00:17:00</td>\n",
       "      <td>2022-02-25 00:05:00</td>\n",
       "      <td>[CEVE, CUERNAVACA, CIVAC]</td>\n",
       "      <td>CeVe</td>\n",
       "      <td>15</td>\n",
       "      <td>101</td>\n",
       "    </tr>\n",
       "    <tr>\n",
       "      <th>196849</th>\n",
       "      <td>FV054994</td>\n",
       "      <td>malaga dominguez victor manuel</td>\n",
       "      <td>2022-02-25 01:18:00</td>\n",
       "      <td>2022-02-25 00:04:00</td>\n",
       "      <td>[BMA, PTA, AZCAPOTZALCO, BMA, CDMX]</td>\n",
       "      <td>PLANTAS y CEDIS</td>\n",
       "      <td>52</td>\n",
       "      <td>100</td>\n",
       "    </tr>\n",
       "  </tbody>\n",
       "</table>\n",
       "</div>"
      ],
      "text/plain": [
       "       Dispositivo                     Nombre_Comp Duración de conducción  \\\n",
       "43385     FV040856          hernandez tellez jorge    2022-02-25 00:57:00   \n",
       "43386     FV040856          hernandez tellez jorge    2022-02-25 00:48:00   \n",
       "45908     FV040856          hernandez tellez jorge    2022-02-25 01:06:00   \n",
       "46547     FV040856         martinez marcial rafael    2022-02-25 02:58:00   \n",
       "132953    FV023833       ortiz oropeza omar damian    2022-02-25 01:19:00   \n",
       "132976    FV023833       ortiz oropeza omar damian    2022-02-25 01:27:00   \n",
       "133125    FV023833              antonio diaz mario    2022-02-25 01:07:00   \n",
       "137423    FV054132          carrillo moreno moises    2022-02-25 00:17:00   \n",
       "196849    FV054994  malaga dominguez victor manuel    2022-02-25 01:18:00   \n",
       "\n",
       "       Duración de la parada                            Ubicación  \\\n",
       "43385    2022-02-25 00:39:00                   [CEVE, IXTAPALUCA]   \n",
       "43386    2022-02-25 00:22:00  [BMA, PTA, AZCAPOTZALCO, BMA, CDMX]   \n",
       "45908    2022-02-25 00:03:00  [BMA, PTA, AZCAPOTZALCO, BMA, CDMX]   \n",
       "46547    2022-02-25 00:06:00      [CDM, CDS, METROPOLITANO, CDMX]   \n",
       "132953   2022-02-25 00:02:00  [BMA, PTA, AZCAPOTZALCO, BMA, CDMX]   \n",
       "132976   2022-02-25 00:01:00  [BMA, PTA, AZCAPOTZALCO, BMA, CDMX]   \n",
       "133125   2022-02-25 00:08:00                      [PTA, IRAPUATO]   \n",
       "137423   2022-02-25 00:05:00            [CEVE, CUERNAVACA, CIVAC]   \n",
       "196849   2022-02-25 00:04:00  [BMA, PTA, AZCAPOTZALCO, BMA, CDMX]   \n",
       "\n",
       "       Tipos de zonas de parada  Distancia  Velocidad máxima  \n",
       "43385                      CeVe         50               103  \n",
       "43386           PLANTAS y CEDIS         48               100  \n",
       "45908           PLANTAS y CEDIS         48               100  \n",
       "46547           PLANTAS y CEDIS        187               100  \n",
       "132953          PLANTAS y CEDIS         65               116  \n",
       "132976          PLANTAS y CEDIS         65               112  \n",
       "133125          PLANTAS y CEDIS         80               101  \n",
       "137423                     CeVe         15               101  \n",
       "196849          PLANTAS y CEDIS         52               100  "
      ]
     },
     "execution_count": 386,
     "metadata": {},
     "output_type": "execute_result"
    }
   ],
   "source": [
    "df[df['Velocidad máxima'] >= 100.0]"
   ]
  },
  {
   "cell_type": "markdown",
   "metadata": {},
   "source": [
    "## GRÁFICOS BIVARIADOS"
   ]
  },
  {
   "cell_type": "code",
   "execution_count": 387,
   "metadata": {
    "colab": {
     "base_uri": "https://localhost:8080/",
     "height": 403
    },
    "id": "qG76QphWoNQf",
    "outputId": "c4c4a8ed-4888-482d-906d-60c415c133b2"
   },
   "outputs": [
    {
     "data": {
      "image/png": "[encoded data removed]",
      "text/plain": [
       "<Figure size 864x432 with 1 Axes>"
      ]
     },
     "metadata": {},
     "output_type": "display_data"
    }
   ],
   "source": [
    "plt.rcParams['figure.figsize']=(12,6)\n",
    "plt.scatter( 'Distancia','Duración de conducción', data=df, marker='o')\n",
    "plt.xlabel('Kilometros')\n",
    "plt.ylabel('Horas')\n",
    "plt.title('Gráfico 1.- Relación Distancia-Tiempo', loc='center')\n",
    "plt.show()"
   ]
  },
  {
   "cell_type": "code",
   "execution_count": 460,
   "metadata": {
    "id": "-g6aFGzsoO0u"
   },
   "outputs": [
    {
     "data": {
      "image/png": "[encoded data removed]",
      "text/plain": [
       "<Figure size 720x432 with 1 Axes>"
      ]
     },
     "metadata": {},
     "output_type": "display_data"
    }
   ],
   "source": [
    "plt.scatter( 'Velocidad máxima','Duración de conducción', data=df, marker='o')\n",
    "plt.xlabel('Km/Hr')\n",
    "plt.ylabel('Horas')\n",
    "plt.title('Gráfico 2.- Relación Velocidad-Tiempo', loc='center')\n",
    "plt.show()"
   ]
  },
  {
   "cell_type": "markdown",
   "metadata": {
    "id": "CVcJlfRhwzJp"
   },
   "source": [
    "## MODELACIÓN"
   ]
  },
  {
   "cell_type": "code",
   "execution_count": 389,
   "metadata": {
    "colab": {
     "base_uri": "https://localhost:8080/",
     "height": 403
    },
    "id": "jbcdxZU6wzJp",
    "outputId": "03c90f74-6967-4d3e-aec8-2fd4b246ded6"
   },
   "outputs": [
    {
     "data": {
      "image/png": "[encoded data removed]",
      "text/plain": [
       "<Figure size 720x432 with 1 Axes>"
      ]
     },
     "metadata": {},
     "output_type": "display_data"
    }
   ],
   "source": [
    "plt.rcParams['figure.figsize']=(10,6)\n",
    "plt.scatter('Distancia','Velocidad máxima', data=df, marker='o')\n",
    "plt.xlabel('Kilometros')\n",
    "plt.ylabel('Km/Hr')\n",
    "plt.title('Gráfico 3.- Relación Distancia-Velocidad', loc='center')\n",
    "plt.show()"
   ]
  },
  {
   "cell_type": "markdown",
   "metadata": {},
   "source": [
    "### EVALUACIÓN"
   ]
  },
  {
   "cell_type": "code",
   "execution_count": 390,
   "metadata": {
    "id": "y2YSrDDXJFtO"
   },
   "outputs": [],
   "source": [
    "# Encontramos el número óptimo de clusters para k-means\n",
    "x = df.iloc[:,[6,7]].values\n",
    "\n",
    "wcss= []\n",
    "\n",
    "for i in range(1,11):\n",
    "    kmeans = KMeans(n_clusters = i,init = \"k-means++\",max_iter = 100,n_init=10,random_state = 0)\n",
    "    kmeans.fit(x)\n",
    "    wcss.append(kmeans.inertia_)"
   ]
  },
  {
   "cell_type": "code",
   "execution_count": 391,
   "metadata": {
    "colab": {
     "base_uri": "https://localhost:8080/",
     "height": 403
    },
    "id": "I3c2Q_DSJFtO",
    "outputId": "65cb7599-df33-40bd-db4d-c4621b2c805d"
   },
   "outputs": [
    {
     "data": {
      "image/png": "[encoded data removed]",
      "text/plain": [
       "<Figure size 720x432 with 1 Axes>"
      ]
     },
     "metadata": {},
     "output_type": "display_data"
    }
   ],
   "source": [
    "# Graficamos\n",
    "plt.plot(range(1,11),wcss)\n",
    "plt.title(\"Método Elbow\")\n",
    "plt.xlabel(\"Número de clusters\")\n",
    "plt.ylabel(\"WCSS-within cluster sum of squares\");"
   ]
  },
  {
   "cell_type": "code",
   "execution_count": 392,
   "metadata": {
    "colab": {
     "base_uri": "https://localhost:8080/",
     "height": 385
    },
    "id": "iwCrBJsnJFtO",
    "outputId": "5d88c17a-83e1-4a74-fadd-b030a863b6fc"
   },
   "outputs": [
    {
     "data": {
      "image/png": "[encoded data removed]",
      "text/plain": [
       "<Figure size 720x432 with 2 Axes>"
      ]
     },
     "metadata": {},
     "output_type": "display_data"
    }
   ],
   "source": [
    "# Usando librería para encontrar hiperpárametro\n",
    "visualizer=KElbowVisualizer(KMeans(),k=(1,11),timings=True)\n",
    "visualizer.fit(x)\n",
    "plt.xlabel(\"Número de grupos\")\n",
    "plt.ylabel(\"Distorsión\")\n",
    "plt.show();"
   ]
  },
  {
   "cell_type": "code",
   "execution_count": 454,
   "metadata": {},
   "outputs": [],
   "source": [
    "silhouette_coefficients = []\n",
    "\n",
    "for i in range(2, 11):\n",
    "    kmeans = KMeans(n_clusters=i,init = \"k-means++\",max_iter = 100,n_init=10,random_state = 0)\n",
    "    kmeans.fit(x)\n",
    "    score = silhouette_score(x, kmeans.labels_)\n",
    "    silhouette_coefficients.append(score)"
   ]
  },
  {
   "cell_type": "code",
   "execution_count": 456,
   "metadata": {},
   "outputs": [
    {
     "data": {
      "image/png": "[encoded data removed]",
      "text/plain": [
       "<Figure size 720x432 with 1 Axes>"
      ]
     },
     "metadata": {},
     "output_type": "display_data"
    }
   ],
   "source": [
    "plt.plot(range(2, 11), silhouette_coefficients)\n",
    "plt.xticks(range(2, 11))\n",
    "plt.xlabel(\"Number of Clusters\")\n",
    "plt.ylabel(\"Silhouette Coefficient\")\n",
    "plt.show()"
   ]
  },
  {
   "cell_type": "code",
   "execution_count": 507,
   "metadata": {},
   "outputs": [
    {
     "data": {
      "text/plain": [
       "[0.6577639457859461,\n",
       " 0.5307967675898946,\n",
       " 0.4564735334217488,\n",
       " 0.45843306530837313,\n",
       " 0.4586669311783341,\n",
       " 0.37690230605675246,\n",
       " 0.41768123944246005,\n",
       " 0.4244264320260279,\n",
       " 0.4034723855534253]"
      ]
     },
     "execution_count": 507,
     "metadata": {},
     "output_type": "execute_result"
    }
   ],
   "source": [
    "silhouette_coefficients"
   ]
  },
  {
   "cell_type": "markdown",
   "metadata": {},
   "source": [
    "### APLICACIÓN DEL MODELO"
   ]
  },
  {
   "cell_type": "markdown",
   "metadata": {},
   "source": [
    "### K-MEANS"
   ]
  },
  {
   "cell_type": "code",
   "execution_count": 393,
   "metadata": {
    "id": "OyVgEJIaJFtP"
   },
   "outputs": [],
   "source": [
    "# Ajustamos el modelo\n",
    "kmeans = KMeans(n_clusters=4)\n",
    "y_kmeans = kmeans.fit_predict(x)"
   ]
  },
  {
   "cell_type": "code",
   "execution_count": 413,
   "metadata": {
    "colab": {
     "base_uri": "https://localhost:8080/",
     "height": 374
    },
    "id": "d19kJIfEJFtP",
    "outputId": "22f62b65-ead0-4770-e028-78d520cd9540"
   },
   "outputs": [
    {
     "data": {
      "image/png": "[encoded data removed]",
      "text/plain": [
       "<Figure size 720x432 with 1 Axes>"
      ]
     },
     "metadata": {},
     "output_type": "display_data"
    }
   ],
   "source": [
    "# Graficamos clusters por Sépalo\n",
    "plt.scatter(x[y_kmeans == 0,0],x[y_kmeans == 0,1],s=100,c=\"yellow\",label=\"Rápido\")\n",
    "plt.scatter(x[y_kmeans == 1,0],x[y_kmeans == 1,1],s=100,c=\"red\",label=\"Lento\")\n",
    "plt.scatter(x[y_kmeans == 2,0],x[y_kmeans == 2,1],s=100,c=\"green\",label=\"Muy rápido\")\n",
    "plt.scatter(x[y_kmeans == 3,0],x[y_kmeans == 3,1],s=100,c=\"blue\",label=\"Moderado\")\n",
    "# Agregamos centroides\n",
    "plt.scatter(kmeans.cluster_centers_[:,0],kmeans.cluster_centers_[:,1],s=50,c=\"black\",label=\"centroides\")\n",
    "plt.legend();"
   ]
  },
  {
   "cell_type": "markdown",
   "metadata": {},
   "source": [
    "## ANÁLISIS"
   ]
  },
  {
   "cell_type": "code",
   "execution_count": 414,
   "metadata": {
    "colab": {
     "base_uri": "https://localhost:8080/"
    },
    "id": "XkAhAj_b7wQ4",
    "outputId": "2d745375-bbc3-48d3-b6eb-85fce5b941a9"
   },
   "outputs": [],
   "source": [
    "df['Cluster'] = kmeans.labels_"
   ]
  },
  {
   "cell_type": "markdown",
   "metadata": {},
   "source": [
    "### CLUSTER LENTO"
   ]
  },
  {
   "cell_type": "code",
   "execution_count": 415,
   "metadata": {},
   "outputs": [],
   "source": [
    "C1 = df[df['Cluster']==1]"
   ]
  },
  {
   "cell_type": "code",
   "execution_count": 416,
   "metadata": {},
   "outputs": [
    {
     "data": {
      "text/plain": [
       "13199"
      ]
     },
     "execution_count": 416,
     "metadata": {},
     "output_type": "execute_result"
    }
   ],
   "source": [
    "len(C1)"
   ]
  },
  {
   "cell_type": "code",
   "execution_count": 417,
   "metadata": {},
   "outputs": [
    {
     "data": {
      "text/plain": [
       "37"
      ]
     },
     "execution_count": 417,
     "metadata": {},
     "output_type": "execute_result"
    }
   ],
   "source": [
    "C1['Distancia'].max()"
   ]
  },
  {
   "cell_type": "code",
   "execution_count": 418,
   "metadata": {},
   "outputs": [
    {
     "data": {
      "text/plain": [
       "7"
      ]
     },
     "execution_count": 418,
     "metadata": {},
     "output_type": "execute_result"
    }
   ],
   "source": [
    "C1['Distancia'].min()"
   ]
  },
  {
   "cell_type": "code",
   "execution_count": 419,
   "metadata": {},
   "outputs": [
    {
     "data": {
      "text/plain": [
       "FV054993    1029\n",
       "FV040868    1004\n",
       "FV040860     857\n",
       "FV040850     830\n",
       "FV040849     758\n",
       "FV040861     646\n",
       "FV040856     594\n",
       "FV040853     542\n",
       "FV040854     525\n",
       "FV054995     510\n",
       "FV054990     444\n",
       "FV040859     442\n",
       "FV054979     351\n",
       "FV054160     329\n",
       "FV040851     327\n",
       "FV054989     276\n",
       "FV054982     262\n",
       "FV054983     249\n",
       "FV054980     243\n",
       "FV054994     243\n",
       "Name: Dispositivo, dtype: int64"
      ]
     },
     "execution_count": 419,
     "metadata": {},
     "output_type": "execute_result"
    }
   ],
   "source": [
    "C1['Dispositivo'].value_counts().head(20)"
   ]
  },
  {
   "cell_type": "code",
   "execution_count": 420,
   "metadata": {},
   "outputs": [
    {
     "data": {
      "text/plain": [
       "pablo adrian ramirez exiga          869\n",
       "de la cruz marin vicente dt         754\n",
       "sanchez andres lucas erasto         570\n",
       "solano lopez jorge alberto          540\n",
       "angel giovanni hernandez trejo      500\n",
       "perez hernandez gerardo             404\n",
       "ramirez barrera rodrigo             387\n",
       "martinez ramirez rodolfo            374\n",
       "oscarr luna tapia                   370\n",
       "munoz oviedo isaias                 360\n",
       "gonzalez gonzalez jose guadalupe    353\n",
       "ponce serrano abraham               345\n",
       "hernandez perez alejandro           342\n",
       "cesar mendoza godinez               314\n",
       "juan marquez jorge                  291\n",
       "lopez sanchez felipe                291\n",
       "arcos arias armando                 285\n",
       "torres diaz nahum                   273\n",
       "gonzalez ortega luis angel          273\n",
       "gonzalocampos cortes                270\n",
       "Name: Nombre_Comp, dtype: int64"
      ]
     },
     "execution_count": 420,
     "metadata": {},
     "output_type": "execute_result"
    }
   ],
   "source": [
    "C1['Nombre_Comp'].value_counts().head(20)"
   ]
  },
  {
   "cell_type": "code",
   "execution_count": 421,
   "metadata": {},
   "outputs": [
    {
     "data": {
      "text/plain": [
       "2022-02-25 01:57:00    4\n",
       "2022-02-25 02:08:00    4\n",
       "2022-02-25 01:50:00    4\n",
       "2022-02-25 01:49:00    4\n",
       "2022-02-25 02:03:00    3\n",
       "2022-02-25 01:59:00    3\n",
       "2022-02-25 02:20:00    3\n",
       "2022-02-25 02:02:00    3\n",
       "2022-02-25 02:22:00    2\n",
       "2022-02-25 02:21:00    2\n",
       "2022-02-25 02:25:00    2\n",
       "2022-02-25 02:15:00    2\n",
       "2022-02-25 02:34:00    2\n",
       "2022-02-25 02:09:00    2\n",
       "2022-02-25 02:32:00    1\n",
       "2022-02-25 02:01:00    1\n",
       "2022-02-25 02:30:00    1\n",
       "2022-02-25 02:41:00    1\n",
       "2022-02-25 02:17:00    1\n",
       "2022-02-25 03:02:00    1\n",
       "2022-02-25 02:00:00    1\n",
       "2022-02-25 02:05:00    1\n",
       "2022-02-25 02:46:00    1\n",
       "2022-02-25 02:16:00    1\n",
       "2022-02-25 02:10:00    1\n",
       "2022-02-25 02:59:00    1\n",
       "2022-02-25 01:58:00    1\n",
       "2022-02-25 02:24:00    1\n",
       "2022-02-25 02:33:00    1\n",
       "2022-02-25 02:28:00    1\n",
       "Name: Duración de conducción, dtype: int64"
      ]
     },
     "execution_count": 421,
     "metadata": {},
     "output_type": "execute_result"
    }
   ],
   "source": [
    "C1['Duración de conducción'].value_counts().tail(30)"
   ]
  },
  {
   "cell_type": "code",
   "execution_count": 422,
   "metadata": {},
   "outputs": [
    {
     "ename": "TypeError",
     "evalue": "unhashable type: 'list'",
     "output_type": "error",
     "traceback": [
      "\u001b[0;31m---------------------------------------------------------------------------\u001b[0m",
      "\u001b[0;31mTypeError\u001b[0m                                 Traceback (most recent call last)",
      "\u001b[0;32mpandas/_libs/hashtable_class_helper.pxi\u001b[0m in \u001b[0;36mpandas._libs.hashtable.PyObjectHashTable.map_locations\u001b[0;34m()\u001b[0m\n",
      "\u001b[0;31mTypeError\u001b[0m: unhashable type: 'list'"
     ]
    },
    {
     "name": "stderr",
     "output_type": "stream",
     "text": [
      "Exception ignored in: 'pandas._libs.index.IndexEngine._call_map_locations'\n",
      "Traceback (most recent call last):\n",
      "  File \"pandas/_libs/hashtable_class_helper.pxi\", line 5231, in pandas._libs.hashtable.PyObjectHashTable.map_locations\n",
      "TypeError: unhashable type: 'list'\n"
     ]
    },
    {
     "data": {
      "text/plain": [
       "[BMA, PTA, AZCAPOTZALCO, BMA, CDMX]    5639\n",
       "[BMS, PTA, STA, MARIA, BSM, CDMX]      2989\n",
       "[CEVE, NAUCALPAN]                       846\n",
       "[CDS, SAN, ANTONIO, CDMX]               595\n",
       "[CEVE, IZTAPALAPA, CDMX]                332\n",
       "[CDM, CDS, METROPOLITANO, CDMX]         318\n",
       "[CEVE, ATIZAPAN]                        304\n",
       "[CEVE, TULTITLAN]                       225\n",
       "[CEVE, XALOSTOC]                        221\n",
       "[CEVE, VILLA, CDMX]                     215\n",
       "[CEVE, CEYLAN]                          151\n",
       "[CEVE, SAN, JUAN]                       146\n",
       "[CEVE, SAN, LORENZO, CDMX]              139\n",
       "[CEVE, CENTENARIO, CDMX]                132\n",
       "[CEVE, CUAUTITLAN]                       90\n",
       "[CEVE, TEPALCATES, CDMX]                 87\n",
       "[CEVE, VALLEJO, CDMX]                    84\n",
       "[CEVE, CENTRO, CDMX]                     80\n",
       "[CEVE, COACALCO]                         79\n",
       "[CEVE, ROJO, GOMEZ, CDMX]                78\n",
       "Name: Ubicación, dtype: int64"
      ]
     },
     "execution_count": 422,
     "metadata": {},
     "output_type": "execute_result"
    }
   ],
   "source": [
    "C1['Ubicación'].value_counts().head(20)"
   ]
  },
  {
   "cell_type": "markdown",
   "metadata": {},
   "source": [
    "### CLUSTER MODERADO"
   ]
  },
  {
   "cell_type": "code",
   "execution_count": 423,
   "metadata": {},
   "outputs": [],
   "source": [
    "C2 = df[df['Cluster']==3]"
   ]
  },
  {
   "cell_type": "code",
   "execution_count": 424,
   "metadata": {},
   "outputs": [
    {
     "data": {
      "text/plain": [
       "10162"
      ]
     },
     "execution_count": 424,
     "metadata": {},
     "output_type": "execute_result"
    }
   ],
   "source": [
    "len(C2)"
   ]
  },
  {
   "cell_type": "code",
   "execution_count": 425,
   "metadata": {},
   "outputs": [
    {
     "data": {
      "text/plain": [
       "47"
      ]
     },
     "execution_count": 425,
     "metadata": {},
     "output_type": "execute_result"
    }
   ],
   "source": [
    "C2['Distancia'].max()"
   ]
  },
  {
   "cell_type": "code",
   "execution_count": 426,
   "metadata": {},
   "outputs": [
    {
     "data": {
      "text/plain": [
       "7"
      ]
     },
     "execution_count": 426,
     "metadata": {},
     "output_type": "execute_result"
    }
   ],
   "source": [
    "C2['Distancia'].min()"
   ]
  },
  {
   "cell_type": "code",
   "execution_count": 427,
   "metadata": {},
   "outputs": [
    {
     "data": {
      "text/plain": [
       "FV040856    900\n",
       "FV040860    678\n",
       "FV040849    659\n",
       "FV040853    651\n",
       "FV040850    601\n",
       "FV040859    552\n",
       "FV040854    474\n",
       "FV040861    420\n",
       "FV040868    358\n",
       "FV040851    274\n",
       "FV054982    240\n",
       "FV054983    232\n",
       "FV054984    229\n",
       "FV008908    219\n",
       "FV054987    197\n",
       "FV054990    174\n",
       "FV054980    167\n",
       "FV054994    158\n",
       "FV054986    155\n",
       "FV054132    145\n",
       "Name: Dispositivo, dtype: int64"
      ]
     },
     "execution_count": 427,
     "metadata": {},
     "output_type": "execute_result"
    }
   ],
   "source": [
    "C2['Dispositivo'].value_counts().head(20)"
   ]
  },
  {
   "cell_type": "code",
   "execution_count": 428,
   "metadata": {},
   "outputs": [
    {
     "data": {
      "text/plain": [
       "ponce serrano abraham               723\n",
       "caballero castaneda jesus cirilo    441\n",
       "perez hernandez gerardo             419\n",
       "aguilar banuelos jose felix         387\n",
       "munoz oviedo isaias                 361\n",
       "sanchez andres lucas erasto         310\n",
       "gonzalez ortega luis angel          310\n",
       "gonzalez gonzalez jose guadalupe    290\n",
       "oscarr luna tapia                   284\n",
       "arcos arias armando                 284\n",
       "lozano lopez rodolfo                272\n",
       "aaron antonio flores gonzalez       261\n",
       "pablo adrian ramirez exiga          257\n",
       "raymundo mora loyola                240\n",
       "ramirez barrera rodrigo             200\n",
       "solano lopez jorge alberto          198\n",
       "malaga dominguez victor manuel      196\n",
       "lopez sanchez felipe                195\n",
       "adolfo rafael santiago marquina     176\n",
       "juan gabrielperez fuentes           161\n",
       "Name: Nombre_Comp, dtype: int64"
      ]
     },
     "execution_count": 428,
     "metadata": {},
     "output_type": "execute_result"
    }
   ],
   "source": [
    "C2['Nombre_Comp'].value_counts().head(20)"
   ]
  },
  {
   "cell_type": "code",
   "execution_count": 429,
   "metadata": {},
   "outputs": [
    {
     "data": {
      "text/plain": [
       "2022-02-25 02:07:00    5\n",
       "2022-02-25 01:59:00    5\n",
       "2022-02-25 02:20:00    4\n",
       "2022-02-25 02:09:00    4\n",
       "2022-02-25 02:11:00    3\n",
       "2022-02-25 02:01:00    3\n",
       "2022-02-25 02:25:00    3\n",
       "2022-02-25 02:12:00    3\n",
       "2022-02-25 02:02:00    3\n",
       "2022-02-25 02:13:00    3\n",
       "2022-02-25 02:23:00    3\n",
       "2022-02-25 02:15:00    2\n",
       "2022-02-25 02:16:00    2\n",
       "2022-02-25 02:26:00    2\n",
       "2022-02-25 02:32:00    2\n",
       "2022-02-25 02:36:00    2\n",
       "2022-02-25 02:33:00    2\n",
       "2022-02-25 02:21:00    2\n",
       "2022-02-25 02:52:00    1\n",
       "2022-02-25 02:51:00    1\n",
       "2022-02-25 02:48:00    1\n",
       "2022-02-25 03:02:00    1\n",
       "2022-02-25 02:47:00    1\n",
       "2022-02-25 02:54:00    1\n",
       "2022-02-25 02:39:00    1\n",
       "2022-02-25 02:19:00    1\n",
       "2022-02-25 03:28:00    1\n",
       "2022-02-25 02:27:00    1\n",
       "2022-02-25 04:04:00    1\n",
       "2022-02-25 03:23:00    1\n",
       "Name: Duración de conducción, dtype: int64"
      ]
     },
     "execution_count": 429,
     "metadata": {},
     "output_type": "execute_result"
    }
   ],
   "source": [
    "C2['Duración de conducción'].value_counts().tail(30)"
   ]
  },
  {
   "cell_type": "code",
   "execution_count": 430,
   "metadata": {},
   "outputs": [
    {
     "ename": "TypeError",
     "evalue": "unhashable type: 'list'",
     "output_type": "error",
     "traceback": [
      "\u001b[0;31m---------------------------------------------------------------------------\u001b[0m",
      "\u001b[0;31mTypeError\u001b[0m                                 Traceback (most recent call last)",
      "\u001b[0;32mpandas/_libs/hashtable_class_helper.pxi\u001b[0m in \u001b[0;36mpandas._libs.hashtable.PyObjectHashTable.map_locations\u001b[0;34m()\u001b[0m\n",
      "\u001b[0;31mTypeError\u001b[0m: unhashable type: 'list'"
     ]
    },
    {
     "name": "stderr",
     "output_type": "stream",
     "text": [
      "Exception ignored in: 'pandas._libs.index.IndexEngine._call_map_locations'\n",
      "Traceback (most recent call last):\n",
      "  File \"pandas/_libs/hashtable_class_helper.pxi\", line 5231, in pandas._libs.hashtable.PyObjectHashTable.map_locations\n",
      "TypeError: unhashable type: 'list'\n"
     ]
    },
    {
     "data": {
      "text/plain": [
       "[BMA, PTA, AZCAPOTZALCO, BMA, CDMX]    3577\n",
       "[BMS, PTA, STA, MARIA, BSM, CDMX]      1788\n",
       "[CEVE, IZTAPALAPA, CDMX]                628\n",
       "[CEVE, CENTENARIO, CDMX]                429\n",
       "[CEVE, TULTITLAN]                       418\n",
       "[CEVE, TEPOTZOTLAN]                     319\n",
       "[CDS, STA, CLARA]                       306\n",
       "[CEVE, SAN, JUAN]                       241\n",
       "[CEVE, XALOSTOC]                        225\n",
       "[CEVE, STA, CLARA]                      217\n",
       "[CEVE, SAN, LORENZO, CDMX]              189\n",
       "[CEVE, COACALCO]                        182\n",
       "[CEVE, CUAUTITLAN]                      180\n",
       "[CEVE, LOS, REYES]                      174\n",
       "[CEVE, ROJO, GOMEZ, CDMX]               171\n",
       "[CDS, SAN, ANTONIO, CDMX]               130\n",
       "[CEVE, TEPALCATES, CDMX]                124\n",
       "[CEVE, XOCHIMILCO, CDMX]                109\n",
       "[BMA, PTA, AZCAPOTZALCO, BMA]           102\n",
       "[CEVE, TEXCOCO]                          86\n",
       "Name: Ubicación, dtype: int64"
      ]
     },
     "execution_count": 430,
     "metadata": {},
     "output_type": "execute_result"
    }
   ],
   "source": [
    "C2['Ubicación'].value_counts().head(20)"
   ]
  },
  {
   "cell_type": "markdown",
   "metadata": {},
   "source": [
    "### CLUSTER RÁPIDO"
   ]
  },
  {
   "cell_type": "code",
   "execution_count": 431,
   "metadata": {},
   "outputs": [],
   "source": [
    "C3 = df[df['Cluster']==0]"
   ]
  },
  {
   "cell_type": "code",
   "execution_count": 432,
   "metadata": {},
   "outputs": [
    {
     "data": {
      "text/plain": [
       "2720"
      ]
     },
     "execution_count": 432,
     "metadata": {},
     "output_type": "execute_result"
    }
   ],
   "source": [
    "len(C3)"
   ]
  },
  {
   "cell_type": "code",
   "execution_count": 433,
   "metadata": {},
   "outputs": [
    {
     "data": {
      "text/plain": [
       "133"
      ]
     },
     "execution_count": 433,
     "metadata": {},
     "output_type": "execute_result"
    }
   ],
   "source": [
    "C3['Distancia'].max()"
   ]
  },
  {
   "cell_type": "code",
   "execution_count": 434,
   "metadata": {},
   "outputs": [
    {
     "data": {
      "text/plain": [
       "40"
      ]
     },
     "execution_count": 434,
     "metadata": {},
     "output_type": "execute_result"
    }
   ],
   "source": [
    "C3['Distancia'].min()"
   ]
  },
  {
   "cell_type": "code",
   "execution_count": 435,
   "metadata": {},
   "outputs": [
    {
     "data": {
      "text/plain": [
       "FV040856    282\n",
       "FV040860    213\n",
       "FV054134    193\n",
       "FV054159    177\n",
       "FV054137    174\n",
       "FV054132    126\n",
       "FV018461    101\n",
       "FV023793     98\n",
       "FV017793     89\n",
       "FV054138     87\n",
       "FV040853     74\n",
       "FV040859     74\n",
       "FV054986     74\n",
       "FV017792     67\n",
       "FV023827     59\n",
       "FV023828     53\n",
       "FV023820     50\n",
       "FV023833     48\n",
       "FV054982     46\n",
       "FV023808     41\n",
       "Name: Dispositivo, dtype: int64"
      ]
     },
     "execution_count": 435,
     "metadata": {},
     "output_type": "execute_result"
    }
   ],
   "source": [
    "C3['Dispositivo'].value_counts().head(20)"
   ]
  },
  {
   "cell_type": "code",
   "execution_count": 436,
   "metadata": {},
   "outputs": [
    {
     "data": {
      "text/plain": [
       "caballero castaneda jesus cirilo     181\n",
       "solano lopez jorge alberto           161\n",
       "hernandez moreno fernando horacio    144\n",
       "garcia garcia sergio                 117\n",
       "maldonado verde roberto carlos       116\n",
       "ponce serrano abraham                 98\n",
       "badillo cortes jose luis              94\n",
       "salas maldonado luis martin           91\n",
       "antonio diaz mario                    89\n",
       "romero lopez edgar                    88\n",
       "de la cruz campos rey                 84\n",
       "maldonado moreno saul                 80\n",
       "antonio galindo fidel                 77\n",
       "martinez toledo jorge alberto         74\n",
       "munoz oviedo isaias                   65\n",
       "santillan rivas j jesus               63\n",
       "ortiz oropeza omar damian             57\n",
       "villasana vite benito                 50\n",
       "ruiz martinez jose juan               48\n",
       "paredes albarran jose luis            45\n",
       "Name: Nombre_Comp, dtype: int64"
      ]
     },
     "execution_count": 436,
     "metadata": {},
     "output_type": "execute_result"
    }
   ],
   "source": [
    "C3['Nombre_Comp'].value_counts().head(20)"
   ]
  },
  {
   "cell_type": "code",
   "execution_count": 437,
   "metadata": {},
   "outputs": [
    {
     "data": {
      "text/plain": [
       "2022-02-25 02:40:00    2\n",
       "2022-02-25 03:04:00    2\n",
       "2022-02-25 02:58:00    2\n",
       "2022-02-25 02:57:00    2\n",
       "2022-02-25 02:31:00    2\n",
       "2022-02-25 03:07:00    2\n",
       "2022-02-25 03:12:00    1\n",
       "2022-02-25 03:22:00    1\n",
       "2022-02-25 03:24:00    1\n",
       "2022-02-25 02:59:00    1\n",
       "2022-02-25 03:47:00    1\n",
       "2022-02-25 03:08:00    1\n",
       "2022-02-25 02:51:00    1\n",
       "2022-02-25 00:40:00    1\n",
       "2022-02-25 04:01:00    1\n",
       "2022-02-25 02:38:00    1\n",
       "2022-02-25 03:13:00    1\n",
       "2022-02-25 02:39:00    1\n",
       "2022-02-25 03:00:00    1\n",
       "2022-02-25 03:26:00    1\n",
       "2022-02-25 02:41:00    1\n",
       "2022-02-25 03:05:00    1\n",
       "2022-02-25 03:02:00    1\n",
       "2022-02-25 03:50:00    1\n",
       "2022-02-25 02:54:00    1\n",
       "2022-02-25 03:57:00    1\n",
       "2022-02-25 02:47:00    1\n",
       "2022-02-25 03:10:00    1\n",
       "2022-02-25 02:30:00    1\n",
       "2022-02-25 03:35:00    1\n",
       "Name: Duración de conducción, dtype: int64"
      ]
     },
     "execution_count": 437,
     "metadata": {},
     "output_type": "execute_result"
    }
   ],
   "source": [
    "C3['Duración de conducción'].value_counts().tail(30)"
   ]
  },
  {
   "cell_type": "code",
   "execution_count": 438,
   "metadata": {},
   "outputs": [
    {
     "ename": "TypeError",
     "evalue": "unhashable type: 'list'",
     "output_type": "error",
     "traceback": [
      "\u001b[0;31m---------------------------------------------------------------------------\u001b[0m",
      "\u001b[0;31mTypeError\u001b[0m                                 Traceback (most recent call last)",
      "\u001b[0;32mpandas/_libs/hashtable_class_helper.pxi\u001b[0m in \u001b[0;36mpandas._libs.hashtable.PyObjectHashTable.map_locations\u001b[0;34m()\u001b[0m\n",
      "\u001b[0;31mTypeError\u001b[0m: unhashable type: 'list'"
     ]
    },
    {
     "name": "stderr",
     "output_type": "stream",
     "text": [
      "Exception ignored in: 'pandas._libs.index.IndexEngine._call_map_locations'\n",
      "Traceback (most recent call last):\n",
      "  File \"pandas/_libs/hashtable_class_helper.pxi\", line 5231, in pandas._libs.hashtable.PyObjectHashTable.map_locations\n",
      "TypeError: unhashable type: 'list'\n"
     ]
    },
    {
     "data": {
      "text/plain": [
       "[BMA, PTA, AZCAPOTZALCO, BMA, CDMX]    1279\n",
       "[CEVE, CHALCO]                          167\n",
       "[BTJ, PTA, TEPEJI]                      165\n",
       "[CEVE, TIZAYUCA]                        139\n",
       "[BMS, PTA, STA, MARIA, BSM, CDMX]       115\n",
       "[PTA, TOLUCA, TIA, ROSA]                112\n",
       "[CEVE, TEXCOCO]                         100\n",
       "[PTA, TOLUCA]                            87\n",
       "[CEVE, CUERNAVACA, BUENAVISTA]           64\n",
       "[CEVE, TEPEJI, DEL, RIO]                 60\n",
       "[CEVE, IXTAPALUCA]                       60\n",
       "[BPU, PTA, PUEBLA, BPU]                  51\n",
       "[CEVE, IZTAPALAPA, CDMX]                 50\n",
       "[CDM, CDS, METROPOLITANO, CDMX]          41\n",
       "[CEVE, XOCHIMILCO, CDMX]                 37\n",
       "[CEVE, TULTITLAN]                        22\n",
       "[BMA, PTA, AZCAPOTZALCO, BMA]            22\n",
       "[CEVE, TEPALCATES, CDMX]                 19\n",
       "[CEVE, LOS, REYES]                       19\n",
       "[CEVE, CUERNAVACA, CIVAC]                16\n",
       "Name: Ubicación, dtype: int64"
      ]
     },
     "execution_count": 438,
     "metadata": {},
     "output_type": "execute_result"
    }
   ],
   "source": [
    "C3['Ubicación'].value_counts().head(20)"
   ]
  },
  {
   "cell_type": "markdown",
   "metadata": {},
   "source": [
    "### CLUSTER MUY RÁPIDO"
   ]
  },
  {
   "cell_type": "code",
   "execution_count": 439,
   "metadata": {},
   "outputs": [],
   "source": [
    "C4 = df[df['Cluster']==2]"
   ]
  },
  {
   "cell_type": "code",
   "execution_count": 440,
   "metadata": {},
   "outputs": [
    {
     "data": {
      "text/plain": [
       "201"
      ]
     },
     "execution_count": 440,
     "metadata": {},
     "output_type": "execute_result"
    }
   ],
   "source": [
    "len(C4)"
   ]
  },
  {
   "cell_type": "code",
   "execution_count": 441,
   "metadata": {},
   "outputs": [
    {
     "data": {
      "text/plain": [
       "914"
      ]
     },
     "execution_count": 441,
     "metadata": {},
     "output_type": "execute_result"
    }
   ],
   "source": [
    "C4['Distancia'].max()"
   ]
  },
  {
   "cell_type": "code",
   "execution_count": 442,
   "metadata": {},
   "outputs": [
    {
     "data": {
      "text/plain": [
       "136"
      ]
     },
     "execution_count": 442,
     "metadata": {},
     "output_type": "execute_result"
    }
   ],
   "source": [
    "C4['Distancia'].min()"
   ]
  },
  {
   "cell_type": "code",
   "execution_count": 443,
   "metadata": {},
   "outputs": [
    {
     "data": {
      "text/plain": [
       "FV023827    43\n",
       "FV023808    34\n",
       "FV054132    17\n",
       "FV018461    14\n",
       "FV054137    11\n",
       "FV017793     9\n",
       "FV054138     8\n",
       "FV023833     7\n",
       "FV017792     7\n",
       "FV040856     6\n",
       "FV023789     6\n",
       "FV023820     5\n",
       "FV023786     5\n",
       "FV055559     5\n",
       "FV023819     4\n",
       "FV023814     4\n",
       "FV055558     3\n",
       "FV054134     2\n",
       "FV022051     2\n",
       "FV054160     2\n",
       "Name: Dispositivo, dtype: int64"
      ]
     },
     "execution_count": 443,
     "metadata": {},
     "output_type": "execute_result"
    }
   ],
   "source": [
    "C4['Dispositivo'].value_counts().head(20)"
   ]
  },
  {
   "cell_type": "code",
   "execution_count": 444,
   "metadata": {},
   "outputs": [
    {
     "data": {
      "text/plain": [
       "paredes albarran jose luis          48\n",
       "becerril mendoza jose alfredo       40\n",
       "genarocruz baena                    19\n",
       "garcia zamudio jorge                15\n",
       "cruz duran abel                     14\n",
       "salas maldonado luis martin         12\n",
       "ortiz oropeza omar damian            9\n",
       "garcia arzate sergio                 5\n",
       "vergara miranda raul                 5\n",
       "martinez marcial rafael              4\n",
       "badillo cortes jose luis             4\n",
       "hernandez franco jorge oscar         3\n",
       "de la cruz campos rey                3\n",
       "toledo perez luis                    3\n",
       "solano lopez jorge alberto           2\n",
       "tolentino jacome librado anselmo     2\n",
       "ortega martinez erik                 2\n",
       "gonzalez almazan adan                2\n",
       "moreno galindo hugo                  2\n",
       "gonzalez rosas javier concepcion     2\n",
       "Name: Nombre_Comp, dtype: int64"
      ]
     },
     "execution_count": 444,
     "metadata": {},
     "output_type": "execute_result"
    }
   ],
   "source": [
    "C4['Nombre_Comp'].value_counts().head(20)"
   ]
  },
  {
   "cell_type": "code",
   "execution_count": 445,
   "metadata": {},
   "outputs": [
    {
     "data": {
      "text/plain": [
       "2022-02-25 04:15:00    1\n",
       "2022-02-25 02:47:00    1\n",
       "2022-02-25 02:27:00    1\n",
       "2022-02-25 03:41:00    1\n",
       "2022-02-25 03:59:00    1\n",
       "2022-02-25 05:14:00    1\n",
       "2022-02-25 07:30:00    1\n",
       "2022-02-25 02:58:00    1\n",
       "2022-02-25 02:17:00    1\n",
       "2022-02-25 08:14:00    1\n",
       "2022-02-25 04:53:00    1\n",
       "2022-02-25 06:07:00    1\n",
       "2022-02-25 02:44:00    1\n",
       "2022-02-25 05:57:00    1\n",
       "2022-02-25 02:25:00    1\n",
       "2022-02-25 03:46:00    1\n",
       "2022-02-25 13:58:00    1\n",
       "2022-02-25 12:56:00    1\n",
       "2022-02-25 03:31:00    1\n",
       "2022-02-25 02:29:00    1\n",
       "2022-02-25 02:38:00    1\n",
       "2022-02-25 05:54:00    1\n",
       "2022-02-25 02:45:00    1\n",
       "2022-02-25 02:18:00    1\n",
       "2022-02-25 07:26:00    1\n",
       "2022-02-25 04:02:00    1\n",
       "2022-02-25 01:58:00    1\n",
       "2022-02-25 04:47:00    1\n",
       "2022-02-25 03:45:00    1\n",
       "2022-02-25 05:43:00    1\n",
       "Name: Duración de conducción, dtype: int64"
      ]
     },
     "execution_count": 445,
     "metadata": {},
     "output_type": "execute_result"
    }
   ],
   "source": [
    "C4['Duración de conducción'].value_counts().tail(30)"
   ]
  },
  {
   "cell_type": "code",
   "execution_count": 446,
   "metadata": {},
   "outputs": [
    {
     "ename": "TypeError",
     "evalue": "unhashable type: 'list'",
     "output_type": "error",
     "traceback": [
      "\u001b[0;31m---------------------------------------------------------------------------\u001b[0m",
      "\u001b[0;31mTypeError\u001b[0m                                 Traceback (most recent call last)",
      "\u001b[0;32mpandas/_libs/hashtable_class_helper.pxi\u001b[0m in \u001b[0;36mpandas._libs.hashtable.PyObjectHashTable.map_locations\u001b[0;34m()\u001b[0m\n",
      "\u001b[0;31mTypeError\u001b[0m: unhashable type: 'list'"
     ]
    },
    {
     "name": "stderr",
     "output_type": "stream",
     "text": [
      "Exception ignored in: 'pandas._libs.index.IndexEngine._call_map_locations'\n",
      "Traceback (most recent call last):\n",
      "  File \"pandas/_libs/hashtable_class_helper.pxi\", line 5231, in pandas._libs.hashtable.PyObjectHashTable.map_locations\n",
      "TypeError: unhashable type: 'list'\n"
     ]
    },
    {
     "data": {
      "text/plain": [
       "[BPU, PTA, PUEBLA, BPU]                67\n",
       "[BMA, PTA, AZCAPOTZALCO, BMA, CDMX]    64\n",
       "[CDM, CDS, METROPOLITANO, CDMX]        24\n",
       "[BSL, PTA, SAN, LUIS, POTOSI, BSL]     17\n",
       "[CEVE, ACAPULCO, SAN, ISIDRO]          12\n",
       "[CEVE, ACAPULCO, DIAMANTE]              8\n",
       "[PTA, IRAPUATO]                         5\n",
       "[PTA, MONTERREY]                        2\n",
       "[PTA, MONTERREY, BODEGA]                1\n",
       "[BMS, PTA, STA, MARIA, BSM, CDMX]       1\n",
       "Name: Ubicación, dtype: int64"
      ]
     },
     "execution_count": 446,
     "metadata": {},
     "output_type": "execute_result"
    }
   ],
   "source": [
    "C4['Ubicación'].value_counts().head(20)"
   ]
  },
  {
   "cell_type": "markdown",
   "metadata": {},
   "source": [
    "## KPROTO-MODELO EXTRA"
   ]
  },
  {
   "cell_type": "code",
   "execution_count": 465,
   "metadata": {},
   "outputs": [],
   "source": [
    "filtro2 = ['Tipos de zonas de parada','Distancia','Velocidad máxima']\n",
    "df1 = df.filter(items = filtro2)"
   ]
  },
  {
   "cell_type": "code",
   "execution_count": 466,
   "metadata": {},
   "outputs": [],
   "source": [
    "categorical_features_idx = [0]\n",
    "mark_array=df1.values"
   ]
  },
  {
   "cell_type": "code",
   "execution_count": 467,
   "metadata": {},
   "outputs": [
    {
     "name": "stdout",
     "output_type": "stream",
     "text": [
      "Init: initializing centroids\n",
      "Init: initializing clusters\n",
      "Starting iterations...\n",
      "Run: 1, iteration: 1/20, moves: 5562, ncost: 8840929.358226633\n",
      "Run: 1, iteration: 2/20, moves: 2077, ncost: 8577696.68528645\n",
      "Run: 1, iteration: 3/20, moves: 1672, ncost: 8447102.364072494\n",
      "Run: 1, iteration: 4/20, moves: 1424, ncost: 8381087.754477837\n",
      "Run: 1, iteration: 5/20, moves: 2102, ncost: 8244191.3262838675\n",
      "Run: 1, iteration: 6/20, moves: 3373, ncost: 7007581.163748055\n",
      "Run: 1, iteration: 7/20, moves: 2635, ncost: 5653489.336164633\n",
      "Run: 1, iteration: 8/20, moves: 2079, ncost: 5227704.922952406\n",
      "Run: 1, iteration: 9/20, moves: 1345, ncost: 5150462.36621227\n",
      "Run: 1, iteration: 10/20, moves: 590, ncost: 5140330.337562742\n",
      "Run: 1, iteration: 11/20, moves: 247, ncost: 5138915.773988669\n",
      "Run: 1, iteration: 12/20, moves: 21, ncost: 5138847.475013854\n",
      "Run: 1, iteration: 13/20, moves: 0, ncost: 5138847.475013854\n",
      "Init: initializing centroids\n",
      "Init: initializing clusters\n",
      "Starting iterations...\n",
      "Run: 2, iteration: 1/20, moves: 5342, ncost: 8456133.540961731\n",
      "Run: 2, iteration: 2/20, moves: 1717, ncost: 8398958.26500609\n",
      "Run: 2, iteration: 3/20, moves: 1928, ncost: 8287312.7639721185\n",
      "Run: 2, iteration: 4/20, moves: 3255, ncost: 7513908.748602746\n",
      "Run: 2, iteration: 5/20, moves: 2838, ncost: 6026335.356484621\n",
      "Run: 2, iteration: 6/20, moves: 2183, ncost: 5328577.626468675\n",
      "Run: 2, iteration: 7/20, moves: 1587, ncost: 5163029.632206004\n",
      "Run: 2, iteration: 8/20, moves: 728, ncost: 5142067.191161273\n",
      "Run: 2, iteration: 9/20, moves: 352, ncost: 5138997.316586188\n",
      "Run: 2, iteration: 10/20, moves: 39, ncost: 5138848.98979704\n",
      "Run: 2, iteration: 11/20, moves: 3, ncost: 5138847.475013854\n",
      "Run: 2, iteration: 12/20, moves: 0, ncost: 5138847.475013854\n",
      "Init: initializing centroids\n",
      "Init: initializing clusters\n",
      "Starting iterations...\n",
      "Run: 3, iteration: 1/20, moves: 4203, ncost: 6037472.074021767\n",
      "Run: 3, iteration: 2/20, moves: 2568, ncost: 5343778.177474674\n",
      "Run: 3, iteration: 3/20, moves: 1772, ncost: 5168010.757966237\n",
      "Run: 3, iteration: 4/20, moves: 881, ncost: 5142464.622152372\n",
      "Run: 3, iteration: 5/20, moves: 397, ncost: 5139018.367446203\n",
      "Run: 3, iteration: 6/20, moves: 55, ncost: 5138848.98979704\n",
      "Run: 3, iteration: 7/20, moves: 3, ncost: 5138847.475013854\n",
      "Run: 3, iteration: 8/20, moves: 0, ncost: 5138847.475013854\n",
      "Init: initializing centroids\n",
      "Init: initializing clusters\n",
      "Starting iterations...\n",
      "Run: 4, iteration: 1/20, moves: 7420, ncost: 8355912.898765979\n",
      "Run: 4, iteration: 2/20, moves: 2340, ncost: 8246012.880158724\n",
      "Run: 4, iteration: 3/20, moves: 1837, ncost: 8153883.075774716\n",
      "Run: 4, iteration: 4/20, moves: 2525, ncost: 6994523.922252013\n",
      "Run: 4, iteration: 5/20, moves: 2953, ncost: 5727476.488537962\n",
      "Run: 4, iteration: 6/20, moves: 2465, ncost: 5255330.93718918\n",
      "Run: 4, iteration: 7/20, moves: 1549, ncost: 5158112.073568577\n",
      "Run: 4, iteration: 8/20, moves: 707, ncost: 5141572.2800166095\n",
      "Run: 4, iteration: 9/20, moves: 338, ncost: 5138965.364042516\n",
      "Run: 4, iteration: 10/20, moves: 31, ncost: 5138848.98979704\n",
      "Run: 4, iteration: 11/20, moves: 3, ncost: 5138847.475013854\n",
      "Run: 4, iteration: 12/20, moves: 0, ncost: 5138847.475013854\n",
      "Init: initializing centroids\n",
      "Init: initializing clusters\n",
      "Starting iterations...\n",
      "Run: 5, iteration: 1/20, moves: 4122, ncost: 8873568.596036494\n",
      "Run: 5, iteration: 2/20, moves: 3222, ncost: 8568034.997468296\n",
      "Run: 5, iteration: 3/20, moves: 1951, ncost: 8440167.016821949\n",
      "Run: 5, iteration: 4/20, moves: 1407, ncost: 8363927.754266983\n",
      "Run: 5, iteration: 5/20, moves: 2219, ncost: 8214785.340800932\n",
      "Run: 5, iteration: 6/20, moves: 3345, ncost: 6926656.58660375\n",
      "Run: 5, iteration: 7/20, moves: 2593, ncost: 5626586.908895066\n",
      "Run: 5, iteration: 8/20, moves: 2080, ncost: 5225025.879570209\n",
      "Run: 5, iteration: 9/20, moves: 1330, ncost: 5149173.825060782\n",
      "Run: 5, iteration: 10/20, moves: 579, ncost: 5140261.452983155\n",
      "Run: 5, iteration: 11/20, moves: 238, ncost: 5138915.773988669\n",
      "Run: 5, iteration: 12/20, moves: 21, ncost: 5138847.475013854\n",
      "Run: 5, iteration: 13/20, moves: 0, ncost: 5138847.475013854\n",
      "Init: initializing centroids\n",
      "Init: initializing clusters\n",
      "Init: initializing centroids\n",
      "Init: initializing clusters\n",
      "Starting iterations...\n",
      "Run: 6, iteration: 1/20, moves: 5777, ncost: 8901567.383100064\n",
      "Run: 6, iteration: 2/20, moves: 2789, ncost: 8633441.088937908\n",
      "Run: 6, iteration: 3/20, moves: 1842, ncost: 8463773.461945953\n",
      "Run: 6, iteration: 4/20, moves: 1249, ncost: 8394377.982143486\n",
      "Run: 6, iteration: 5/20, moves: 1917, ncost: 8274042.651464856\n",
      "Run: 6, iteration: 6/20, moves: 3264, ncost: 7381558.843869648\n",
      "Run: 6, iteration: 7/20, moves: 2829, ncost: 5857956.569218751\n",
      "Run: 6, iteration: 8/20, moves: 2153, ncost: 5279047.171879575\n",
      "Run: 6, iteration: 9/20, moves: 1472, ncost: 5156805.215907114\n",
      "Run: 6, iteration: 10/20, moves: 678, ncost: 5140927.27516639\n",
      "Run: 6, iteration: 11/20, moves: 293, ncost: 5138932.978521066\n",
      "Run: 6, iteration: 12/20, moves: 26, ncost: 5138847.475013854\n",
      "Run: 6, iteration: 13/20, moves: 0, ncost: 5138847.475013854\n",
      "Init: initializing centroids\n",
      "Init: initializing clusters\n",
      "Init: initializing centroids\n",
      "Init: initializing clusters\n",
      "Init: initializing centroids\n",
      "Init: initializing clusters\n",
      "Starting iterations...\n",
      "Run: 7, iteration: 1/20, moves: 3499, ncost: 5310105.674840765\n",
      "Run: 7, iteration: 2/20, moves: 1977, ncost: 5152457.925211611\n",
      "Run: 7, iteration: 3/20, moves: 778, ncost: 5139775.971985895\n",
      "Run: 7, iteration: 4/20, moves: 196, ncost: 5139044.471386205\n",
      "Run: 7, iteration: 5/20, moves: 20, ncost: 5138988.65030012\n",
      "Run: 7, iteration: 6/20, moves: 7, ncost: 5138980.132687767\n",
      "Run: 7, iteration: 7/20, moves: 0, ncost: 5138980.132687767\n",
      "Init: initializing centroids\n",
      "Init: initializing clusters\n",
      "Starting iterations...\n",
      "Run: 8, iteration: 1/20, moves: 7292, ncost: 6487589.135865082\n",
      "Run: 8, iteration: 2/20, moves: 4786, ncost: 5702658.867315668\n",
      "Run: 8, iteration: 3/20, moves: 3073, ncost: 5289526.359816678\n",
      "Run: 8, iteration: 4/20, moves: 1933, ncost: 5164397.951542787\n",
      "Run: 8, iteration: 5/20, moves: 913, ncost: 5142321.127640354\n",
      "Run: 8, iteration: 6/20, moves: 404, ncost: 5139019.55746762\n",
      "Run: 8, iteration: 7/20, moves: 56, ncost: 5138848.98979704\n",
      "Run: 8, iteration: 8/20, moves: 3, ncost: 5138847.475013854\n",
      "Run: 8, iteration: 9/20, moves: 0, ncost: 5138847.475013854\n",
      "Init: initializing centroids\n",
      "Init: initializing clusters\n",
      "Init: initializing centroids\n",
      "Init: initializing clusters\n",
      "Init: initializing centroids\n",
      "Init: initializing clusters\n",
      "Starting iterations...\n",
      "Run: 9, iteration: 1/20, moves: 6204, ncost: 8818821.962191809\n",
      "Run: 9, iteration: 2/20, moves: 1930, ncost: 8525079.817534477\n",
      "Run: 9, iteration: 3/20, moves: 1206, ncost: 8427920.980521575\n",
      "Run: 9, iteration: 4/20, moves: 1444, ncost: 8347580.808419994\n",
      "Run: 9, iteration: 5/20, moves: 2342, ncost: 8179543.133878144\n",
      "Run: 9, iteration: 6/20, moves: 3204, ncost: 6848965.48391284\n",
      "Run: 9, iteration: 7/20, moves: 2455, ncost: 5584066.783758031\n",
      "Run: 9, iteration: 8/20, moves: 2019, ncost: 5218695.867125943\n",
      "Run: 9, iteration: 9/20, moves: 1298, ncost: 5147909.829217043\n",
      "Run: 9, iteration: 10/20, moves: 545, ncost: 5139978.230559599\n",
      "Run: 9, iteration: 11/20, moves: 212, ncost: 5138897.777055363\n",
      "Run: 9, iteration: 12/20, moves: 18, ncost: 5138847.475013854\n",
      "Run: 9, iteration: 13/20, moves: 0, ncost: 5138847.475013854\n",
      "Init: initializing centroids\n",
      "Init: initializing clusters\n",
      "Init: initializing centroids\n",
      "Init: initializing clusters\n",
      "Init: initializing centroids\n",
      "Init: initializing clusters\n",
      "Init: initializing centroids\n",
      "Init: initializing clusters\n",
      "Init: initializing centroids\n",
      "Init: initializing clusters\n",
      "Starting iterations...\n",
      "Run: 10, iteration: 1/20, moves: 5771, ncost: 8511308.158422356\n",
      "Run: 10, iteration: 2/20, moves: 3705, ncost: 8330387.209816018\n",
      "Run: 10, iteration: 3/20, moves: 2477, ncost: 8241211.726020302\n",
      "Run: 10, iteration: 4/20, moves: 2375, ncost: 7962160.454049661\n",
      "Run: 10, iteration: 5/20, moves: 2870, ncost: 6687971.063991916\n",
      "Run: 10, iteration: 6/20, moves: 2819, ncost: 5600202.748174124\n",
      "Run: 10, iteration: 7/20, moves: 2273, ncost: 5233414.368786726\n",
      "Run: 10, iteration: 8/20, moves: 1423, ncost: 5151431.685496449\n",
      "Run: 10, iteration: 9/20, moves: 623, ncost: 5140538.499713988\n",
      "Run: 10, iteration: 10/20, moves: 265, ncost: 5138922.93374463\n",
      "Run: 10, iteration: 11/20, moves: 23, ncost: 5138847.475013854\n"
     ]
    },
    {
     "name": "stdout",
     "output_type": "stream",
     "text": [
      "Run: 10, iteration: 12/20, moves: 0, ncost: 5138847.475013854\n",
      "Best run was number 1\n"
     ]
    }
   ],
   "source": [
    "kproto = KPrototypes(n_clusters=4, verbose=2, max_iter=20).fit(mark_array, categorical=categorical_features_idx)"
   ]
  },
  {
   "cell_type": "code",
   "execution_count": 468,
   "metadata": {},
   "outputs": [
    {
     "name": "stdout",
     "output_type": "stream",
     "text": [
      "[['12.610205799097239' '54.67990207329202' 'PLANTAS y CEDIS']\n",
      " ['210.44278606965173' '85.20398009950249' 'PLANTAS y CEDIS']\n",
      " ['59.950367647058826' '81.85551470588236' 'PLANTAS y CEDIS']\n",
      " ['23.786297376093295' '71.81049562682216' 'PLANTAS y CEDIS']]\n"
     ]
    }
   ],
   "source": [
    "print(kproto.cluster_centroids_)"
   ]
  },
  {
   "cell_type": "code",
   "execution_count": 469,
   "metadata": {},
   "outputs": [],
   "source": [
    "clusters = kproto.predict(mark_array, categorical=categorical_features_idx)"
   ]
  },
  {
   "cell_type": "code",
   "execution_count": 470,
   "metadata": {},
   "outputs": [],
   "source": [
    "df['cluster_KP'] = list(clusters)"
   ]
  },
  {
   "cell_type": "markdown",
   "metadata": {},
   "source": [
    "### CLUSTER 0-LENTO"
   ]
  },
  {
   "cell_type": "code",
   "execution_count": 474,
   "metadata": {},
   "outputs": [],
   "source": [
    "c0 = df[df['cluster_KP']== 0]"
   ]
  },
  {
   "cell_type": "code",
   "execution_count": 476,
   "metadata": {},
   "outputs": [
    {
     "data": {
      "text/plain": [
       "13071"
      ]
     },
     "execution_count": 476,
     "metadata": {},
     "output_type": "execute_result"
    }
   ],
   "source": [
    "len(c0)"
   ]
  },
  {
   "cell_type": "code",
   "execution_count": 477,
   "metadata": {},
   "outputs": [
    {
     "data": {
      "text/plain": [
       "37"
      ]
     },
     "execution_count": 477,
     "metadata": {},
     "output_type": "execute_result"
    }
   ],
   "source": [
    "c0['Distancia'].max()"
   ]
  },
  {
   "cell_type": "code",
   "execution_count": 478,
   "metadata": {},
   "outputs": [
    {
     "data": {
      "text/plain": [
       "7"
      ]
     },
     "execution_count": 478,
     "metadata": {},
     "output_type": "execute_result"
    }
   ],
   "source": [
    "c0['Distancia'].min()"
   ]
  },
  {
   "cell_type": "code",
   "execution_count": 479,
   "metadata": {},
   "outputs": [
    {
     "data": {
      "text/plain": [
       "FV054993    1027\n",
       "FV040868     990\n",
       "FV040860     848\n",
       "FV040850     820\n",
       "FV040849     753\n",
       "FV040861     638\n",
       "FV040856     583\n",
       "FV040853     532\n",
       "FV040854     518\n",
       "FV054995     509\n",
       "FV054990     443\n",
       "FV040859     437\n",
       "FV054979     350\n",
       "FV054160     329\n",
       "FV040851     327\n",
       "FV054989     276\n",
       "FV054982     259\n",
       "FV054983     247\n",
       "FV054994     242\n",
       "FV054980     239\n",
       "Name: Dispositivo, dtype: int64"
      ]
     },
     "execution_count": 479,
     "metadata": {},
     "output_type": "execute_result"
    }
   ],
   "source": [
    "c0['Dispositivo'].value_counts().head(20)"
   ]
  },
  {
   "cell_type": "code",
   "execution_count": 480,
   "metadata": {},
   "outputs": [
    {
     "data": {
      "text/plain": [
       "pablo adrian ramirez exiga          856\n",
       "de la cruz marin vicente dt         754\n",
       "sanchez andres lucas erasto         564\n",
       "solano lopez jorge alberto          538\n",
       "angel giovanni hernandez trejo      500\n",
       "perez hernandez gerardo             401\n",
       "ramirez barrera rodrigo             386\n",
       "oscarr luna tapia                   367\n",
       "martinez ramirez rodolfo            365\n",
       "munoz oviedo isaias                 353\n",
       "gonzalez gonzalez jose guadalupe    349\n",
       "hernandez perez alejandro           342\n",
       "ponce serrano abraham               335\n",
       "cesar mendoza godinez               312\n",
       "juan marquez jorge                  291\n",
       "lopez sanchez felipe                290\n",
       "arcos arias armando                 281\n",
       "torres diaz nahum                   273\n",
       "gonzalez ortega luis angel          270\n",
       "gonzalocampos cortes                269\n",
       "Name: Nombre_Comp, dtype: int64"
      ]
     },
     "execution_count": 480,
     "metadata": {},
     "output_type": "execute_result"
    }
   ],
   "source": [
    "c0['Nombre_Comp'].value_counts().head(20)"
   ]
  },
  {
   "cell_type": "code",
   "execution_count": 481,
   "metadata": {},
   "outputs": [
    {
     "data": {
      "text/plain": [
       "2022-02-25 01:57:00    4\n",
       "2022-02-25 02:08:00    4\n",
       "2022-02-25 01:50:00    4\n",
       "2022-02-25 01:49:00    4\n",
       "2022-02-25 02:03:00    3\n",
       "2022-02-25 01:59:00    3\n",
       "2022-02-25 02:20:00    3\n",
       "2022-02-25 02:02:00    3\n",
       "2022-02-25 02:22:00    2\n",
       "2022-02-25 02:21:00    2\n",
       "2022-02-25 02:25:00    2\n",
       "2022-02-25 02:15:00    2\n",
       "2022-02-25 02:34:00    2\n",
       "2022-02-25 02:09:00    2\n",
       "2022-02-25 02:32:00    1\n",
       "2022-02-25 02:01:00    1\n",
       "2022-02-25 02:30:00    1\n",
       "2022-02-25 02:41:00    1\n",
       "2022-02-25 02:17:00    1\n",
       "2022-02-25 03:02:00    1\n",
       "2022-02-25 02:00:00    1\n",
       "2022-02-25 02:05:00    1\n",
       "2022-02-25 02:46:00    1\n",
       "2022-02-25 02:16:00    1\n",
       "2022-02-25 02:10:00    1\n",
       "2022-02-25 02:59:00    1\n",
       "2022-02-25 01:58:00    1\n",
       "2022-02-25 02:24:00    1\n",
       "2022-02-25 02:33:00    1\n",
       "2022-02-25 02:28:00    1\n",
       "Name: Duración de conducción, dtype: int64"
      ]
     },
     "execution_count": 481,
     "metadata": {},
     "output_type": "execute_result"
    }
   ],
   "source": [
    "c0['Duración de conducción'].value_counts().tail(30)"
   ]
  },
  {
   "cell_type": "code",
   "execution_count": 482,
   "metadata": {},
   "outputs": [
    {
     "ename": "TypeError",
     "evalue": "unhashable type: 'list'",
     "output_type": "error",
     "traceback": [
      "\u001b[0;31m---------------------------------------------------------------------------\u001b[0m",
      "\u001b[0;31mTypeError\u001b[0m                                 Traceback (most recent call last)",
      "\u001b[0;32mpandas/_libs/hashtable_class_helper.pxi\u001b[0m in \u001b[0;36mpandas._libs.hashtable.PyObjectHashTable.map_locations\u001b[0;34m()\u001b[0m\n",
      "\u001b[0;31mTypeError\u001b[0m: unhashable type: 'list'"
     ]
    },
    {
     "name": "stderr",
     "output_type": "stream",
     "text": [
      "Exception ignored in: 'pandas._libs.index.IndexEngine._call_map_locations'\n",
      "Traceback (most recent call last):\n",
      "  File \"pandas/_libs/hashtable_class_helper.pxi\", line 5231, in pandas._libs.hashtable.PyObjectHashTable.map_locations\n",
      "TypeError: unhashable type: 'list'\n"
     ]
    },
    {
     "data": {
      "text/plain": [
       "[BMA, PTA, AZCAPOTZALCO, BMA, CDMX]    5577\n",
       "[BMS, PTA, STA, MARIA, BSM, CDMX]      2970\n",
       "[CEVE, NAUCALPAN]                       840\n",
       "[CDS, SAN, ANTONIO, CDMX]               594\n",
       "[CEVE, IZTAPALAPA, CDMX]                327\n",
       "[CDM, CDS, METROPOLITANO, CDMX]         318\n",
       "[CEVE, ATIZAPAN]                        302\n",
       "[CEVE, TULTITLAN]                       225\n",
       "[CEVE, XALOSTOC]                        218\n",
       "[CEVE, VILLA, CDMX]                     209\n",
       "[CEVE, CEYLAN]                          151\n",
       "[CEVE, SAN, JUAN]                       141\n",
       "[CEVE, SAN, LORENZO, CDMX]              131\n",
       "[CEVE, CENTENARIO, CDMX]                129\n",
       "[CEVE, CUAUTITLAN]                       90\n",
       "[CEVE, TEPALCATES, CDMX]                 87\n",
       "[CEVE, VALLEJO, CDMX]                    84\n",
       "[CEVE, CENTRO, CDMX]                     80\n",
       "[CEVE, ROJO, GOMEZ, CDMX]                77\n",
       "[CEVE, COACALCO]                         77\n",
       "Name: Ubicación, dtype: int64"
      ]
     },
     "execution_count": 482,
     "metadata": {},
     "output_type": "execute_result"
    }
   ],
   "source": [
    "c0['Ubicación'].value_counts().head(20)"
   ]
  },
  {
   "cell_type": "markdown",
   "metadata": {},
   "source": [
    "### CLUSTER 1-MUY RÁPIDO"
   ]
  },
  {
   "cell_type": "code",
   "execution_count": 483,
   "metadata": {},
   "outputs": [],
   "source": [
    "c1 = df[df['cluster_KP']== 1]"
   ]
  },
  {
   "cell_type": "code",
   "execution_count": 484,
   "metadata": {},
   "outputs": [
    {
     "data": {
      "text/plain": [
       "201"
      ]
     },
     "execution_count": 484,
     "metadata": {},
     "output_type": "execute_result"
    }
   ],
   "source": [
    "len(c1)"
   ]
  },
  {
   "cell_type": "code",
   "execution_count": 485,
   "metadata": {},
   "outputs": [
    {
     "data": {
      "text/plain": [
       "914"
      ]
     },
     "execution_count": 485,
     "metadata": {},
     "output_type": "execute_result"
    }
   ],
   "source": [
    "c1['Distancia'].max()"
   ]
  },
  {
   "cell_type": "code",
   "execution_count": 486,
   "metadata": {},
   "outputs": [
    {
     "data": {
      "text/plain": [
       "136"
      ]
     },
     "execution_count": 486,
     "metadata": {},
     "output_type": "execute_result"
    }
   ],
   "source": [
    "c1['Distancia'].min()"
   ]
  },
  {
   "cell_type": "code",
   "execution_count": 487,
   "metadata": {},
   "outputs": [
    {
     "data": {
      "text/plain": [
       "FV023827    43\n",
       "FV023808    34\n",
       "FV054132    17\n",
       "FV018461    14\n",
       "FV054137    11\n",
       "FV017793     9\n",
       "FV054138     8\n",
       "FV023833     7\n",
       "FV017792     7\n",
       "FV040856     6\n",
       "FV023789     6\n",
       "FV023820     5\n",
       "FV023786     5\n",
       "FV055559     5\n",
       "FV023819     4\n",
       "FV023814     4\n",
       "FV055558     3\n",
       "FV054134     2\n",
       "FV022051     2\n",
       "FV054160     2\n",
       "Name: Dispositivo, dtype: int64"
      ]
     },
     "execution_count": 487,
     "metadata": {},
     "output_type": "execute_result"
    }
   ],
   "source": [
    "c1['Dispositivo'].value_counts().head(20)"
   ]
  },
  {
   "cell_type": "code",
   "execution_count": 488,
   "metadata": {},
   "outputs": [
    {
     "data": {
      "text/plain": [
       "paredes albarran jose luis          48\n",
       "becerril mendoza jose alfredo       40\n",
       "genarocruz baena                    19\n",
       "garcia zamudio jorge                15\n",
       "cruz duran abel                     14\n",
       "salas maldonado luis martin         12\n",
       "ortiz oropeza omar damian            9\n",
       "garcia arzate sergio                 5\n",
       "vergara miranda raul                 5\n",
       "martinez marcial rafael              4\n",
       "badillo cortes jose luis             4\n",
       "hernandez franco jorge oscar         3\n",
       "de la cruz campos rey                3\n",
       "toledo perez luis                    3\n",
       "solano lopez jorge alberto           2\n",
       "tolentino jacome librado anselmo     2\n",
       "ortega martinez erik                 2\n",
       "gonzalez almazan adan                2\n",
       "moreno galindo hugo                  2\n",
       "gonzalez rosas javier concepcion     2\n",
       "Name: Nombre_Comp, dtype: int64"
      ]
     },
     "execution_count": 488,
     "metadata": {},
     "output_type": "execute_result"
    }
   ],
   "source": [
    "c1['Nombre_Comp'].value_counts().head(20)"
   ]
  },
  {
   "cell_type": "code",
   "execution_count": 489,
   "metadata": {},
   "outputs": [
    {
     "data": {
      "text/plain": [
       "2022-02-25 04:15:00    1\n",
       "2022-02-25 02:47:00    1\n",
       "2022-02-25 02:27:00    1\n",
       "2022-02-25 03:41:00    1\n",
       "2022-02-25 03:59:00    1\n",
       "2022-02-25 05:14:00    1\n",
       "2022-02-25 07:30:00    1\n",
       "2022-02-25 02:58:00    1\n",
       "2022-02-25 02:17:00    1\n",
       "2022-02-25 08:14:00    1\n",
       "2022-02-25 04:53:00    1\n",
       "2022-02-25 06:07:00    1\n",
       "2022-02-25 02:44:00    1\n",
       "2022-02-25 05:57:00    1\n",
       "2022-02-25 02:25:00    1\n",
       "2022-02-25 03:46:00    1\n",
       "2022-02-25 13:58:00    1\n",
       "2022-02-25 12:56:00    1\n",
       "2022-02-25 03:31:00    1\n",
       "2022-02-25 02:29:00    1\n",
       "2022-02-25 02:38:00    1\n",
       "2022-02-25 05:54:00    1\n",
       "2022-02-25 02:45:00    1\n",
       "2022-02-25 02:18:00    1\n",
       "2022-02-25 07:26:00    1\n",
       "2022-02-25 04:02:00    1\n",
       "2022-02-25 01:58:00    1\n",
       "2022-02-25 04:47:00    1\n",
       "2022-02-25 03:45:00    1\n",
       "2022-02-25 05:43:00    1\n",
       "Name: Duración de conducción, dtype: int64"
      ]
     },
     "execution_count": 489,
     "metadata": {},
     "output_type": "execute_result"
    }
   ],
   "source": [
    "c1['Duración de conducción'].value_counts().tail(30)"
   ]
  },
  {
   "cell_type": "code",
   "execution_count": 490,
   "metadata": {},
   "outputs": [
    {
     "ename": "TypeError",
     "evalue": "unhashable type: 'list'",
     "output_type": "error",
     "traceback": [
      "\u001b[0;31m---------------------------------------------------------------------------\u001b[0m",
      "\u001b[0;31mTypeError\u001b[0m                                 Traceback (most recent call last)",
      "\u001b[0;32mpandas/_libs/hashtable_class_helper.pxi\u001b[0m in \u001b[0;36mpandas._libs.hashtable.PyObjectHashTable.map_locations\u001b[0;34m()\u001b[0m\n",
      "\u001b[0;31mTypeError\u001b[0m: unhashable type: 'list'"
     ]
    },
    {
     "name": "stderr",
     "output_type": "stream",
     "text": [
      "Exception ignored in: 'pandas._libs.index.IndexEngine._call_map_locations'\n",
      "Traceback (most recent call last):\n",
      "  File \"pandas/_libs/hashtable_class_helper.pxi\", line 5231, in pandas._libs.hashtable.PyObjectHashTable.map_locations\n",
      "TypeError: unhashable type: 'list'\n"
     ]
    },
    {
     "data": {
      "text/plain": [
       "[BPU, PTA, PUEBLA, BPU]                67\n",
       "[BMA, PTA, AZCAPOTZALCO, BMA, CDMX]    64\n",
       "[CDM, CDS, METROPOLITANO, CDMX]        24\n",
       "[BSL, PTA, SAN, LUIS, POTOSI, BSL]     17\n",
       "[CEVE, ACAPULCO, SAN, ISIDRO]          12\n",
       "[CEVE, ACAPULCO, DIAMANTE]              8\n",
       "[PTA, IRAPUATO]                         5\n",
       "[PTA, MONTERREY]                        2\n",
       "[PTA, MONTERREY, BODEGA]                1\n",
       "[BMS, PTA, STA, MARIA, BSM, CDMX]       1\n",
       "Name: Ubicación, dtype: int64"
      ]
     },
     "execution_count": 490,
     "metadata": {},
     "output_type": "execute_result"
    }
   ],
   "source": [
    "c1['Ubicación'].value_counts().head(20)"
   ]
  },
  {
   "cell_type": "markdown",
   "metadata": {},
   "source": [
    "### CLUSTER 2-RÁPIDO"
   ]
  },
  {
   "cell_type": "code",
   "execution_count": 491,
   "metadata": {},
   "outputs": [],
   "source": [
    "c2 = df[df['cluster_KP']== 2]"
   ]
  },
  {
   "cell_type": "code",
   "execution_count": 492,
   "metadata": {},
   "outputs": [
    {
     "data": {
      "text/plain": [
       "2720"
      ]
     },
     "execution_count": 492,
     "metadata": {},
     "output_type": "execute_result"
    }
   ],
   "source": [
    "len(c2)"
   ]
  },
  {
   "cell_type": "code",
   "execution_count": 493,
   "metadata": {},
   "outputs": [
    {
     "data": {
      "text/plain": [
       "133"
      ]
     },
     "execution_count": 493,
     "metadata": {},
     "output_type": "execute_result"
    }
   ],
   "source": [
    "c2['Distancia'].max()"
   ]
  },
  {
   "cell_type": "code",
   "execution_count": 494,
   "metadata": {},
   "outputs": [
    {
     "data": {
      "text/plain": [
       "40"
      ]
     },
     "execution_count": 494,
     "metadata": {},
     "output_type": "execute_result"
    }
   ],
   "source": [
    "c2['Distancia'].min()"
   ]
  },
  {
   "cell_type": "code",
   "execution_count": 495,
   "metadata": {},
   "outputs": [
    {
     "data": {
      "text/plain": [
       "FV040856    282\n",
       "FV040860    213\n",
       "FV054134    193\n",
       "FV054159    177\n",
       "FV054137    174\n",
       "FV054132    126\n",
       "FV018461    101\n",
       "FV023793     98\n",
       "FV017793     89\n",
       "FV054138     87\n",
       "FV040853     74\n",
       "FV040859     74\n",
       "FV054986     74\n",
       "FV017792     67\n",
       "FV023827     59\n",
       "FV023828     53\n",
       "FV023820     50\n",
       "FV023833     48\n",
       "FV054982     46\n",
       "FV023808     41\n",
       "Name: Dispositivo, dtype: int64"
      ]
     },
     "execution_count": 495,
     "metadata": {},
     "output_type": "execute_result"
    }
   ],
   "source": [
    "c2['Dispositivo'].value_counts().head(20)"
   ]
  },
  {
   "cell_type": "code",
   "execution_count": 496,
   "metadata": {},
   "outputs": [
    {
     "data": {
      "text/plain": [
       "caballero castaneda jesus cirilo     181\n",
       "solano lopez jorge alberto           161\n",
       "hernandez moreno fernando horacio    144\n",
       "garcia garcia sergio                 117\n",
       "maldonado verde roberto carlos       116\n",
       "ponce serrano abraham                 98\n",
       "badillo cortes jose luis              94\n",
       "salas maldonado luis martin           91\n",
       "antonio diaz mario                    89\n",
       "romero lopez edgar                    88\n",
       "de la cruz campos rey                 84\n",
       "maldonado moreno saul                 80\n",
       "antonio galindo fidel                 77\n",
       "martinez toledo jorge alberto         74\n",
       "munoz oviedo isaias                   65\n",
       "santillan rivas j jesus               63\n",
       "ortiz oropeza omar damian             57\n",
       "villasana vite benito                 50\n",
       "ruiz martinez jose juan               48\n",
       "paredes albarran jose luis            45\n",
       "Name: Nombre_Comp, dtype: int64"
      ]
     },
     "execution_count": 496,
     "metadata": {},
     "output_type": "execute_result"
    }
   ],
   "source": [
    "c2['Nombre_Comp'].value_counts().head(20)"
   ]
  },
  {
   "cell_type": "code",
   "execution_count": 497,
   "metadata": {},
   "outputs": [
    {
     "data": {
      "text/plain": [
       "2022-02-25 02:40:00    2\n",
       "2022-02-25 03:04:00    2\n",
       "2022-02-25 02:58:00    2\n",
       "2022-02-25 02:57:00    2\n",
       "2022-02-25 02:31:00    2\n",
       "2022-02-25 03:07:00    2\n",
       "2022-02-25 03:12:00    1\n",
       "2022-02-25 03:22:00    1\n",
       "2022-02-25 03:24:00    1\n",
       "2022-02-25 02:59:00    1\n",
       "2022-02-25 03:47:00    1\n",
       "2022-02-25 03:08:00    1\n",
       "2022-02-25 02:51:00    1\n",
       "2022-02-25 00:40:00    1\n",
       "2022-02-25 04:01:00    1\n",
       "2022-02-25 02:38:00    1\n",
       "2022-02-25 03:13:00    1\n",
       "2022-02-25 02:39:00    1\n",
       "2022-02-25 03:00:00    1\n",
       "2022-02-25 03:26:00    1\n",
       "2022-02-25 02:41:00    1\n",
       "2022-02-25 03:05:00    1\n",
       "2022-02-25 03:02:00    1\n",
       "2022-02-25 03:50:00    1\n",
       "2022-02-25 02:54:00    1\n",
       "2022-02-25 03:57:00    1\n",
       "2022-02-25 02:47:00    1\n",
       "2022-02-25 03:10:00    1\n",
       "2022-02-25 02:30:00    1\n",
       "2022-02-25 03:35:00    1\n",
       "Name: Duración de conducción, dtype: int64"
      ]
     },
     "execution_count": 497,
     "metadata": {},
     "output_type": "execute_result"
    }
   ],
   "source": [
    "c2['Duración de conducción'].value_counts().tail(30)"
   ]
  },
  {
   "cell_type": "code",
   "execution_count": 498,
   "metadata": {},
   "outputs": [
    {
     "ename": "TypeError",
     "evalue": "unhashable type: 'list'",
     "output_type": "error",
     "traceback": [
      "\u001b[0;31m---------------------------------------------------------------------------\u001b[0m",
      "\u001b[0;31mTypeError\u001b[0m                                 Traceback (most recent call last)",
      "\u001b[0;32mpandas/_libs/hashtable_class_helper.pxi\u001b[0m in \u001b[0;36mpandas._libs.hashtable.PyObjectHashTable.map_locations\u001b[0;34m()\u001b[0m\n",
      "\u001b[0;31mTypeError\u001b[0m: unhashable type: 'list'"
     ]
    },
    {
     "name": "stderr",
     "output_type": "stream",
     "text": [
      "Exception ignored in: 'pandas._libs.index.IndexEngine._call_map_locations'\n",
      "Traceback (most recent call last):\n",
      "  File \"pandas/_libs/hashtable_class_helper.pxi\", line 5231, in pandas._libs.hashtable.PyObjectHashTable.map_locations\n",
      "TypeError: unhashable type: 'list'\n"
     ]
    },
    {
     "data": {
      "text/plain": [
       "[BMA, PTA, AZCAPOTZALCO, BMA, CDMX]    1279\n",
       "[CEVE, CHALCO]                          167\n",
       "[BTJ, PTA, TEPEJI]                      165\n",
       "[CEVE, TIZAYUCA]                        139\n",
       "[BMS, PTA, STA, MARIA, BSM, CDMX]       115\n",
       "[PTA, TOLUCA, TIA, ROSA]                112\n",
       "[CEVE, TEXCOCO]                         100\n",
       "[PTA, TOLUCA]                            87\n",
       "[CEVE, CUERNAVACA, BUENAVISTA]           64\n",
       "[CEVE, TEPEJI, DEL, RIO]                 60\n",
       "[CEVE, IXTAPALUCA]                       60\n",
       "[BPU, PTA, PUEBLA, BPU]                  51\n",
       "[CEVE, IZTAPALAPA, CDMX]                 50\n",
       "[CDM, CDS, METROPOLITANO, CDMX]          41\n",
       "[CEVE, XOCHIMILCO, CDMX]                 37\n",
       "[CEVE, TULTITLAN]                        22\n",
       "[BMA, PTA, AZCAPOTZALCO, BMA]            22\n",
       "[CEVE, TEPALCATES, CDMX]                 19\n",
       "[CEVE, LOS, REYES]                       19\n",
       "[CEVE, CUERNAVACA, CIVAC]                16\n",
       "Name: Ubicación, dtype: int64"
      ]
     },
     "execution_count": 498,
     "metadata": {},
     "output_type": "execute_result"
    }
   ],
   "source": [
    "c2['Ubicación'].value_counts().head(20)"
   ]
  },
  {
   "cell_type": "markdown",
   "metadata": {},
   "source": [
    "### CLUSTER 3-MODERADO"
   ]
  },
  {
   "cell_type": "code",
   "execution_count": 499,
   "metadata": {},
   "outputs": [],
   "source": [
    "c3 = df[df['cluster_KP']== 3]"
   ]
  },
  {
   "cell_type": "code",
   "execution_count": 500,
   "metadata": {},
   "outputs": [
    {
     "data": {
      "text/plain": [
       "10290"
      ]
     },
     "execution_count": 500,
     "metadata": {},
     "output_type": "execute_result"
    }
   ],
   "source": [
    "len(c3)"
   ]
  },
  {
   "cell_type": "code",
   "execution_count": 501,
   "metadata": {},
   "outputs": [
    {
     "data": {
      "text/plain": [
       "47"
      ]
     },
     "execution_count": 501,
     "metadata": {},
     "output_type": "execute_result"
    }
   ],
   "source": [
    "c3['Distancia'].max()"
   ]
  },
  {
   "cell_type": "code",
   "execution_count": 502,
   "metadata": {},
   "outputs": [
    {
     "data": {
      "text/plain": [
       "7"
      ]
     },
     "execution_count": 502,
     "metadata": {},
     "output_type": "execute_result"
    }
   ],
   "source": [
    "c3['Distancia'].min()"
   ]
  },
  {
   "cell_type": "code",
   "execution_count": 503,
   "metadata": {},
   "outputs": [
    {
     "data": {
      "text/plain": [
       "FV040856    911\n",
       "FV040860    687\n",
       "FV040849    664\n",
       "FV040853    661\n",
       "FV040850    611\n",
       "FV040859    557\n",
       "FV040854    481\n",
       "FV040861    428\n",
       "FV040868    372\n",
       "FV040851    274\n",
       "FV054982    243\n",
       "FV054983    234\n",
       "FV054984    229\n",
       "FV008908    224\n",
       "FV054987    200\n",
       "FV054990    175\n",
       "FV054980    171\n",
       "FV054994    159\n",
       "FV054986    157\n",
       "FV054992    146\n",
       "Name: Dispositivo, dtype: int64"
      ]
     },
     "execution_count": 503,
     "metadata": {},
     "output_type": "execute_result"
    }
   ],
   "source": [
    "c3['Dispositivo'].value_counts().head(20)"
   ]
  },
  {
   "cell_type": "code",
   "execution_count": 504,
   "metadata": {},
   "outputs": [
    {
     "data": {
      "text/plain": [
       "ponce serrano abraham               733\n",
       "caballero castaneda jesus cirilo    445\n",
       "perez hernandez gerardo             422\n",
       "aguilar banuelos jose felix         390\n",
       "munoz oviedo isaias                 368\n",
       "sanchez andres lucas erasto         316\n",
       "gonzalez ortega luis angel          313\n",
       "gonzalez gonzalez jose guadalupe    294\n",
       "arcos arias armando                 288\n",
       "oscarr luna tapia                   287\n",
       "lozano lopez rodolfo                273\n",
       "pablo adrian ramirez exiga          270\n",
       "aaron antonio flores gonzalez       264\n",
       "raymundo mora loyola                242\n",
       "ramirez barrera rodrigo             201\n",
       "solano lopez jorge alberto          200\n",
       "malaga dominguez victor manuel      199\n",
       "lopez sanchez felipe                196\n",
       "adolfo rafael santiago marquina     176\n",
       "martinez ramirez rodolfo            165\n",
       "Name: Nombre_Comp, dtype: int64"
      ]
     },
     "execution_count": 504,
     "metadata": {},
     "output_type": "execute_result"
    }
   ],
   "source": [
    "c3['Nombre_Comp'].value_counts().head(20)"
   ]
  },
  {
   "cell_type": "code",
   "execution_count": 505,
   "metadata": {},
   "outputs": [
    {
     "data": {
      "text/plain": [
       "2022-02-25 02:07:00    5\n",
       "2022-02-25 01:59:00    5\n",
       "2022-02-25 02:20:00    4\n",
       "2022-02-25 02:09:00    4\n",
       "2022-02-25 02:02:00    3\n",
       "2022-02-25 02:12:00    3\n",
       "2022-02-25 02:01:00    3\n",
       "2022-02-25 02:13:00    3\n",
       "2022-02-25 02:23:00    3\n",
       "2022-02-25 02:25:00    3\n",
       "2022-02-25 02:11:00    3\n",
       "2022-02-25 02:33:00    2\n",
       "2022-02-25 02:26:00    2\n",
       "2022-02-25 02:16:00    2\n",
       "2022-02-25 02:15:00    2\n",
       "2022-02-25 02:36:00    2\n",
       "2022-02-25 02:32:00    2\n",
       "2022-02-25 02:21:00    2\n",
       "2022-02-25 02:52:00    1\n",
       "2022-02-25 02:51:00    1\n",
       "2022-02-25 02:48:00    1\n",
       "2022-02-25 03:02:00    1\n",
       "2022-02-25 02:47:00    1\n",
       "2022-02-25 04:04:00    1\n",
       "2022-02-25 02:39:00    1\n",
       "2022-02-25 02:19:00    1\n",
       "2022-02-25 02:54:00    1\n",
       "2022-02-25 03:28:00    1\n",
       "2022-02-25 02:27:00    1\n",
       "2022-02-25 03:23:00    1\n",
       "Name: Duración de conducción, dtype: int64"
      ]
     },
     "execution_count": 505,
     "metadata": {},
     "output_type": "execute_result"
    }
   ],
   "source": [
    "c3['Duración de conducción'].value_counts().tail(30)"
   ]
  },
  {
   "cell_type": "code",
   "execution_count": 506,
   "metadata": {},
   "outputs": [
    {
     "ename": "TypeError",
     "evalue": "unhashable type: 'list'",
     "output_type": "error",
     "traceback": [
      "\u001b[0;31m---------------------------------------------------------------------------\u001b[0m",
      "\u001b[0;31mTypeError\u001b[0m                                 Traceback (most recent call last)",
      "\u001b[0;32mpandas/_libs/hashtable_class_helper.pxi\u001b[0m in \u001b[0;36mpandas._libs.hashtable.PyObjectHashTable.map_locations\u001b[0;34m()\u001b[0m\n",
      "\u001b[0;31mTypeError\u001b[0m: unhashable type: 'list'"
     ]
    },
    {
     "name": "stderr",
     "output_type": "stream",
     "text": [
      "Exception ignored in: 'pandas._libs.index.IndexEngine._call_map_locations'\n",
      "Traceback (most recent call last):\n",
      "  File \"pandas/_libs/hashtable_class_helper.pxi\", line 5231, in pandas._libs.hashtable.PyObjectHashTable.map_locations\n",
      "TypeError: unhashable type: 'list'\n"
     ]
    },
    {
     "data": {
      "text/plain": [
       "[BMA, PTA, AZCAPOTZALCO, BMA, CDMX]    3639\n",
       "[BMS, PTA, STA, MARIA, BSM, CDMX]      1807\n",
       "[CEVE, IZTAPALAPA, CDMX]                633\n",
       "[CEVE, CENTENARIO, CDMX]                432\n",
       "[CEVE, TULTITLAN]                       418\n",
       "[CEVE, TEPOTZOTLAN]                     319\n",
       "[CDS, STA, CLARA]                       307\n",
       "[CEVE, SAN, JUAN]                       246\n",
       "[CEVE, XALOSTOC]                        228\n",
       "[CEVE, STA, CLARA]                      217\n",
       "[CEVE, SAN, LORENZO, CDMX]              197\n",
       "[CEVE, COACALCO]                        184\n",
       "[CEVE, CUAUTITLAN]                      180\n",
       "[CEVE, LOS, REYES]                      176\n",
       "[CEVE, ROJO, GOMEZ, CDMX]               172\n",
       "[CDS, SAN, ANTONIO, CDMX]               131\n",
       "[CEVE, TEPALCATES, CDMX]                124\n",
       "[CEVE, XOCHIMILCO, CDMX]                109\n",
       "[BMA, PTA, AZCAPOTZALCO, BMA]           104\n",
       "[CEVE, TEXCOCO]                          86\n",
       "Name: Ubicación, dtype: int64"
      ]
     },
     "execution_count": 506,
     "metadata": {},
     "output_type": "execute_result"
    }
   ],
   "source": [
    "c3['Ubicación'].value_counts().head(20)"
   ]
  }
 ],
 "metadata": {
  "colab": {
   "name": "AnálisisBimbo.ipynb",
   "provenance": []
  },
  "kernelspec": {
   "display_name": "Python 3 (ipykernel)",
   "language": "python",
   "name": "python3"
  },
  "language_info": {
   "codemirror_mode": {
    "name": "ipython",
    "version": 3
   },
   "file_extension": ".py",
   "mimetype": "text/x-python",
   "name": "python",
   "nbconvert_exporter": "python",
   "pygments_lexer": "ipython3",
   "version": "3.9.7"
  }
 },
 "nbformat": 4,
 "nbformat_minor": 1
}
